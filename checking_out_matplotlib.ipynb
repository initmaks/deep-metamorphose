{
 "cells": [
  {
   "cell_type": "code",
   "execution_count": null,
   "metadata": {},
   "outputs": [],
   "source": [
    "'''\n",
    "==============\n",
    "3D scatterplot\n",
    "==============\n",
    "\n",
    "Demonstration of a basic scatterplot in 3D.\n",
    "'''\n",
    "\n",
    "# %matplotlib notebook\n",
    "\n",
    "from mpl_toolkits.mplot3d import Axes3D\n",
    "import matplotlib.pyplot as plt\n",
    "import numpy as np\n",
    "fig = plt.figure(figsize=(2,2))\n",
    "ax = Axes3D(fig)\n",
    "\n",
    "for _ in range(50):\n",
    "    x,y,z = 1.0, *np.random.rand(2)\n",
    "    ax.scatter(1.0, y, z, c='black', marker='o',s=100)\n",
    "\n",
    "ax.set_xlim3d(0,1)\n",
    "ax.set_ylim3d(0,1)\n",
    "ax.set_zlim3d(0,1)\n",
    "ax.set_axis_off() # comment to see the 3d grid&axes\n",
    "\n",
    "ax.view_init(elev=00., azim=0.0) # rotate camera\n",
    "ax.dist=6.5"
   ]
  },
  {
   "cell_type": "code",
   "execution_count": null,
   "metadata": {},
   "outputs": [],
   "source": [
    "from matplotlib.backends.backend_agg import FigureCanvasAgg as FigureCanvas\n",
    "canvas = FigureCanvas(fig)"
   ]
  },
  {
   "cell_type": "code",
   "execution_count": null,
   "metadata": {},
   "outputs": [],
   "source": [
    "canvas.draw() "
   ]
  },
  {
   "cell_type": "code",
   "execution_count": null,
   "metadata": {},
   "outputs": [],
   "source": [
    "width, height = map(int,fig.get_size_inches() * fig.get_dpi())\n",
    "width, height"
   ]
  },
  {
   "cell_type": "code",
   "execution_count": null,
   "metadata": {},
   "outputs": [],
   "source": [
    "img = np.fromstring(canvas.tostring_rgb(), dtype='uint8').reshape(height, width, 3)"
   ]
  },
  {
   "cell_type": "code",
   "execution_count": null,
   "metadata": {},
   "outputs": [],
   "source": [
    "plt.imshow(img)"
   ]
  }
 ],
 "metadata": {
  "kernelspec": {
   "display_name": "Python 3",
   "language": "python",
   "name": "python3"
  },
  "language_info": {
   "codemirror_mode": {
    "name": "ipython",
    "version": 3
   },
   "file_extension": ".py",
   "mimetype": "text/x-python",
   "name": "python",
   "nbconvert_exporter": "python",
   "pygments_lexer": "ipython3",
   "version": "3.7.2"
  }
 },
 "nbformat": 4,
 "nbformat_minor": 2
}
