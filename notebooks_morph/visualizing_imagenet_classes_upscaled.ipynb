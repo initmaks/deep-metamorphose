{
  "nbformat": 4,
  "nbformat_minor": 0,
  "metadata": {
    "colab": {
      "name": "visualizing-imagenet-classes-upscaled",
      "version": "0.3.2",
      "provenance": [],
      "collapsed_sections": [],
      "toc_visible": true,
      "include_colab_link": true
    },
    "kernelspec": {
      "name": "python2",
      "display_name": "Python 2"
    },
    "accelerator": "GPU"
  },
  "cells": [
    {
      "cell_type": "markdown",
      "metadata": {
        "id": "view-in-github",
        "colab_type": "text"
      },
      "source": [
        "<a href=\"https://colab.research.google.com/github/reiinakano/neural-painters/blob/master/notebooks/visualizing_imagenet_classes_upscaled.ipynb\" target=\"_parent\"><img src=\"https://colab.research.google.com/assets/colab-badge.svg\" alt=\"Open In Colab\"/></a>"
      ]
    },
    {
      "metadata": {
        "id": "s7hqL4XA2wMB",
        "colab_type": "text"
      },
      "cell_type": "markdown",
      "source": [
        "## Install dependencies"
      ]
    },
    {
      "metadata": {
        "id": "hCCErs452j3I",
        "colab_type": "code",
        "colab": {}
      },
      "cell_type": "code",
      "source": [
        "!pip install ipdb tqdm cloudpickle matplotlib lucid PyDrive"
      ],
      "execution_count": 0,
      "outputs": []
    },
    {
      "metadata": {
        "id": "5DQcaHeG3snB",
        "colab_type": "text"
      },
      "cell_type": "markdown",
      "source": [
        "## Download checkpoint files for painters"
      ]
    },
    {
      "metadata": {
        "id": "SoGPwL-26vdb",
        "colab_type": "code",
        "colab": {}
      },
      "cell_type": "code",
      "source": [
        "!mkdir tf_vae\n",
        "!wget -O tf_vae/vae-300000.index 'https://docs.google.com/uc?export=download&id=1ulHdDxebH46m_0ZoLa2Wsz_6vStYqJQm'\n",
        "!wget -O tf_vae/vae-300000.meta 'https://docs.google.com/uc?export=download&id=1nHN_i7Ro9g0lP4y_YQCvIWrOVX1I3CJa'\n",
        "!wget -O tf_vae/vae-300000.data-00000-of-00001 'https://docs.google.com/uc?export=download&id=18rAJcUJwFJOAcjzsabtqK12udsHMZkVk'\n",
        "!wget -O tf_vae/checkpoint 'https://docs.google.com/uc?export=download&id=18U4qMNBdyvEk-Y-Mr3MNPEHSHxhcO9hn'\n",
        "\n",
        "!mkdir tf_gan3\n",
        "!wget -O tf_gan3/gan-571445.meta 'https://docs.google.com/uc?export=download&id=15kEG1Tiu2FUg5SILVt_9yOsSd3QHwVGA'\n",
        "!wget -O tf_gan3/gan-571445.index 'https://docs.google.com/uc?export=download&id=11uyFbQsRZoWa9Yq52AFXDXPjPQoGF_ER'\n",
        "!wget -O tf_gan3/gan-571445.data-00000-of-00001 'https://docs.google.com/uc?export=download&id=11cbvz-CH3KvfZEwNQ2OUujfbf6AKNoQa'\n",
        "!wget -O tf_gan3/checkpoint 'https://docs.google.com/uc?export=download&id=1A539u51t0L31Ab1M2uPUV2SsCFsNDQRo'\n",
        "\n",
        "!mkdir tf_gan4\n",
        "!wget -O tf_gan4/gan-279892.meta 'https://docs.google.com/uc?export=download&id=15qcjIqxnJ7UaB_EP8Jko1IjpY1JQMCh7'\n",
        "!wget -O tf_gan4/gan-279892.index 'https://docs.google.com/uc?export=download&id=1q5g-q04HOGpNJY83tk4_0aRLwg800av1'\n",
        "!wget -O tf_gan4/gan-279892.data-00000-of-00001 'https://docs.google.com/uc?export=download&id=1Jtx9_5Dms9NXUnNq8r-TIf94dZyDjdBj'\n",
        "!wget -O tf_gan4/checkpoint 'https://docs.google.com/uc?export=download&id=1cnagxjLZvWWWPFl0FJzTVuoja2HorBk8'\n"
      ],
      "execution_count": 0,
      "outputs": []
    },
    {
      "metadata": {
        "id": "jUreUcFc3pRd",
        "colab_type": "code",
        "colab": {}
      },
      "cell_type": "code",
      "source": [
        ""
      ],
      "execution_count": 0,
      "outputs": []
    },
    {
      "metadata": {
        "id": "ZibMP7Qj9MwP",
        "colab_type": "text"
      },
      "cell_type": "markdown",
      "source": [
        "## Imports"
      ]
    },
    {
      "metadata": {
        "id": "AUOmOSbl3yWJ",
        "colab_type": "code",
        "outputId": "261e780d-9c4c-4e4b-de6a-8dd95ecda5ae",
        "colab": {
          "base_uri": "https://localhost:8080/",
          "height": 35
        }
      },
      "cell_type": "code",
      "source": [
        "import numpy as np\n",
        "\n",
        "import tensorflow as tf\n",
        "import tensorflow.contrib.layers as tcl\n",
        "\n",
        "from IPython.display import display\n",
        "import moviepy.editor as mpy\n",
        "from moviepy.video.io.ffmpeg_writer import FFMPEG_VideoWriter\n",
        "\n",
        "import lucid.modelzoo.vision_models as models\n",
        "from lucid.misc.io import show\n",
        "import lucid.optvis.objectives as objectives\n",
        "import lucid.optvis.param as param\n",
        "import lucid.optvis.render as render\n",
        "import lucid.optvis.transform as transform\n",
        "from lucid.misc.redirected_relu_grad import redirected_relu_grad, redirected_relu6_grad\n",
        "from lucid.misc.gradient_override import gradient_override_map\n",
        "\n",
        "print(tf.__version__)"
      ],
      "execution_count": 0,
      "outputs": [
        {
          "output_type": "stream",
          "text": [
            "1.13.1\n"
          ],
          "name": "stdout"
        }
      ]
    },
    {
      "metadata": {
        "id": "fVSKioi74hk4",
        "colab_type": "code",
        "colab": {}
      },
      "cell_type": "code",
      "source": [
        ""
      ],
      "execution_count": 0,
      "outputs": []
    },
    {
      "metadata": {
        "id": "0QtZZ2fu-aLR",
        "colab_type": "text"
      },
      "cell_type": "markdown",
      "source": [
        "## VAE painter"
      ]
    },
    {
      "metadata": {
        "id": "hpBhJ9jO-azL",
        "colab_type": "code",
        "colab": {}
      },
      "cell_type": "code",
      "source": [
        "class ConvVAE2(object):\n",
        "  def __init__(self, reuse=False, gpu_mode=True, graph=None):\n",
        "    self.z_size = 64\n",
        "    self.reuse = reuse\n",
        "    if not gpu_mode:\n",
        "      with tf.device('/cpu:0'):\n",
        "        tf.logging.info('conv_vae using cpu.')\n",
        "        self._build_graph(graph)\n",
        "    else:\n",
        "      tf.logging.info('conv_vae using gpu.')\n",
        "      self._build_graph(graph)\n",
        "    self._init_session()\n",
        "  \n",
        "  def build_decoder(self, z, reuse=False):\n",
        "    with tf.variable_scope('decoder', reuse=reuse):\n",
        "      h = tf.layers.dense(z, 4*256, name=\"fc\")\n",
        "      h = tf.reshape(h, [-1, 1, 1, 4*256])\n",
        "      h = tf.layers.conv2d_transpose(h, 128, 5, strides=2, activation=tf.nn.relu, name=\"deconv1\")\n",
        "      h = tf.layers.conv2d_transpose(h, 64, 5, strides=2, activation=tf.nn.relu, name=\"deconv2\")\n",
        "      h = tf.layers.conv2d_transpose(h, 32, 6, strides=2, activation=tf.nn.relu, name=\"deconv3\")\n",
        "      return tf.layers.conv2d_transpose(h, 3, 6, strides=2, activation=tf.nn.sigmoid, name=\"deconv4\")\n",
        "  \n",
        "  def build_predictor(self, actions, reuse=False, is_training=False):\n",
        "    with tf.variable_scope('predictor', reuse=reuse):\n",
        "      h = tf.layers.dense(actions, 256, activation=tf.nn.leaky_relu, name=\"fc1\")\n",
        "      h = tf.layers.batch_normalization(h, training=is_training, name=\"bn1\")\n",
        "      h = tf.layers.dense(h, 64, activation=tf.nn.leaky_relu, name=\"fc2\")\n",
        "      h = tf.layers.batch_normalization(h, training=is_training, name=\"bn2\")\n",
        "      h = tf.layers.dense(h, 64, activation=tf.nn.leaky_relu, name=\"fc3\")\n",
        "      h = tf.layers.batch_normalization(h, training=is_training, name=\"bn3\")\n",
        "      return tf.layers.dense(h, self.z_size, name='fc4')\n",
        "  \n",
        "  def _build_graph(self, graph):\n",
        "    if graph is None:\n",
        "      self.g = tf.Graph()\n",
        "    else:\n",
        "      self.g = graph\n",
        "    with self.g.as_default(), tf.variable_scope('conv_vae', reuse=self.reuse):\n",
        "      \n",
        "      #### predicting part\n",
        "      self.actions = tf.placeholder(tf.float32, shape=[None, 12])\n",
        "      self.predicted_z = self.build_predictor(self.actions, is_training=False)\n",
        "      self.predicted_y = self.build_decoder(self.predicted_z)\n",
        "      \n",
        "      # initialize vars\n",
        "      self.init = tf.global_variables_initializer()\n",
        "  \n",
        "  def generate_stroke_graph(self, actions):\n",
        "    with tf.variable_scope('conv_vae', reuse=True):\n",
        "      with self.g.as_default():\n",
        "        # Encoder?\n",
        "        z = self.build_predictor(actions, reuse=True, is_training=False)\n",
        "\n",
        "        # Decoder\n",
        "        return self.build_decoder(z, reuse=True)\n",
        "\n",
        "  def _init_session(self):\n",
        "    \"\"\"Launch TensorFlow session and initialize variables\"\"\"\n",
        "    self.sess = tf.Session(graph=self.g)\n",
        "    self.sess.run(self.init)\n",
        "  def close_sess(self):\n",
        "    \"\"\" Close TensorFlow session \"\"\"\n",
        "    self.sess.close()\n"
      ],
      "execution_count": 0,
      "outputs": []
    },
    {
      "metadata": {
        "id": "nBmf0lFwBij4",
        "colab_type": "code",
        "colab": {}
      },
      "cell_type": "code",
      "source": [
        ""
      ],
      "execution_count": 0,
      "outputs": []
    },
    {
      "metadata": {
        "id": "cT-NXDh7BjB0",
        "colab_type": "text"
      },
      "cell_type": "markdown",
      "source": [
        "## GAN Painter"
      ]
    },
    {
      "metadata": {
        "id": "TCch9ykeB3dO",
        "colab_type": "code",
        "colab": {}
      },
      "cell_type": "code",
      "source": [
        "def relu_batch_norm(x):\n",
        "    return tf.nn.relu(tf.contrib.layers.batch_norm(x, updates_collections=None))\n",
        "\n",
        "class GeneratorConditional(object):\n",
        "    def __init__(self, divisor=1, add_noise=False):\n",
        "        self.x_dim = 64 * 64 * 3\n",
        "        self.divisor=divisor\n",
        "        self.name = 'lsun/dcgan/g_net'\n",
        "        self.add_noise = add_noise\n",
        "\n",
        "    def __call__(self, conditions, is_training):\n",
        "        with tf.contrib.framework.arg_scope([tcl.batch_norm], \n",
        "                                            is_training=is_training):\n",
        "          with tf.variable_scope(self.name) as vs:\n",
        "              bs = tf.shape(conditions)[0]\n",
        "              if self.add_noise:\n",
        "                conditions = tf.concat([conditions, tf.random.uniform([bs, 10])], axis=1)\n",
        "              fc = tcl.fully_connected(conditions, 4 * 4 * 1024/self.divisor, activation_fn=tf.identity)\n",
        "              conv1 = tf.reshape(fc, tf.stack([bs, 4, 4, 1024/self.divisor]))\n",
        "              conv1 = relu_batch_norm(conv1)\n",
        "              conv2 = tcl.conv2d_transpose(\n",
        "                  conv1, 512/self.divisor, [4, 4], [2, 2],\n",
        "                  weights_initializer=tf.random_normal_initializer(stddev=0.02),\n",
        "                  activation_fn=relu_batch_norm\n",
        "              )\n",
        "              conv3 = tcl.conv2d_transpose(\n",
        "                  conv2, 256/self.divisor, [4, 4], [2, 2],\n",
        "                  weights_initializer=tf.random_normal_initializer(stddev=0.02),\n",
        "                  activation_fn=relu_batch_norm\n",
        "              )\n",
        "              conv4 = tcl.conv2d_transpose(\n",
        "                  conv3, 128/self.divisor, [4, 4], [2, 2],\n",
        "                  weights_initializer=tf.random_normal_initializer(stddev=0.02),\n",
        "                  activation_fn=relu_batch_norm\n",
        "              )\n",
        "              conv5 = tcl.conv2d_transpose(\n",
        "                  conv4, 3, [4, 4], [2, 2],\n",
        "                  weights_initializer=tf.random_normal_initializer(stddev=0.02),\n",
        "                  activation_fn=tf.sigmoid)\n",
        "              return conv5\n",
        "\n",
        "    @property\n",
        "    def vars(self):\n",
        "        return [var for var in tf.global_variables() if self.name in var.name]"
      ],
      "execution_count": 0,
      "outputs": []
    },
    {
      "metadata": {
        "id": "L1nDzmbkB9Rf",
        "colab_type": "code",
        "colab": {}
      },
      "cell_type": "code",
      "source": [
        "class ConvGAN(object):\n",
        "  def __init__(self, add_noise=False, reuse=False, gpu_mode=True, graph=None):\n",
        "    self.reuse = reuse\n",
        "    self.g_net = GeneratorConditional(divisor=4, add_noise=add_noise)\n",
        "    \n",
        "    if not gpu_mode:\n",
        "      with tf.device('/cpu:0'):\n",
        "        tf.logging.info('conv_gan using cpu.')\n",
        "        self._build_graph(graph)\n",
        "    else:\n",
        "      tf.logging.info('conv_gan using gpu.')\n",
        "      self._build_graph(graph)\n",
        "    self._init_session()\n",
        "      \n",
        "  def _build_graph(self, graph):\n",
        "    if graph is None:\n",
        "      self.g = tf.Graph()\n",
        "    else:\n",
        "      self.g = graph\n",
        "      \n",
        "    with self.g.as_default(), tf.variable_scope('conv_gan', reuse=self.reuse):\n",
        "      self.actions = tf.placeholder(tf.float32, shape=[None, 12])\n",
        "      self.y = self.g_net(self.actions, is_training=False)\n",
        "      self.init = tf.global_variables_initializer()\n",
        "  \n",
        "  def generate_stroke_graph(self, actions):\n",
        "    with tf.variable_scope('conv_gan', reuse=True):\n",
        "      with self.g.as_default():\n",
        "        return self.g_net(actions, is_training=False)\n",
        "      \n",
        "  def _init_session(self):\n",
        "    \"\"\"Launch TensorFlow session and initialize variables\"\"\"\n",
        "    self.sess = tf.Session(graph=self.g)\n",
        "    self.sess.run(self.init)\n",
        "  def close_sess(self):\n",
        "    \"\"\" Close TensorFlow session \"\"\"\n",
        "    self.sess.close()\n"
      ],
      "execution_count": 0,
      "outputs": []
    },
    {
      "metadata": {
        "id": "oKDyMa-oFI2p",
        "colab_type": "code",
        "colab": {}
      },
      "cell_type": "code",
      "source": [
        ""
      ],
      "execution_count": 0,
      "outputs": []
    },
    {
      "metadata": {
        "id": "lDpuowtlFMNj",
        "colab_type": "text"
      },
      "cell_type": "markdown",
      "source": [
        "## Construct the Lucid graph"
      ]
    },
    {
      "metadata": {
        "id": "797y3uqQFNqz",
        "colab_type": "code",
        "colab": {}
      },
      "cell_type": "code",
      "source": [
        "def import_model(model, t_image, t_image_raw, scope=\"import\"):\n",
        "\n",
        "  model.import_graph(t_image, scope=scope, forget_xy_shape=True)\n",
        "\n",
        "  def T(layer):\n",
        "    if layer == \"input\": return t_image_raw\n",
        "    if layer == \"labels\": return model.labels\n",
        "    if \":\" in layer:\n",
        "        return t_image.graph.get_tensor_by_name(\"%s/%s\" % (scope,layer))\n",
        "    else:\n",
        "        return t_image.graph.get_tensor_by_name(\"%s/%s:0\" % (scope,layer))\n",
        "\n",
        "  return T\n",
        "\n",
        "class LucidGraph(object):\n",
        "  def __init__(self, class_to_plot='centipede', num_strokes=4, batch_size=1, painter_type=\"GAN\", \n",
        "               connected=True, add_noise=False, lr=0.05, models_to_optimize=['inception_v1', 'inception_v1_slim'], \n",
        "               overlap_px=10, repeat=2, alternate=True,\n",
        "               gpu_mode=True, graph=None):\n",
        "    self.class_to_plot = class_to_plot\n",
        "    self.batch_size = batch_size\n",
        "    self.painter_type = painter_type\n",
        "    self.connected=connected\n",
        "    self.add_noise = add_noise\n",
        "    \n",
        "    # For overlapping canvases\n",
        "    self.overlap_px = overlap_px\n",
        "    self.repeat = repeat\n",
        "    self.alternate = alternate\n",
        "    self.full_size = 64*repeat - overlap_px*(repeat - 1)\n",
        "    self.unrepeated_num_strokes= num_strokes\n",
        "    self.num_strokes= num_strokes * self.repeat**2\n",
        "    print('full_size', self.full_size, 'max_seq_len', self.num_strokes)\n",
        "\n",
        "    \n",
        "    self.inception_v1 = models.InceptionV1()\n",
        "    self.inception_v1.load_graphdef()\n",
        "    \n",
        "    self.inception_v1_slim = models.InceptionV1_slim()\n",
        "    self.inception_v1_slim.load_graphdef()\n",
        "    \n",
        "    self.inception_v2_slim = models.InceptionV2_slim()\n",
        "    self.inception_v2_slim.load_graphdef()\n",
        "    \n",
        "    self.mobilenet_v2_14 = models.MobilenetV2_14_slim()\n",
        "    self.mobilenet_v2_14.load_graphdef()\n",
        "    \n",
        "    self.resnet_v1_50 = models.ResnetV1_50_slim()\n",
        "    self.resnet_v1_50.load_graphdef()\n",
        "    \n",
        "    transforms = [\n",
        "      #transform.pad(12, mode='constant', constant_value=.5),\n",
        "      transform.jitter(8),\n",
        "      #transform.random_scale([1 + (i-5)/50. for i in range(11)]),\n",
        "      transform.random_rotate(list(range(-20, 21)) + 5*[0]),\n",
        "      transform.jitter(4),\n",
        "    ]\n",
        "    \n",
        "    self.transform_f = render.make_transform_f(transforms)\n",
        "    \n",
        "    self.optim = render.make_optimizer(tf.train.AdamOptimizer(lr), [])\n",
        "    \n",
        "    self.obj_inception_v1 = objectives.class_logit('softmax1', class_to_plot)\n",
        "    self.obj_inception_v1_slim = objectives.class_logit('InceptionV1/Logits/Predictions/Softmax', class_to_plot)\n",
        "    self.obj_inception_v2_slim = objectives.class_logit('InceptionV2/Predictions/Softmax', class_to_plot)\n",
        "    self.obj_mobilenet_v2_14 = objectives.class_logit('MobilenetV2/Predictions/Softmax', class_to_plot)\n",
        "    self.obj_resnet_v1_50 = objectives.class_logit('resnet_v1_50/predictions/Softmax', class_to_plot)\n",
        "    \n",
        "    self.models_to_optimize_dict = {\n",
        "        'inception_v1': {'model': self.inception_v1, 'obj': self.obj_inception_v1, 'scope': 'i'},\n",
        "        'inception_v1_slim': {'model': self.inception_v1_slim, 'obj': self.obj_inception_v1_slim, 'scope': 'i_slim'},\n",
        "        'inception_v2_slim': {'model': self.inception_v2_slim, 'obj': self.obj_inception_v2_slim, 'scope': 'i2_slim'},\n",
        "        'mobilenet_v2_14': {'model': self.mobilenet_v2_14, 'obj': self.obj_mobilenet_v2_14, 'scope': 'm_v2_14'},\n",
        "        'resnet_v1_50': {'model': self.resnet_v1_50, 'obj': self.obj_resnet_v1_50, 'scope': 'resnet_v1_50'}\n",
        "    }\n",
        "    \n",
        "    self.models_to_optimize = [self.models_to_optimize_dict[key] for key in models_to_optimize]\n",
        "\n",
        "    self.gpu_mode = gpu_mode\n",
        "    if not gpu_mode:\n",
        "      with tf.device('/cpu:0'):\n",
        "        tf.logging.info('Model using cpu.')\n",
        "        self._build_graph(graph)\n",
        "    else:\n",
        "      #tf.logging.info('Model using gpu.')\n",
        "      self._build_graph(graph)\n",
        "    self._init_session()\n",
        "  \n",
        "  def _build_graph(self, graph):\n",
        "    if graph is None:\n",
        "      self.g = tf.Graph()\n",
        "    else:\n",
        "      self.g = graph\n",
        "    \n",
        "    # Set up graphs of VAE or GAN\n",
        "    if self.painter_type == \"GAN\":\n",
        "      self.painter = ConvGAN(\n",
        "              add_noise=self.add_noise,\n",
        "              reuse=False,\n",
        "              gpu_mode=self.gpu_mode,\n",
        "              graph=self.g)\n",
        "    elif self.painter_type==\"VAE\":\n",
        "      self.painter = ConvVAE2(\n",
        "              reuse=False,\n",
        "              gpu_mode=self.gpu_mode,\n",
        "              graph=self.g)\n",
        "    self.painter.close_sess()\n",
        "    \n",
        "    with self.g.as_default():\n",
        "      print('GLOBAL VARS', tf.global_variables())\n",
        "    \n",
        "    with self.g.as_default():\n",
        "      batch_size = self.batch_size\n",
        "      tile_size = 5\n",
        "      self.actions = tf.get_variable(\"action_vars\", [batch_size, self.num_strokes, 12], \n",
        "                                     #initializer=tf.initializers.random_normal()\n",
        "                                     initializer=tf.initializers.random_uniform()\n",
        "                                    )\n",
        "      \n",
        "      # Prepare loop vars for rnn loop\n",
        "      canvas_state = tf.ones(shape=[batch_size, self.full_size, self.full_size, 3], dtype=tf.float32)\n",
        "      i = tf.constant(0)\n",
        "      initial_canvas_ta = tf.TensorArray(dtype=tf.float32, size=self.num_strokes)\n",
        "      loop_vars = (\n",
        "          canvas_state, \n",
        "          initial_canvas_ta, i)\n",
        "      \n",
        "      \n",
        "      # condition for continuation\n",
        "      def cond(cs, c_ta, i):\n",
        "        return tf.less(i, self.num_strokes)\n",
        "      \n",
        "      # run one state of rnn cell\n",
        "      def body(cs, c_ta, i):\n",
        "        \n",
        "        trimmed_actions = tf.sigmoid(self.actions)\n",
        "        \n",
        "        print(trimmed_actions.get_shape())\n",
        "        \n",
        "        def use_whole_action():\n",
        "          return trimmed_actions[:, i, :12]\n",
        "        \n",
        "        def use_previous_entrypoint():\n",
        "          # start x and y are previous end x and y\n",
        "          # start pressure is previous pressure\n",
        "          return tf.concat([trimmed_actions[:, i, :9], trimmed_actions[:, i-1, 4:6], trimmed_actions[:, i-1, 0:1]], axis=1)\n",
        "        \n",
        "        if self.connected:\n",
        "          inp = tf.cond(tf.equal(i, 0), true_fn=use_whole_action, false_fn=use_previous_entrypoint)\n",
        "        else:\n",
        "          inp = use_whole_action()\n",
        "        inp = tf.reshape(inp, [-1, 12])\n",
        "        \n",
        "        print(inp.get_shape())\n",
        "        \n",
        "        decoded_stroke = self.painter.generate_stroke_graph(inp)\n",
        "\n",
        "        cases = []\n",
        "        ctr = 0\n",
        "        for a in range(self.repeat):\n",
        "          for b in range(self.repeat):\n",
        "            print([int(self.repeat**2), ctr])\n",
        "            print([[0, 0], [(64-self.overlap_px)*a, (64-self.overlap_px)*(self.repeat-1-a)], [(64-self.overlap_px)*b, (64-self.overlap_px)*(self.repeat-1-b)], [0, 0]])\n",
        "            cases.append(\n",
        "              (\n",
        "                  tf.equal(tf.floormod(i, int(self.repeat**2)), ctr) if self.alternate else tf.less(i, self.unrepeated_num_strokes*(ctr+1)),\n",
        "                  lambda a=a, b=b: tf.pad(decoded_stroke, \n",
        "                                 [[0, 0], [(64-self.overlap_px)*a, (64-self.overlap_px)*(self.repeat-1-a)], [(64-self.overlap_px)*b, (64-self.overlap_px)*(self.repeat-1-b)], [0, 0]], \n",
        "                                 constant_values=1)\n",
        "              )\n",
        "            )\n",
        "            ctr += 1\n",
        "        \n",
        "        print(cases)\n",
        "        decoded_stroke = tf.case(cases)\n",
        "\n",
        "        darkness_mask = tf.reduce_mean(decoded_stroke, axis=3)\n",
        "        darkness_mask = 1 - tf.reshape(darkness_mask, [batch_size, self.full_size, self.full_size, 1])\n",
        "        darkness_mask = darkness_mask / tf.reduce_max(darkness_mask)\n",
        "        \n",
        "        color_action = trimmed_actions[:, i, 6:9]\n",
        "        color_action = tf.reshape(color_action, [batch_size, 1, 1, 3])\n",
        "        color_action = tf.tile(color_action, [1, self.full_size, self.full_size, 1])\n",
        "        stroke_whitespace = tf.equal(decoded_stroke, 1.)\n",
        "        maxed_stroke = tf.where(stroke_whitespace, decoded_stroke, color_action)\n",
        "        \n",
        "        cs = (darkness_mask)*maxed_stroke + (1-darkness_mask)*cs\n",
        "        c_ta = c_ta.write(i, cs)\n",
        "                \n",
        "        i = tf.add(i, 1)\n",
        "        return (cs, c_ta, i)\n",
        "      \n",
        "      final_canvas_state, final_canvas_ta, _ = tf.while_loop(cond, body, loop_vars, swap_memory=True)\n",
        "      self.final_canvas_state = final_canvas_state\n",
        "      self.intermediate_canvases = final_canvas_ta.stack()\n",
        "      \n",
        "      self.resized_canvas = tf.image.resize_images(self.final_canvas_state, [224, 224])\n",
        "      self.resized_canvas_227 = tf.image.resize_images(self.final_canvas_state, [227, 227])\n",
        "      tiled_canvas = tf.tile(self.resized_canvas, [tile_size, 1, 1, 1])\n",
        "      tiled_canvas_227 = tf.tile(self.resized_canvas_227, [tile_size, 1, 1, 1])\n",
        "      \n",
        "      global_step = tf.train.get_or_create_global_step()\n",
        "      \n",
        "      with gradient_override_map({'Relu': redirected_relu_grad,\n",
        "                                  'Relu6': redirected_relu6_grad}):\n",
        "        #self.T = render.import_model(self.inception_v1, self.transform_f(tiled_canvas), tiled_canvas)\n",
        "        #self.T2 = import_model(self.inception_v1_slim, self.transform_f(tiled_canvas), tiled_canvas, scope='i_slim')\n",
        "        #self.T3 = import_model(self.inception_v2_slim, self.transform_f(tiled_canvas), tiled_canvas, scope='i2_slim')\n",
        "        T_list = [import_model(x['model'], self.transform_f(tiled_canvas), tiled_canvas, scope=x['scope']) \n",
        "                  for x in self.models_to_optimize]\n",
        "          \n",
        "          \n",
        "      self.loss = 0\n",
        "      self.loss_list = []\n",
        "      for i in range(len(T_list)):\n",
        "        l = self.models_to_optimize[i]['obj'](T_list[i])/tile_size\n",
        "        self.loss = self.loss + l\n",
        "        self.loss_list.append(l)\n",
        "      self.loss = self.loss / len(T_list)\n",
        "        \n",
        "      #self.loss = self.obj_inception_v1(self.T)/5 + self.obj_inception_v1_slim(self.T2)/5 + self.obj_inception_v2_slim(self.T3)/5\n",
        "      \n",
        "      self.vis_op = self.optim.minimize(-self.loss, global_step=global_step, var_list=[self.actions])\n",
        "\n",
        "      # initialize vars\n",
        "      self.init = tf.global_variables_initializer()\n",
        "      \n",
        "      print('TRAINABLE', tf.trainable_variables())\n",
        "      \n",
        "  def train(self, thresholds=range(0, 5000, 30)):\n",
        "    self.images = []\n",
        "    vis = self.sess.run(self.resized_canvas)\n",
        "    show(np.hstack(vis))\n",
        "    try:\n",
        "      for i in range(max(thresholds)+1):\n",
        "        loss_, _ = self.sess.run([self.loss_list, self.vis_op])\n",
        "        if i in thresholds:\n",
        "          #print(self.sess.run(self.actions))\n",
        "          vis = self.sess.run(self.resized_canvas)\n",
        "          print('step', i, 'scores_per_net', loss_, 'max_score', self.batch_size)\n",
        "          show(np.hstack(vis))\n",
        "        if i % 1 == 0:\n",
        "          vis = self.sess.run(self.resized_canvas)\n",
        "          self.images.append(vis)\n",
        "    except KeyboardInterrupt:\n",
        "      vis = self.sess.run(self.resized_canvas)\n",
        "      show(np.hstack(vis))\n",
        "\n",
        "  def _init_session(self):\n",
        "    self.sess = tf.Session(graph=self.g)\n",
        "    self.sess.run(self.init)\n",
        "  def close_sess(self):\n",
        "    self.sess.close()\n",
        "    \n",
        "      \n",
        "  def load_painter_checkpoint(self, checkpoint_path='tf_conv_vae', actual_path=None):\n",
        "    sess = self.sess\n",
        "    with self.g.as_default():\n",
        "      if self.painter_type == \"VAE\":\n",
        "        pth = 'conv_vae'\n",
        "      elif self.painter_type == \"GAN\":\n",
        "        pth = 'conv_gan'\n",
        "      saver = tf.train.Saver(tf.global_variables(pth))\n",
        "    ckpt = tf.train.get_checkpoint_state(checkpoint_path)\n",
        "    if actual_path is None:\n",
        "      actual_path = ckpt.model_checkpoint_path\n",
        "    print('loading model', actual_path)\n",
        "    tf.logging.info('Loading model %s.', actual_path)\n",
        "    saver.restore(sess, actual_path)\n"
      ],
      "execution_count": 0,
      "outputs": []
    },
    {
      "metadata": {
        "id": "VTBqO4ceUGDO",
        "colab_type": "text"
      },
      "cell_type": "markdown",
      "source": [
        "## Utility code for searching available ImageNet classes\n",
        "\n",
        "You don't really need this but I found it helpful to look for classes to optimize. \n",
        "\n",
        "You will notice that the labels for the Slim models are not always the same as the labels for inception_v1 for the same object e.g. 'lipstick' vs 'lipstick, lip rouge'. In this case, you can't optimize inception_v1 together with a Slim model (of course, you are free to use inception_v1_slim)."
      ]
    },
    {
      "metadata": {
        "id": "YVEjtHlXHlT6",
        "colab_type": "code",
        "outputId": "8fbd4ce8-6015-4882-84ae-795b753b9289",
        "colab": {
          "base_uri": "https://localhost:8080/",
          "height": 145
        }
      },
      "cell_type": "code",
      "source": [
        "def search(_search_term):\n",
        "  print('searching matching labels for {}'.format(_search_term))\n",
        "  inception_v1 = models.InceptionV1()\n",
        "  inception_v1_slim = models.InceptionV1_slim()\n",
        "  inception_v2_slim = models.InceptionV2_slim()\n",
        "  mobilenet_v2_14 = models.MobilenetV2_14_slim()\n",
        "  resnet_v1_50 = models.ResnetV1_50_slim()\n",
        "\n",
        "  print('inception_v1 labels: {}'.format([x for x in inception_v1.labels if _search_term in x]))\n",
        "  print('inception_v1_slim labels: {}'.format([x for x in inception_v1_slim.labels if _search_term in x]))\n",
        "  print('inception_v2_slim labels: {}'.format([x for x in inception_v2_slim.labels if _search_term in x]))\n",
        "  print('mobilenet_v2_14 labels: {}'.format([x for x in mobilenet_v2_14.labels if _search_term in x]))\n",
        "  print('resnet_v1_50 labels: {}'.format([x for x in resnet_v1_50.labels if _search_term in x]))\n",
        "  \n",
        "search('l')"
      ],
      "execution_count": 0,
      "outputs": [
        {
          "output_type": "stream",
          "text": [
            "searching matching labels for l\n",
            "inception_v1 labels: [u'English setter', u'Australian terrier', u'English springer', u'grey whale', u'lesser panda', u'gazelle', u'sea lion', u'malamute', u'Walker hound', u'Welsh springer spaniel', u'killer whale', u'African elephant', u'red wolf', u'Old English sheepdog', u'bloodhound', u'Airedale', u'three-toed sloth', u'sorrel', u'black-footed ferret', u'dalmatian', u'black-and-tan coonhound', u'papillon', u'Staffordshire bullterrier', u'Mexican hairless', u'Bouvier des Flandres', u'weasel', u'miniature poodle', u'malinois', u'fox squirrel', u'colobus', u'impala', u'Newfoundland', u'Norwegian elkhound', u'Rottweiler', u'Saluki', u'West Highland white terrier', u'Sealyham terrier', u'Irish wolfhound', u'wild boar', u'EntleBucher', u'French bulldog', u'leopard', u'Maltese dog', u'Norfolk terrier', u'vizsla', u'squirrel monkey', u'groenendael', u'clumber', u'Japanese spaniel', u'white wolf', u'gorilla', u'toy poodle', u'Kerry blue terrier', u'Boston bull', u'Appenzeller', u'Irish water spaniel', u'Bedlington terrier', u'Arabian camel', u'collie', u'golden retriever', u'Border collie', u'silky terrier', u'beagle', u'dhole', u'bull mastiff', u'curly-coated retriever', u'flat-coated retriever', u'Brittany spaniel', u'standard poodle', u'Lakeland terrier', u'snow leopard', u'water buffalo', u'American black bear', u'howler monkey', u'Shetland sheepdog', u'armadillo', u'bluetick', u'polecat', u'kelpie', u'llama', u'Italian greyhound', u'lion', u'cocker spaniel', u'Indian elephant', u'Sussex spaniel', u'Blenheim spaniel', u'lynx', u'langur', u'timber wolf', u'English foxhound', u'sloth bear', u'koala', u'wallaby', u'platypus', u'revolver', u'umbrella', u'soccer ball', u'chambered nautilus', u'laptop', u'airliner', u'warplane', u'balloon', u'space shuttle', u'gondola', u'lifeboat', u'yawl', u'liner', u'half track', u'missile', u'bobsled', u'dogsled', u'bicycle-built-for-two', u'forklift', u'electric locomotive', u'steam locomotive', u'ambulance', u'convertible', u'limousine', u'Model T', u'golfcart', u'snowplow', u'trailer truck', u'police van', u'recreational vehicle', u'snowmobile', u'mobile home', u'tricycle', u'unicycle', u'cradle', u'table lamp', u'file', u'folding chair', u'toilet seat', u'pool table', u'dining table', u'lemon', u'pineapple', u'custard apple', u'steel drum', u'cello', u'violin', u'electric guitar', u'flute', u\"yellow lady's slipper\", u'cliff', u'valley', u'alp', u'volcano', u'coral reef', u'lakeside', u'cleaver', u'letter opener', u'plane', u'power drill', u'lawn mower', u'plunger', u'shovel', u'plow', u'brambling', u'goldfinch', u'bulbul', u'water ouzel', u'bald eagle', u'vulture', u'great grey owl', u'black grouse', u'quail', u'sulphur-crested cockatoo', u'lorikeet', u'coucal', u'hornbill', u'black swan', u'black stork', u'spoonbill', u'flamingo', u'little blue heron', u'limpkin', u'European gallinule', u'pelican', u'albatross', u'electric ray', u'goldfish', u'eel', u'lionfish', u'loggerhead', u'leatherback turtle', u'mud turtle', u'box turtle', u'American chameleon', u'whiptail', u'frilled lizard', u'alligator lizard', u'Gila monster', u'green lizard', u'African chameleon', u'African crocodile', u'American alligator', u'European fire salamander', u'spotted salamander', u'axolotl', u'bullfrog', u'tailed frog', u'whistle', u'hand blower', u'snorkel', u'loudspeaker', u'electric fan', u'oil filter', u'guillotine', u'rule', u'scale', u'analog clock', u'digital clock', u'wall clock', u'hourglass', u'sundial', u'digital watch', u'binoculars', u'sunglasses', u'loupe', u'radio telescope', u'assault rifle', u'rifle', u'projectile', u'lighter', u'slide rule', u'hand-held computer', u'slot', u'car wheel', u'paddlewheel', u'pinwheel', u\"potter's wheel\", u'carousel', u'reel', u'sunglass', u'solar dish', u'remote control', u'buckle', u'hair slide', u'combination lock', u'padlock', u'nail', u'muzzle', u'seat belt', u'candle', u\"jack-o'-lantern\", u'spotlight', u'maypole', u'trilobite', u'black and gold garden spider', u'black widow', u'tarantula', u'wolf spider', u'fiddler crab', u'American lobster', u'spiny lobster', u'tiger beetle', u'ladybug', u'ground beetle', u'long-horned beetle', u'leaf beetle', u'dung beetle', u'rhinoceros beetle', u'weevil', u'fly', u'walking stick', u'leafhopper', u'lacewing', u'dragonfly', u'damselfly', u'admiral', u'ringlet', u'cabbage butterfly', u'sulphur butterfly', u'lycaenid', u'jellyfish', u'brain coral', u'flatworm', u'snail', u'slug', u'sea slug', u'waffle iron', u'caldron', u'spatula', u'altar', u'triumphal arch', u'steel arch bridge', u'palace', u'library', u'planetarium', u'lumbermill', u'coil', u'obelisk', u'totem pole', u'castle', u'cliff dwelling', u'megalith', u'chainlink fence', u'stone wall', u'grille', u'sliding door', u'turnstile', u'plate rack', u'pedestal', u'bell pepper', u'broccoli', u'cauliflower', u'sandal', u'plate', u'necklace', u'croquet ball', u'thimble', u'cocktail shaker', u'manhole cover', u'balance beam', u'bagel', u'spindle', u'beer bottle', u'crash helmet', u'bottlecap', u'tile roof', u'maillot', u'football helmet', u'holster', u'pop bottle', u'crossword puzzle', u'golf ball', u'trifle', u'cloak', u'shield', u'meat loaf', u'baseball', u'beer glass', u'guacamole', u'lampshade', u'wool', u'mailbag', u'soup bowl', u'paddle', u'mixing bowl', u'wine bottle', u'bulletproof vest', u'drilling platform', u'ping-pong ball', u'pencil box', u'pencil sharpener', u'Polaroid camera', u'traffic light', u'quill', u'military uniform', u'lipstick', u'oscilloscope', u'French loaf', u'milk can', u'rugby ball', u'paper towel', u'envelope', u'trolleybus', u'coral fungus', u'bullet train', u'pillow', u'toilet tissue', u'ladle', u'lotion', u'pill bottle', u'chain mail', u'barrel', u'ballpoint', u'basketball', u'bath towel', u'cellular telephone', u'nipple', u'barbell', u'mailbox', u'lab coat', u'pole', u'horizontal bar', u'pickelhaube', u'rain barrel', u'wallet', u'cassette player', u'bell cote', u'volleyball', u'bolo tie', u'sleeping bag', u'television', u'breastplate', u'saltshaker', u'chocolate sauce', u'ballplayer', u'goblet', u'water bottle', u'dial telephone', u'school bus', u'jigsaw puzzle', u'plastic bag', u'reflex camera', u'ice lolly', u'velvet', u'tennis ball', u'pretzel', u'quilt', u'maillot', u'tape player', u'clog', u'bolete', u'CD player', u'lens cap', u'vault', u'bubble', u'parallel bars', u'flagpole', u'stole', u'dumbbell']\n",
            "inception_v1_slim labels: [u'goldfish, Carassius auratus', u'tiger shark, Galeocerdo cuvieri', u'electric ray, crampfish, numbfish, torpedo', u'ostrich, Struthio camelus', u'brambling, Fringilla montifringilla', u'goldfinch, Carduelis carduelis', u'house finch, linnet, Carpodacus mexicanus', u'bulbul', u'water ouzel, dipper', u'bald eagle, American eagle, Haliaeetus leucocephalus', u'vulture', u'great grey owl, great gray owl, Strix nebulosa', u'European fire salamander, Salamandra salamandra', u'common newt, Triturus vulgaris', u'spotted salamander, Ambystoma maculatum', u'axolotl, mud puppy, Ambystoma mexicanum', u'bullfrog, Rana catesbeiana', u'tailed frog, bell toad, ribbed toad, tailed toad, Ascaphus trui', u'loggerhead, loggerhead turtle, Caretta caretta', u'leatherback turtle, leatherback, leathery turtle, Dermochelys coriacea', u'mud turtle', u'box turtle, box tortoise', u'American chameleon, anole, Anolis carolinensis', u'whiptail, whiptail lizard', u'frilled lizard, Chlamydosaurus kingi', u'alligator lizard', u'Gila monster, Heloderma suspectum', u'green lizard, Lacerta viridis', u'African chameleon, Chamaeleo chamaeleon', u'Komodo dragon, Komodo lizard, dragon lizard, giant lizard, Varanus komodoensis', u'African crocodile, Nile crocodile, Crocodylus niloticus', u'American alligator, Alligator mississipiensis', u'night snake, Hypsiglena torquata', u'diamondback, diamondback rattlesnake, Crotalus adamanteus', u'sidewinder, horned rattlesnake, Crotalus cerastes', u'trilobite', u'harvestman, daddy longlegs, Phalangium opilio', u'black and gold garden spider, Argiope aurantia', u'black widow, Latrodectus mactans', u'tarantula', u'wolf spider, hunting spider', u'black grouse', u'ruffed grouse, partridge, Bonasa umbellus', u'prairie chicken, prairie grouse, prairie fowl', u'quail', u'sulphur-crested cockatoo, Kakatoe galerita, Cacatua galerita', u'lorikeet', u'coucal', u'hornbill', u'black swan, Cygnus atratus', u'platypus, duckbill, duckbilled platypus, duck-billed platypus, Ornithorhynchus anatinus', u'wallaby, brush kangaroo', u'koala, koala bear, kangaroo bear, native bear, Phascolarctos cinereus', u'jellyfish', u'brain coral', u'flatworm, platyhelminth', u'snail', u'slug', u'sea slug, nudibranch', u'chiton, coat-of-mail shell, sea cradle, polyplacophore', u'chambered nautilus, pearly nautilus, nautilus', u'fiddler crab', u'king crab, Alaska crab, Alaskan king crab, Alaska king crab, Paralithodes camtschatica', u'American lobster, Northern lobster, Maine lobster, Homarus americanus', u'spiny lobster, langouste, rock lobster, crawfish, crayfish, sea crawfish', u'black stork, Ciconia nigra', u'spoonbill', u'flamingo', u'little blue heron, Egretta caerulea', u'American egret, great white heron, Egretta albus', u'limpkin, Aramus pictus', u'European gallinule, Porphyrio porphyrio', u'American coot, marsh hen, mud hen, water hen, Fulica americana', u'red-backed sandpiper, dunlin, Erolia alpina', u'pelican', u'albatross, mollymawk', u'grey whale, gray whale, devilfish, Eschrichtius gibbosus, Eschrichtius robustus', u'killer whale, killer, orca, grampus, sea wolf, Orcinus orca', u'sea lion', u'Japanese spaniel', u'Maltese dog, Maltese terrier, Maltese', u'Blenheim spaniel', u'papillon', u'beagle', u'bloodhound, sleuthhound', u'bluetick', u'black-and-tan coonhound', u'Walker hound, Walker foxhound', u'English foxhound', u'borzoi, Russian wolfhound', u'Irish wolfhound', u'Italian greyhound', u'Norwegian elkhound, elkhound', u'Saluki, gazelle hound', u'Staffordshire bullterrier, Staffordshire bull terrier', u'American Staffordshire terrier, Staffordshire terrier, American pit bull terrier, pit bull terrier', u'Bedlington terrier', u'Kerry blue terrier', u'Norfolk terrier', u'Lakeland terrier', u'Sealyham terrier, Sealyham', u'Airedale, Airedale terrier', u'Australian terrier', u'Boston bull, Boston terrier', u'silky terrier, Sydney silky', u'West Highland white terrier', u'flat-coated retriever', u'curly-coated retriever', u'golden retriever', u'vizsla, Hungarian pointer', u'English setter', u'Brittany spaniel', u'clumber, clumber spaniel', u'English springer, English springer spaniel', u'Welsh springer spaniel', u'cocker spaniel, English cocker spaniel, cocker', u'Sussex spaniel', u'Irish water spaniel', u'groenendael', u'malinois', u'kelpie', u'Old English sheepdog, bobtail', u'Shetland sheepdog, Shetland sheep dog, Shetland', u'collie', u'Border collie', u'Bouvier des Flandres, Bouviers des Flandres', u'Rottweiler', u'German shepherd, German shepherd dog, German police dog, alsatian', u'Appenzeller', u'EntleBucher', u'bull mastiff', u'French bulldog', u'malamute, malemute, Alaskan malamute', u'dalmatian, coach dog, carriage dog', u'Newfoundland, Newfoundland dog', u'Pembroke, Pembroke Welsh corgi', u'Cardigan, Cardigan Welsh corgi', u'toy poodle', u'miniature poodle', u'standard poodle', u'Mexican hairless', u'timber wolf, grey wolf, gray wolf, Canis lupus', u'white wolf, Arctic wolf, Canis lupus tundrarum', u'red wolf, maned wolf, Canis rufus, Canis niger', u'coyote, prairie wolf, brush wolf, Canis latrans', u'dingo, warrigal, warragal, Canis dingo', u'dhole, Cuon alpinus', u'red fox, Vulpes vulpes', u'kit fox, Vulpes macrotis', u'Arctic fox, white fox, Alopex lagopus', u'cougar, puma, catamount, mountain lion, painter, panther, Felis concolor', u'lynx, catamount', u'leopard, Panthera pardus', u'snow leopard, ounce, Panthera uncia', u'jaguar, panther, Panthera onca, Felis onca', u'lion, king of beasts, Panthera leo', u'American black bear, black bear, Ursus americanus, Euarctos americanus', u'ice bear, polar bear, Ursus Maritimus, Thalarctos maritimus', u'sloth bear, Melursus ursinus, Ursus ursinus', u'tiger beetle', u'ladybug, ladybeetle, lady beetle, ladybird, ladybird beetle', u'ground beetle, carabid beetle', u'long-horned beetle, longicorn, longicorn beetle', u'leaf beetle, chrysomelid', u'dung beetle', u'rhinoceros beetle', u'weevil', u'fly', u'walking stick, walkingstick, stick insect', u'cicada, cicala', u'leafhopper', u'lacewing, lacewing fly', u\"dragonfly, darning needle, devil's darning needle, sewing needle, snake feeder, snake doctor, mosquito hawk, skeeter hawk\", u'damselfly', u'admiral', u'ringlet, ringlet butterfly', u'monarch, monarch butterfly, milkweed butterfly, Danaus plexippus', u'cabbage butterfly', u'sulphur butterfly, sulfur butterfly', u'lycaenid, lycaenid butterfly', u'sea cucumber, holothurian', u'wood rabbit, cottontail, cottontail rabbit', u'fox squirrel, eastern fox squirrel, Sciurus niger', u'sorrel', u'hog, pig, grunter, squealer, Sus scrofa', u'wild boar, boar, Sus scrofa', u'water buffalo, water ox, Asiatic buffalo, Bubalus bubalis', u'impala, Aepyceros melampus', u'gazelle', u'Arabian camel, dromedary, Camelus dromedarius', u'llama', u'weasel', u'polecat, fitch, foulmart, foumart, Mustela putorius', u'black-footed ferret, ferret, Mustela nigripes', u'skunk, polecat, wood pussy', u'armadillo', u'three-toed sloth, ai, Bradypus tridactylus', u'gorilla, Gorilla gorilla', u'chimpanzee, chimp, Pan troglodytes', u'gibbon, Hylobates lar', u'siamang, Hylobates syndactylus, Symphalangus syndactylus', u'langur', u'colobus, colobus monkey', u'proboscis monkey, Nasalis larvatus', u'capuchin, ringtail, Cebus capucinus', u'howler monkey, howler', u'spider monkey, Ateles geoffroyi', u'squirrel monkey, Saimiri sciureus', u'Madagascar cat, ring-tailed lemur, Lemur catta', u'Indian elephant, Elephas maximus', u'African elephant, Loxodonta africana', u'lesser panda, red panda, panda, bear cat, cat bear, Ailurus fulgens', u'giant panda, panda, panda bear, coon bear, Ailuropoda melanoleuca', u'eel', u'coho, cohoe, coho salmon, blue jack, silver salmon, Oncorhynchus kisutch', u'rock beauty, Holocanthus tricolor', u'gar, garfish, garpike, billfish, Lepisosteus osseus', u'lionfish', u'puffer, pufferfish, blowfish, globefish', u'aircraft carrier, carrier, flattop, attack aircraft carrier', u'airliner', u'airship, dirigible', u'altar', u'ambulance', u'amphibian, amphibious vehicle', u'analog clock', u'ashcan, trash can, garbage can, wastebin, ash bin, ash-bin, ashbin, dustbin, trash barrel, trash bin', u'assault rifle, assault gun', u'balance beam, beam', u'balloon', u'ballpoint, ballpoint pen, ballpen, Biro', u'bannister, banister, balustrade, balusters, handrail', u'barbell', u'barrel, cask', u'barrow, garden cart, lawn cart, wheelbarrow', u'baseball', u'basketball', u'bath towel', u'beacon, lighthouse, beacon light, pharos', u'beer bottle', u'beer glass', u'bell cote, bell cot', u'bicycle-built-for-two, tandem bicycle, tandem', u'binoculars, field glasses, opera glasses', u'bobsled, bobsleigh, bob', u'bolo tie, bolo, bola tie, bola', u'bookshop, bookstore, bookstall', u'bottlecap', u'brass, memorial tablet, plaque', u'breakwater, groin, groyne, mole, bulwark, seawall, jetty', u'breastplate, aegis, egis', u'bucket, pail', u'buckle', u'bulletproof vest', u'bullet train, bullet', u'caldron, cauldron', u'candle, taper, wax light', u'carousel, carrousel, merry-go-round, roundabout, whirligig', u\"carpenter's kit, tool kit\", u'car wheel', u'cash machine, cash dispenser, automated teller machine, automatic teller machine, automated teller, automatic teller, ATM', u'cassette player', u'castle', u'CD player', u'cello, violoncello', u'cellular telephone, cellular phone, cellphone, cell, mobile phone', u'chainlink fence', u'chain mail, ring mail, mail, chain armor, chain armour, ring armor, ring armour', u'chime, bell, gong', u'china cabinet, china closet', u'church, church building', u'cinema, movie theater, movie theatre, movie house, picture palace', u'cleaver, meat cleaver, chopper', u'cliff dwelling', u'cloak', u'clog, geta, patten, sabot', u'cocktail shaker', u'coil, spiral, volute, whorl, helix', u'combination lock', u'container ship, containership, container vessel', u'convertible', u'corkscrew, bottle screw', u'cowboy hat, ten-gallon hat', u'cradle', u'crash helmet', u'croquet ball', u'dial telephone, dial phone', u'digital clock', u'digital watch', u'dining table, board', u'dishrag, dishcloth', u'dock, dockage, docking facility', u'dogsled, dog sled, dog sleigh', u'doormat, welcome mat', u'drilling platform, offshore rig', u'dumbbell', u'electric fan, blower', u'electric guitar', u'electric locomotive', u'envelope', u'file, file cabinet, filing cabinet', u'flagpole, flagstaff', u'flute, transverse flute', u'folding chair', u'football helmet', u'forklift', u'frying pan, frypan, skillet', u'gasmask, respirator, gas helmet', u'gas pump, gasoline pump, petrol pump, island dispenser', u'goblet', u'golf ball', u'golfcart, golf cart', u'gondola', u'greenhouse, nursery, glasshouse', u'grille, radiator grille', u'guillotine', u'hair slide', u'half track', u'hand blower, blow dryer, blow drier, hair dryer, hair drier', u'hand-held computer, hand-held microcomputer', u'holster', u'hook, claw', u'hoopskirt, crinoline', u'horizontal bar, high bar', u'hourglass', u\"jack-o'-lantern\", u'jean, blue jean, denim', u'jeep, landrover', u'jigsaw puzzle', u'lab coat, laboratory coat', u'ladle', u'lampshade, lamp shade', u'laptop, laptop computer', u'lawn mower, mower', u'lens cap, lens cover', u'letter opener, paper knife, paperknife', u'library', u'lifeboat', u'lighter, light, igniter, ignitor', u'limousine, limo', u'liner, ocean liner', u'lipstick, lip rouge', u'lotion', u'loudspeaker, speaker, speaker unit, loudspeaker system, speaker system', u\"loupe, jeweler's loupe\", u'lumbermill, sawmill', u'mailbag, postbag', u'mailbox, letter box', u'maillot', u'maillot, tank suit', u'manhole cover', u'marimba, xylophone', u'maypole', u'maze, labyrinth', u'megalith, megalithic structure', u'military uniform', u'milk can', u'missile', u'mixing bowl', u'mobile home, manufactured home', u'Model T', u'mountain bike, all-terrain bike, off-roader', u'muzzle', u'nail', u'necklace', u'nipple', u'obelisk', u'odometer, hodometer, mileometer, milometer', u'oil filter', u'oscilloscope, scope, cathode-ray oscilloscope, CRO', u'paddle, boat paddle', u'paddlewheel, paddle wheel', u'padlock', u'palace', u'paper towel', u'parallel bars, bars', u'pedestal, plinth, footstall', u'pencil box, pencil case', u'pencil sharpener', u'pick, plectrum, plectron', u'pickelhaube', u'picket fence, paling', u'pill bottle', u'pillow', u'ping-pong ball', u'pinwheel', u\"plane, carpenter's plane, woodworking plane\", u'planetarium', u'plastic bag', u'plate rack', u'plow, plough', u\"plunger, plumber's helper\", u'Polaroid camera, Polaroid Land camera', u'pole', u'police van, police wagon, paddy wagon, patrol wagon, wagon, black Maria', u'pool table, billiard table, snooker table', u'pop bottle, soda bottle', u'pot, flowerpot', u\"potter's wheel\", u'power drill', u'projectile, missile', u'punching bag, punch bag, punching ball, punchball', u'quill, quill pen', u'quilt, comforter, comfort, puff', u'radio, wireless', u'radio telescope, radio reflector', u'rain barrel', u'recreational vehicle, RV, R.V.', u'reel', u'reflex camera', u'remote control, remote', u'restaurant, eating house, eating place, eatery', u'revolver, six-gun, six-shooter', u'rifle', u'rubber eraser, rubber, pencil eraser', u'rugby ball', u'rule, ruler', u'saltshaker, salt shaker', u'sandal', u'scale, weighing machine', u'school bus', u'seat belt, seatbelt', u'shield, buckler', u'shovel', u'sleeping bag', u'slide rule, slipstick', u'sliding door', u'slot, one-armed bandit', u'snorkel', u'snowmobile', u'snowplow, snowplough', u'soccer ball', u'solar dish, solar collector, solar furnace', u'soup bowl', u'space shuttle', u'spatula', u'spindle', u'spotlight, spot', u'steam locomotive', u'steel arch bridge', u'steel drum', u'stole', u'stone wall', u'streetcar, tram, tramcar, trolley, trolley car', u'suit, suit of clothes', u'sundial', u'sunglass', u'sunglasses, dark glasses, shades', u'sunscreen, sunblock, sun blocker', u'switch, electric switch, electrical switch', u'table lamp', u'tank, army tank, armored combat vehicle, armoured combat vehicle', u'tape player', u'television, television system', u'tennis ball', u'thimble', u'tile roof', u'toilet seat', u'totem pole', u'trailer truck, tractor trailer, trucking rig, rig, articulated lorry, semi', u'tricycle, trike, velocipede', u'triumphal arch', u'trolleybus, trolley coach, trackless trolley', u'turnstile', u'umbrella', u'unicycle, monocycle', u'vacuum, vacuum cleaner', u'vault', u'velvet', u'violin, fiddle', u'volleyball', u'waffle iron', u'wall clock', u'wallet, billfold, notecase, pocketbook', u'wardrobe, closet, press', u'warplane, military plane', u'washbasin, handbasin, washbowl, lavabo, wash-hand basin', u'water bottle', u'whistle', u'wine bottle', u'wool, woolen, woollen', u'worm fence, snake fence, snake-rail fence, Virginia fence', u'yawl', u'crossword puzzle, crossword', u'traffic light, traffic signal, stoplight', u'plate', u'guacamole', u'trifle', u'ice lolly, lolly, lollipop, popsicle', u'French loaf', u'bagel, beigel', u'pretzel', u'broccoli', u'cauliflower', u'artichoke, globe artichoke', u'bell pepper', u'lemon', u'pineapple, ananas', u'custard apple', u'chocolate sauce, chocolate syrup', u'meat loaf, meatloaf', u'alp', u'bubble', u'cliff, drop, drop-off', u'coral reef', u'lakeside, lakeshore', u'promontory, headland, head, foreland', u'valley, vale', u'volcano', u'ballplayer, baseball player', u\"yellow lady's slipper, yellow lady-slipper, Cypripedium calceolus, Cypripedium parviflorum\", u'coral fungus', u'hen-of-the-woods, hen of the woods, Polyporus frondosus, Grifola frondosa', u'bolete', u'ear, spike, capitulum', u'toilet tissue, toilet paper, bathroom tissue']\n",
            "inception_v2_slim labels: [u'goldfish, Carassius auratus', u'tiger shark, Galeocerdo cuvieri', u'electric ray, crampfish, numbfish, torpedo', u'ostrich, Struthio camelus', u'brambling, Fringilla montifringilla', u'goldfinch, Carduelis carduelis', u'house finch, linnet, Carpodacus mexicanus', u'bulbul', u'water ouzel, dipper', u'bald eagle, American eagle, Haliaeetus leucocephalus', u'vulture', u'great grey owl, great gray owl, Strix nebulosa', u'European fire salamander, Salamandra salamandra', u'common newt, Triturus vulgaris', u'spotted salamander, Ambystoma maculatum', u'axolotl, mud puppy, Ambystoma mexicanum', u'bullfrog, Rana catesbeiana', u'tailed frog, bell toad, ribbed toad, tailed toad, Ascaphus trui', u'loggerhead, loggerhead turtle, Caretta caretta', u'leatherback turtle, leatherback, leathery turtle, Dermochelys coriacea', u'mud turtle', u'box turtle, box tortoise', u'American chameleon, anole, Anolis carolinensis', u'whiptail, whiptail lizard', u'frilled lizard, Chlamydosaurus kingi', u'alligator lizard', u'Gila monster, Heloderma suspectum', u'green lizard, Lacerta viridis', u'African chameleon, Chamaeleo chamaeleon', u'Komodo dragon, Komodo lizard, dragon lizard, giant lizard, Varanus komodoensis', u'African crocodile, Nile crocodile, Crocodylus niloticus', u'American alligator, Alligator mississipiensis', u'night snake, Hypsiglena torquata', u'diamondback, diamondback rattlesnake, Crotalus adamanteus', u'sidewinder, horned rattlesnake, Crotalus cerastes', u'trilobite', u'harvestman, daddy longlegs, Phalangium opilio', u'black and gold garden spider, Argiope aurantia', u'black widow, Latrodectus mactans', u'tarantula', u'wolf spider, hunting spider', u'black grouse', u'ruffed grouse, partridge, Bonasa umbellus', u'prairie chicken, prairie grouse, prairie fowl', u'quail', u'sulphur-crested cockatoo, Kakatoe galerita, Cacatua galerita', u'lorikeet', u'coucal', u'hornbill', u'black swan, Cygnus atratus', u'platypus, duckbill, duckbilled platypus, duck-billed platypus, Ornithorhynchus anatinus', u'wallaby, brush kangaroo', u'koala, koala bear, kangaroo bear, native bear, Phascolarctos cinereus', u'jellyfish', u'brain coral', u'flatworm, platyhelminth', u'snail', u'slug', u'sea slug, nudibranch', u'chiton, coat-of-mail shell, sea cradle, polyplacophore', u'chambered nautilus, pearly nautilus, nautilus', u'fiddler crab', u'king crab, Alaska crab, Alaskan king crab, Alaska king crab, Paralithodes camtschatica', u'American lobster, Northern lobster, Maine lobster, Homarus americanus', u'spiny lobster, langouste, rock lobster, crawfish, crayfish, sea crawfish', u'black stork, Ciconia nigra', u'spoonbill', u'flamingo', u'little blue heron, Egretta caerulea', u'American egret, great white heron, Egretta albus', u'limpkin, Aramus pictus', u'European gallinule, Porphyrio porphyrio', u'American coot, marsh hen, mud hen, water hen, Fulica americana', u'red-backed sandpiper, dunlin, Erolia alpina', u'pelican', u'albatross, mollymawk', u'grey whale, gray whale, devilfish, Eschrichtius gibbosus, Eschrichtius robustus', u'killer whale, killer, orca, grampus, sea wolf, Orcinus orca', u'sea lion', u'Japanese spaniel', u'Maltese dog, Maltese terrier, Maltese', u'Blenheim spaniel', u'papillon', u'beagle', u'bloodhound, sleuthhound', u'bluetick', u'black-and-tan coonhound', u'Walker hound, Walker foxhound', u'English foxhound', u'borzoi, Russian wolfhound', u'Irish wolfhound', u'Italian greyhound', u'Norwegian elkhound, elkhound', u'Saluki, gazelle hound', u'Staffordshire bullterrier, Staffordshire bull terrier', u'American Staffordshire terrier, Staffordshire terrier, American pit bull terrier, pit bull terrier', u'Bedlington terrier', u'Kerry blue terrier', u'Norfolk terrier', u'Lakeland terrier', u'Sealyham terrier, Sealyham', u'Airedale, Airedale terrier', u'Australian terrier', u'Boston bull, Boston terrier', u'silky terrier, Sydney silky', u'West Highland white terrier', u'flat-coated retriever', u'curly-coated retriever', u'golden retriever', u'vizsla, Hungarian pointer', u'English setter', u'Brittany spaniel', u'clumber, clumber spaniel', u'English springer, English springer spaniel', u'Welsh springer spaniel', u'cocker spaniel, English cocker spaniel, cocker', u'Sussex spaniel', u'Irish water spaniel', u'groenendael', u'malinois', u'kelpie', u'Old English sheepdog, bobtail', u'Shetland sheepdog, Shetland sheep dog, Shetland', u'collie', u'Border collie', u'Bouvier des Flandres, Bouviers des Flandres', u'Rottweiler', u'German shepherd, German shepherd dog, German police dog, alsatian', u'Appenzeller', u'EntleBucher', u'bull mastiff', u'French bulldog', u'malamute, malemute, Alaskan malamute', u'dalmatian, coach dog, carriage dog', u'Newfoundland, Newfoundland dog', u'Pembroke, Pembroke Welsh corgi', u'Cardigan, Cardigan Welsh corgi', u'toy poodle', u'miniature poodle', u'standard poodle', u'Mexican hairless', u'timber wolf, grey wolf, gray wolf, Canis lupus', u'white wolf, Arctic wolf, Canis lupus tundrarum', u'red wolf, maned wolf, Canis rufus, Canis niger', u'coyote, prairie wolf, brush wolf, Canis latrans', u'dingo, warrigal, warragal, Canis dingo', u'dhole, Cuon alpinus', u'red fox, Vulpes vulpes', u'kit fox, Vulpes macrotis', u'Arctic fox, white fox, Alopex lagopus', u'cougar, puma, catamount, mountain lion, painter, panther, Felis concolor', u'lynx, catamount', u'leopard, Panthera pardus', u'snow leopard, ounce, Panthera uncia', u'jaguar, panther, Panthera onca, Felis onca', u'lion, king of beasts, Panthera leo', u'American black bear, black bear, Ursus americanus, Euarctos americanus', u'ice bear, polar bear, Ursus Maritimus, Thalarctos maritimus', u'sloth bear, Melursus ursinus, Ursus ursinus', u'tiger beetle', u'ladybug, ladybeetle, lady beetle, ladybird, ladybird beetle', u'ground beetle, carabid beetle', u'long-horned beetle, longicorn, longicorn beetle', u'leaf beetle, chrysomelid', u'dung beetle', u'rhinoceros beetle', u'weevil', u'fly', u'walking stick, walkingstick, stick insect', u'cicada, cicala', u'leafhopper', u'lacewing, lacewing fly', u\"dragonfly, darning needle, devil's darning needle, sewing needle, snake feeder, snake doctor, mosquito hawk, skeeter hawk\", u'damselfly', u'admiral', u'ringlet, ringlet butterfly', u'monarch, monarch butterfly, milkweed butterfly, Danaus plexippus', u'cabbage butterfly', u'sulphur butterfly, sulfur butterfly', u'lycaenid, lycaenid butterfly', u'sea cucumber, holothurian', u'wood rabbit, cottontail, cottontail rabbit', u'fox squirrel, eastern fox squirrel, Sciurus niger', u'sorrel', u'hog, pig, grunter, squealer, Sus scrofa', u'wild boar, boar, Sus scrofa', u'water buffalo, water ox, Asiatic buffalo, Bubalus bubalis', u'impala, Aepyceros melampus', u'gazelle', u'Arabian camel, dromedary, Camelus dromedarius', u'llama', u'weasel', u'polecat, fitch, foulmart, foumart, Mustela putorius', u'black-footed ferret, ferret, Mustela nigripes', u'skunk, polecat, wood pussy', u'armadillo', u'three-toed sloth, ai, Bradypus tridactylus', u'gorilla, Gorilla gorilla', u'chimpanzee, chimp, Pan troglodytes', u'gibbon, Hylobates lar', u'siamang, Hylobates syndactylus, Symphalangus syndactylus', u'langur', u'colobus, colobus monkey', u'proboscis monkey, Nasalis larvatus', u'capuchin, ringtail, Cebus capucinus', u'howler monkey, howler', u'spider monkey, Ateles geoffroyi', u'squirrel monkey, Saimiri sciureus', u'Madagascar cat, ring-tailed lemur, Lemur catta', u'Indian elephant, Elephas maximus', u'African elephant, Loxodonta africana', u'lesser panda, red panda, panda, bear cat, cat bear, Ailurus fulgens', u'giant panda, panda, panda bear, coon bear, Ailuropoda melanoleuca', u'eel', u'coho, cohoe, coho salmon, blue jack, silver salmon, Oncorhynchus kisutch', u'rock beauty, Holocanthus tricolor', u'gar, garfish, garpike, billfish, Lepisosteus osseus', u'lionfish', u'puffer, pufferfish, blowfish, globefish', u'aircraft carrier, carrier, flattop, attack aircraft carrier', u'airliner', u'airship, dirigible', u'altar', u'ambulance', u'amphibian, amphibious vehicle', u'analog clock', u'ashcan, trash can, garbage can, wastebin, ash bin, ash-bin, ashbin, dustbin, trash barrel, trash bin', u'assault rifle, assault gun', u'balance beam, beam', u'balloon', u'ballpoint, ballpoint pen, ballpen, Biro', u'bannister, banister, balustrade, balusters, handrail', u'barbell', u'barrel, cask', u'barrow, garden cart, lawn cart, wheelbarrow', u'baseball', u'basketball', u'bath towel', u'beacon, lighthouse, beacon light, pharos', u'beer bottle', u'beer glass', u'bell cote, bell cot', u'bicycle-built-for-two, tandem bicycle, tandem', u'binoculars, field glasses, opera glasses', u'bobsled, bobsleigh, bob', u'bolo tie, bolo, bola tie, bola', u'bookshop, bookstore, bookstall', u'bottlecap', u'brass, memorial tablet, plaque', u'breakwater, groin, groyne, mole, bulwark, seawall, jetty', u'breastplate, aegis, egis', u'bucket, pail', u'buckle', u'bulletproof vest', u'bullet train, bullet', u'caldron, cauldron', u'candle, taper, wax light', u'carousel, carrousel, merry-go-round, roundabout, whirligig', u\"carpenter's kit, tool kit\", u'car wheel', u'cash machine, cash dispenser, automated teller machine, automatic teller machine, automated teller, automatic teller, ATM', u'cassette player', u'castle', u'CD player', u'cello, violoncello', u'cellular telephone, cellular phone, cellphone, cell, mobile phone', u'chainlink fence', u'chain mail, ring mail, mail, chain armor, chain armour, ring armor, ring armour', u'chime, bell, gong', u'china cabinet, china closet', u'church, church building', u'cinema, movie theater, movie theatre, movie house, picture palace', u'cleaver, meat cleaver, chopper', u'cliff dwelling', u'cloak', u'clog, geta, patten, sabot', u'cocktail shaker', u'coil, spiral, volute, whorl, helix', u'combination lock', u'container ship, containership, container vessel', u'convertible', u'corkscrew, bottle screw', u'cowboy hat, ten-gallon hat', u'cradle', u'crash helmet', u'croquet ball', u'dial telephone, dial phone', u'digital clock', u'digital watch', u'dining table, board', u'dishrag, dishcloth', u'dock, dockage, docking facility', u'dogsled, dog sled, dog sleigh', u'doormat, welcome mat', u'drilling platform, offshore rig', u'dumbbell', u'electric fan, blower', u'electric guitar', u'electric locomotive', u'envelope', u'file, file cabinet, filing cabinet', u'flagpole, flagstaff', u'flute, transverse flute', u'folding chair', u'football helmet', u'forklift', u'frying pan, frypan, skillet', u'gasmask, respirator, gas helmet', u'gas pump, gasoline pump, petrol pump, island dispenser', u'goblet', u'golf ball', u'golfcart, golf cart', u'gondola', u'greenhouse, nursery, glasshouse', u'grille, radiator grille', u'guillotine', u'hair slide', u'half track', u'hand blower, blow dryer, blow drier, hair dryer, hair drier', u'hand-held computer, hand-held microcomputer', u'holster', u'hook, claw', u'hoopskirt, crinoline', u'horizontal bar, high bar', u'hourglass', u\"jack-o'-lantern\", u'jean, blue jean, denim', u'jeep, landrover', u'jigsaw puzzle', u'lab coat, laboratory coat', u'ladle', u'lampshade, lamp shade', u'laptop, laptop computer', u'lawn mower, mower', u'lens cap, lens cover', u'letter opener, paper knife, paperknife', u'library', u'lifeboat', u'lighter, light, igniter, ignitor', u'limousine, limo', u'liner, ocean liner', u'lipstick, lip rouge', u'lotion', u'loudspeaker, speaker, speaker unit, loudspeaker system, speaker system', u\"loupe, jeweler's loupe\", u'lumbermill, sawmill', u'mailbag, postbag', u'mailbox, letter box', u'maillot', u'maillot, tank suit', u'manhole cover', u'marimba, xylophone', u'maypole', u'maze, labyrinth', u'megalith, megalithic structure', u'military uniform', u'milk can', u'missile', u'mixing bowl', u'mobile home, manufactured home', u'Model T', u'mountain bike, all-terrain bike, off-roader', u'muzzle', u'nail', u'necklace', u'nipple', u'obelisk', u'odometer, hodometer, mileometer, milometer', u'oil filter', u'oscilloscope, scope, cathode-ray oscilloscope, CRO', u'paddle, boat paddle', u'paddlewheel, paddle wheel', u'padlock', u'palace', u'paper towel', u'parallel bars, bars', u'pedestal, plinth, footstall', u'pencil box, pencil case', u'pencil sharpener', u'pick, plectrum, plectron', u'pickelhaube', u'picket fence, paling', u'pill bottle', u'pillow', u'ping-pong ball', u'pinwheel', u\"plane, carpenter's plane, woodworking plane\", u'planetarium', u'plastic bag', u'plate rack', u'plow, plough', u\"plunger, plumber's helper\", u'Polaroid camera, Polaroid Land camera', u'pole', u'police van, police wagon, paddy wagon, patrol wagon, wagon, black Maria', u'pool table, billiard table, snooker table', u'pop bottle, soda bottle', u'pot, flowerpot', u\"potter's wheel\", u'power drill', u'projectile, missile', u'punching bag, punch bag, punching ball, punchball', u'quill, quill pen', u'quilt, comforter, comfort, puff', u'radio, wireless', u'radio telescope, radio reflector', u'rain barrel', u'recreational vehicle, RV, R.V.', u'reel', u'reflex camera', u'remote control, remote', u'restaurant, eating house, eating place, eatery', u'revolver, six-gun, six-shooter', u'rifle', u'rubber eraser, rubber, pencil eraser', u'rugby ball', u'rule, ruler', u'saltshaker, salt shaker', u'sandal', u'scale, weighing machine', u'school bus', u'seat belt, seatbelt', u'shield, buckler', u'shovel', u'sleeping bag', u'slide rule, slipstick', u'sliding door', u'slot, one-armed bandit', u'snorkel', u'snowmobile', u'snowplow, snowplough', u'soccer ball', u'solar dish, solar collector, solar furnace', u'soup bowl', u'space shuttle', u'spatula', u'spindle', u'spotlight, spot', u'steam locomotive', u'steel arch bridge', u'steel drum', u'stole', u'stone wall', u'streetcar, tram, tramcar, trolley, trolley car', u'suit, suit of clothes', u'sundial', u'sunglass', u'sunglasses, dark glasses, shades', u'sunscreen, sunblock, sun blocker', u'switch, electric switch, electrical switch', u'table lamp', u'tank, army tank, armored combat vehicle, armoured combat vehicle', u'tape player', u'television, television system', u'tennis ball', u'thimble', u'tile roof', u'toilet seat', u'totem pole', u'trailer truck, tractor trailer, trucking rig, rig, articulated lorry, semi', u'tricycle, trike, velocipede', u'triumphal arch', u'trolleybus, trolley coach, trackless trolley', u'turnstile', u'umbrella', u'unicycle, monocycle', u'vacuum, vacuum cleaner', u'vault', u'velvet', u'violin, fiddle', u'volleyball', u'waffle iron', u'wall clock', u'wallet, billfold, notecase, pocketbook', u'wardrobe, closet, press', u'warplane, military plane', u'washbasin, handbasin, washbowl, lavabo, wash-hand basin', u'water bottle', u'whistle', u'wine bottle', u'wool, woolen, woollen', u'worm fence, snake fence, snake-rail fence, Virginia fence', u'yawl', u'crossword puzzle, crossword', u'traffic light, traffic signal, stoplight', u'plate', u'guacamole', u'trifle', u'ice lolly, lolly, lollipop, popsicle', u'French loaf', u'bagel, beigel', u'pretzel', u'broccoli', u'cauliflower', u'artichoke, globe artichoke', u'bell pepper', u'lemon', u'pineapple, ananas', u'custard apple', u'chocolate sauce, chocolate syrup', u'meat loaf, meatloaf', u'alp', u'bubble', u'cliff, drop, drop-off', u'coral reef', u'lakeside, lakeshore', u'promontory, headland, head, foreland', u'valley, vale', u'volcano', u'ballplayer, baseball player', u\"yellow lady's slipper, yellow lady-slipper, Cypripedium calceolus, Cypripedium parviflorum\", u'coral fungus', u'hen-of-the-woods, hen of the woods, Polyporus frondosus, Grifola frondosa', u'bolete', u'ear, spike, capitulum', u'toilet tissue, toilet paper, bathroom tissue']\n",
            "mobilenet_v2_14 labels: [u'goldfish, Carassius auratus', u'tiger shark, Galeocerdo cuvieri', u'electric ray, crampfish, numbfish, torpedo', u'ostrich, Struthio camelus', u'brambling, Fringilla montifringilla', u'goldfinch, Carduelis carduelis', u'house finch, linnet, Carpodacus mexicanus', u'bulbul', u'water ouzel, dipper', u'bald eagle, American eagle, Haliaeetus leucocephalus', u'vulture', u'great grey owl, great gray owl, Strix nebulosa', u'European fire salamander, Salamandra salamandra', u'common newt, Triturus vulgaris', u'spotted salamander, Ambystoma maculatum', u'axolotl, mud puppy, Ambystoma mexicanum', u'bullfrog, Rana catesbeiana', u'tailed frog, bell toad, ribbed toad, tailed toad, Ascaphus trui', u'loggerhead, loggerhead turtle, Caretta caretta', u'leatherback turtle, leatherback, leathery turtle, Dermochelys coriacea', u'mud turtle', u'box turtle, box tortoise', u'American chameleon, anole, Anolis carolinensis', u'whiptail, whiptail lizard', u'frilled lizard, Chlamydosaurus kingi', u'alligator lizard', u'Gila monster, Heloderma suspectum', u'green lizard, Lacerta viridis', u'African chameleon, Chamaeleo chamaeleon', u'Komodo dragon, Komodo lizard, dragon lizard, giant lizard, Varanus komodoensis', u'African crocodile, Nile crocodile, Crocodylus niloticus', u'American alligator, Alligator mississipiensis', u'night snake, Hypsiglena torquata', u'diamondback, diamondback rattlesnake, Crotalus adamanteus', u'sidewinder, horned rattlesnake, Crotalus cerastes', u'trilobite', u'harvestman, daddy longlegs, Phalangium opilio', u'black and gold garden spider, Argiope aurantia', u'black widow, Latrodectus mactans', u'tarantula', u'wolf spider, hunting spider', u'black grouse', u'ruffed grouse, partridge, Bonasa umbellus', u'prairie chicken, prairie grouse, prairie fowl', u'quail', u'sulphur-crested cockatoo, Kakatoe galerita, Cacatua galerita', u'lorikeet', u'coucal', u'hornbill', u'black swan, Cygnus atratus', u'platypus, duckbill, duckbilled platypus, duck-billed platypus, Ornithorhynchus anatinus', u'wallaby, brush kangaroo', u'koala, koala bear, kangaroo bear, native bear, Phascolarctos cinereus', u'jellyfish', u'brain coral', u'flatworm, platyhelminth', u'snail', u'slug', u'sea slug, nudibranch', u'chiton, coat-of-mail shell, sea cradle, polyplacophore', u'chambered nautilus, pearly nautilus, nautilus', u'fiddler crab', u'king crab, Alaska crab, Alaskan king crab, Alaska king crab, Paralithodes camtschatica', u'American lobster, Northern lobster, Maine lobster, Homarus americanus', u'spiny lobster, langouste, rock lobster, crawfish, crayfish, sea crawfish', u'black stork, Ciconia nigra', u'spoonbill', u'flamingo', u'little blue heron, Egretta caerulea', u'American egret, great white heron, Egretta albus', u'limpkin, Aramus pictus', u'European gallinule, Porphyrio porphyrio', u'American coot, marsh hen, mud hen, water hen, Fulica americana', u'red-backed sandpiper, dunlin, Erolia alpina', u'pelican', u'albatross, mollymawk', u'grey whale, gray whale, devilfish, Eschrichtius gibbosus, Eschrichtius robustus', u'killer whale, killer, orca, grampus, sea wolf, Orcinus orca', u'sea lion', u'Japanese spaniel', u'Maltese dog, Maltese terrier, Maltese', u'Blenheim spaniel', u'papillon', u'beagle', u'bloodhound, sleuthhound', u'bluetick', u'black-and-tan coonhound', u'Walker hound, Walker foxhound', u'English foxhound', u'borzoi, Russian wolfhound', u'Irish wolfhound', u'Italian greyhound', u'Norwegian elkhound, elkhound', u'Saluki, gazelle hound', u'Staffordshire bullterrier, Staffordshire bull terrier', u'American Staffordshire terrier, Staffordshire terrier, American pit bull terrier, pit bull terrier', u'Bedlington terrier', u'Kerry blue terrier', u'Norfolk terrier', u'Lakeland terrier', u'Sealyham terrier, Sealyham', u'Airedale, Airedale terrier', u'Australian terrier', u'Boston bull, Boston terrier', u'silky terrier, Sydney silky', u'West Highland white terrier', u'flat-coated retriever', u'curly-coated retriever', u'golden retriever', u'vizsla, Hungarian pointer', u'English setter', u'Brittany spaniel', u'clumber, clumber spaniel', u'English springer, English springer spaniel', u'Welsh springer spaniel', u'cocker spaniel, English cocker spaniel, cocker', u'Sussex spaniel', u'Irish water spaniel', u'groenendael', u'malinois', u'kelpie', u'Old English sheepdog, bobtail', u'Shetland sheepdog, Shetland sheep dog, Shetland', u'collie', u'Border collie', u'Bouvier des Flandres, Bouviers des Flandres', u'Rottweiler', u'German shepherd, German shepherd dog, German police dog, alsatian', u'Appenzeller', u'EntleBucher', u'bull mastiff', u'French bulldog', u'malamute, malemute, Alaskan malamute', u'dalmatian, coach dog, carriage dog', u'Newfoundland, Newfoundland dog', u'Pembroke, Pembroke Welsh corgi', u'Cardigan, Cardigan Welsh corgi', u'toy poodle', u'miniature poodle', u'standard poodle', u'Mexican hairless', u'timber wolf, grey wolf, gray wolf, Canis lupus', u'white wolf, Arctic wolf, Canis lupus tundrarum', u'red wolf, maned wolf, Canis rufus, Canis niger', u'coyote, prairie wolf, brush wolf, Canis latrans', u'dingo, warrigal, warragal, Canis dingo', u'dhole, Cuon alpinus', u'red fox, Vulpes vulpes', u'kit fox, Vulpes macrotis', u'Arctic fox, white fox, Alopex lagopus', u'cougar, puma, catamount, mountain lion, painter, panther, Felis concolor', u'lynx, catamount', u'leopard, Panthera pardus', u'snow leopard, ounce, Panthera uncia', u'jaguar, panther, Panthera onca, Felis onca', u'lion, king of beasts, Panthera leo', u'American black bear, black bear, Ursus americanus, Euarctos americanus', u'ice bear, polar bear, Ursus Maritimus, Thalarctos maritimus', u'sloth bear, Melursus ursinus, Ursus ursinus', u'tiger beetle', u'ladybug, ladybeetle, lady beetle, ladybird, ladybird beetle', u'ground beetle, carabid beetle', u'long-horned beetle, longicorn, longicorn beetle', u'leaf beetle, chrysomelid', u'dung beetle', u'rhinoceros beetle', u'weevil', u'fly', u'walking stick, walkingstick, stick insect', u'cicada, cicala', u'leafhopper', u'lacewing, lacewing fly', u\"dragonfly, darning needle, devil's darning needle, sewing needle, snake feeder, snake doctor, mosquito hawk, skeeter hawk\", u'damselfly', u'admiral', u'ringlet, ringlet butterfly', u'monarch, monarch butterfly, milkweed butterfly, Danaus plexippus', u'cabbage butterfly', u'sulphur butterfly, sulfur butterfly', u'lycaenid, lycaenid butterfly', u'sea cucumber, holothurian', u'wood rabbit, cottontail, cottontail rabbit', u'fox squirrel, eastern fox squirrel, Sciurus niger', u'sorrel', u'hog, pig, grunter, squealer, Sus scrofa', u'wild boar, boar, Sus scrofa', u'water buffalo, water ox, Asiatic buffalo, Bubalus bubalis', u'impala, Aepyceros melampus', u'gazelle', u'Arabian camel, dromedary, Camelus dromedarius', u'llama', u'weasel', u'polecat, fitch, foulmart, foumart, Mustela putorius', u'black-footed ferret, ferret, Mustela nigripes', u'skunk, polecat, wood pussy', u'armadillo', u'three-toed sloth, ai, Bradypus tridactylus', u'gorilla, Gorilla gorilla', u'chimpanzee, chimp, Pan troglodytes', u'gibbon, Hylobates lar', u'siamang, Hylobates syndactylus, Symphalangus syndactylus', u'langur', u'colobus, colobus monkey', u'proboscis monkey, Nasalis larvatus', u'capuchin, ringtail, Cebus capucinus', u'howler monkey, howler', u'spider monkey, Ateles geoffroyi', u'squirrel monkey, Saimiri sciureus', u'Madagascar cat, ring-tailed lemur, Lemur catta', u'Indian elephant, Elephas maximus', u'African elephant, Loxodonta africana', u'lesser panda, red panda, panda, bear cat, cat bear, Ailurus fulgens', u'giant panda, panda, panda bear, coon bear, Ailuropoda melanoleuca', u'eel', u'coho, cohoe, coho salmon, blue jack, silver salmon, Oncorhynchus kisutch', u'rock beauty, Holocanthus tricolor', u'gar, garfish, garpike, billfish, Lepisosteus osseus', u'lionfish', u'puffer, pufferfish, blowfish, globefish', u'aircraft carrier, carrier, flattop, attack aircraft carrier', u'airliner', u'airship, dirigible', u'altar', u'ambulance', u'amphibian, amphibious vehicle', u'analog clock', u'ashcan, trash can, garbage can, wastebin, ash bin, ash-bin, ashbin, dustbin, trash barrel, trash bin', u'assault rifle, assault gun', u'balance beam, beam', u'balloon', u'ballpoint, ballpoint pen, ballpen, Biro', u'bannister, banister, balustrade, balusters, handrail', u'barbell', u'barrel, cask', u'barrow, garden cart, lawn cart, wheelbarrow', u'baseball', u'basketball', u'bath towel', u'beacon, lighthouse, beacon light, pharos', u'beer bottle', u'beer glass', u'bell cote, bell cot', u'bicycle-built-for-two, tandem bicycle, tandem', u'binoculars, field glasses, opera glasses', u'bobsled, bobsleigh, bob', u'bolo tie, bolo, bola tie, bola', u'bookshop, bookstore, bookstall', u'bottlecap', u'brass, memorial tablet, plaque', u'breakwater, groin, groyne, mole, bulwark, seawall, jetty', u'breastplate, aegis, egis', u'bucket, pail', u'buckle', u'bulletproof vest', u'bullet train, bullet', u'caldron, cauldron', u'candle, taper, wax light', u'carousel, carrousel, merry-go-round, roundabout, whirligig', u\"carpenter's kit, tool kit\", u'car wheel', u'cash machine, cash dispenser, automated teller machine, automatic teller machine, automated teller, automatic teller, ATM', u'cassette player', u'castle', u'CD player', u'cello, violoncello', u'cellular telephone, cellular phone, cellphone, cell, mobile phone', u'chainlink fence', u'chain mail, ring mail, mail, chain armor, chain armour, ring armor, ring armour', u'chime, bell, gong', u'china cabinet, china closet', u'church, church building', u'cinema, movie theater, movie theatre, movie house, picture palace', u'cleaver, meat cleaver, chopper', u'cliff dwelling', u'cloak', u'clog, geta, patten, sabot', u'cocktail shaker', u'coil, spiral, volute, whorl, helix', u'combination lock', u'container ship, containership, container vessel', u'convertible', u'corkscrew, bottle screw', u'cowboy hat, ten-gallon hat', u'cradle', u'crash helmet', u'croquet ball', u'dial telephone, dial phone', u'digital clock', u'digital watch', u'dining table, board', u'dishrag, dishcloth', u'dock, dockage, docking facility', u'dogsled, dog sled, dog sleigh', u'doormat, welcome mat', u'drilling platform, offshore rig', u'dumbbell', u'electric fan, blower', u'electric guitar', u'electric locomotive', u'envelope', u'file, file cabinet, filing cabinet', u'flagpole, flagstaff', u'flute, transverse flute', u'folding chair', u'football helmet', u'forklift', u'frying pan, frypan, skillet', u'gasmask, respirator, gas helmet', u'gas pump, gasoline pump, petrol pump, island dispenser', u'goblet', u'golf ball', u'golfcart, golf cart', u'gondola', u'greenhouse, nursery, glasshouse', u'grille, radiator grille', u'guillotine', u'hair slide', u'half track', u'hand blower, blow dryer, blow drier, hair dryer, hair drier', u'hand-held computer, hand-held microcomputer', u'holster', u'hook, claw', u'hoopskirt, crinoline', u'horizontal bar, high bar', u'hourglass', u\"jack-o'-lantern\", u'jean, blue jean, denim', u'jeep, landrover', u'jigsaw puzzle', u'lab coat, laboratory coat', u'ladle', u'lampshade, lamp shade', u'laptop, laptop computer', u'lawn mower, mower', u'lens cap, lens cover', u'letter opener, paper knife, paperknife', u'library', u'lifeboat', u'lighter, light, igniter, ignitor', u'limousine, limo', u'liner, ocean liner', u'lipstick, lip rouge', u'lotion', u'loudspeaker, speaker, speaker unit, loudspeaker system, speaker system', u\"loupe, jeweler's loupe\", u'lumbermill, sawmill', u'mailbag, postbag', u'mailbox, letter box', u'maillot', u'maillot, tank suit', u'manhole cover', u'marimba, xylophone', u'maypole', u'maze, labyrinth', u'megalith, megalithic structure', u'military uniform', u'milk can', u'missile', u'mixing bowl', u'mobile home, manufactured home', u'Model T', u'mountain bike, all-terrain bike, off-roader', u'muzzle', u'nail', u'necklace', u'nipple', u'obelisk', u'odometer, hodometer, mileometer, milometer', u'oil filter', u'oscilloscope, scope, cathode-ray oscilloscope, CRO', u'paddle, boat paddle', u'paddlewheel, paddle wheel', u'padlock', u'palace', u'paper towel', u'parallel bars, bars', u'pedestal, plinth, footstall', u'pencil box, pencil case', u'pencil sharpener', u'pick, plectrum, plectron', u'pickelhaube', u'picket fence, paling', u'pill bottle', u'pillow', u'ping-pong ball', u'pinwheel', u\"plane, carpenter's plane, woodworking plane\", u'planetarium', u'plastic bag', u'plate rack', u'plow, plough', u\"plunger, plumber's helper\", u'Polaroid camera, Polaroid Land camera', u'pole', u'police van, police wagon, paddy wagon, patrol wagon, wagon, black Maria', u'pool table, billiard table, snooker table', u'pop bottle, soda bottle', u'pot, flowerpot', u\"potter's wheel\", u'power drill', u'projectile, missile', u'punching bag, punch bag, punching ball, punchball', u'quill, quill pen', u'quilt, comforter, comfort, puff', u'radio, wireless', u'radio telescope, radio reflector', u'rain barrel', u'recreational vehicle, RV, R.V.', u'reel', u'reflex camera', u'remote control, remote', u'restaurant, eating house, eating place, eatery', u'revolver, six-gun, six-shooter', u'rifle', u'rubber eraser, rubber, pencil eraser', u'rugby ball', u'rule, ruler', u'saltshaker, salt shaker', u'sandal', u'scale, weighing machine', u'school bus', u'seat belt, seatbelt', u'shield, buckler', u'shovel', u'sleeping bag', u'slide rule, slipstick', u'sliding door', u'slot, one-armed bandit', u'snorkel', u'snowmobile', u'snowplow, snowplough', u'soccer ball', u'solar dish, solar collector, solar furnace', u'soup bowl', u'space shuttle', u'spatula', u'spindle', u'spotlight, spot', u'steam locomotive', u'steel arch bridge', u'steel drum', u'stole', u'stone wall', u'streetcar, tram, tramcar, trolley, trolley car', u'suit, suit of clothes', u'sundial', u'sunglass', u'sunglasses, dark glasses, shades', u'sunscreen, sunblock, sun blocker', u'switch, electric switch, electrical switch', u'table lamp', u'tank, army tank, armored combat vehicle, armoured combat vehicle', u'tape player', u'television, television system', u'tennis ball', u'thimble', u'tile roof', u'toilet seat', u'totem pole', u'trailer truck, tractor trailer, trucking rig, rig, articulated lorry, semi', u'tricycle, trike, velocipede', u'triumphal arch', u'trolleybus, trolley coach, trackless trolley', u'turnstile', u'umbrella', u'unicycle, monocycle', u'vacuum, vacuum cleaner', u'vault', u'velvet', u'violin, fiddle', u'volleyball', u'waffle iron', u'wall clock', u'wallet, billfold, notecase, pocketbook', u'wardrobe, closet, press', u'warplane, military plane', u'washbasin, handbasin, washbowl, lavabo, wash-hand basin', u'water bottle', u'whistle', u'wine bottle', u'wool, woolen, woollen', u'worm fence, snake fence, snake-rail fence, Virginia fence', u'yawl', u'crossword puzzle, crossword', u'traffic light, traffic signal, stoplight', u'plate', u'guacamole', u'trifle', u'ice lolly, lolly, lollipop, popsicle', u'French loaf', u'bagel, beigel', u'pretzel', u'broccoli', u'cauliflower', u'artichoke, globe artichoke', u'bell pepper', u'lemon', u'pineapple, ananas', u'custard apple', u'chocolate sauce, chocolate syrup', u'meat loaf, meatloaf', u'alp', u'bubble', u'cliff, drop, drop-off', u'coral reef', u'lakeside, lakeshore', u'promontory, headland, head, foreland', u'valley, vale', u'volcano', u'ballplayer, baseball player', u\"yellow lady's slipper, yellow lady-slipper, Cypripedium calceolus, Cypripedium parviflorum\", u'coral fungus', u'hen-of-the-woods, hen of the woods, Polyporus frondosus, Grifola frondosa', u'bolete', u'ear, spike, capitulum', u'toilet tissue, toilet paper, bathroom tissue']\n",
            "resnet_v1_50 labels: [u'goldfish, Carassius auratus', u'tiger shark, Galeocerdo cuvieri', u'electric ray, crampfish, numbfish, torpedo', u'ostrich, Struthio camelus', u'brambling, Fringilla montifringilla', u'goldfinch, Carduelis carduelis', u'house finch, linnet, Carpodacus mexicanus', u'bulbul', u'water ouzel, dipper', u'bald eagle, American eagle, Haliaeetus leucocephalus', u'vulture', u'great grey owl, great gray owl, Strix nebulosa', u'European fire salamander, Salamandra salamandra', u'common newt, Triturus vulgaris', u'spotted salamander, Ambystoma maculatum', u'axolotl, mud puppy, Ambystoma mexicanum', u'bullfrog, Rana catesbeiana', u'tailed frog, bell toad, ribbed toad, tailed toad, Ascaphus trui', u'loggerhead, loggerhead turtle, Caretta caretta', u'leatherback turtle, leatherback, leathery turtle, Dermochelys coriacea', u'mud turtle', u'box turtle, box tortoise', u'American chameleon, anole, Anolis carolinensis', u'whiptail, whiptail lizard', u'frilled lizard, Chlamydosaurus kingi', u'alligator lizard', u'Gila monster, Heloderma suspectum', u'green lizard, Lacerta viridis', u'African chameleon, Chamaeleo chamaeleon', u'Komodo dragon, Komodo lizard, dragon lizard, giant lizard, Varanus komodoensis', u'African crocodile, Nile crocodile, Crocodylus niloticus', u'American alligator, Alligator mississipiensis', u'night snake, Hypsiglena torquata', u'diamondback, diamondback rattlesnake, Crotalus adamanteus', u'sidewinder, horned rattlesnake, Crotalus cerastes', u'trilobite', u'harvestman, daddy longlegs, Phalangium opilio', u'black and gold garden spider, Argiope aurantia', u'black widow, Latrodectus mactans', u'tarantula', u'wolf spider, hunting spider', u'black grouse', u'ruffed grouse, partridge, Bonasa umbellus', u'prairie chicken, prairie grouse, prairie fowl', u'quail', u'sulphur-crested cockatoo, Kakatoe galerita, Cacatua galerita', u'lorikeet', u'coucal', u'hornbill', u'black swan, Cygnus atratus', u'platypus, duckbill, duckbilled platypus, duck-billed platypus, Ornithorhynchus anatinus', u'wallaby, brush kangaroo', u'koala, koala bear, kangaroo bear, native bear, Phascolarctos cinereus', u'jellyfish', u'brain coral', u'flatworm, platyhelminth', u'snail', u'slug', u'sea slug, nudibranch', u'chiton, coat-of-mail shell, sea cradle, polyplacophore', u'chambered nautilus, pearly nautilus, nautilus', u'fiddler crab', u'king crab, Alaska crab, Alaskan king crab, Alaska king crab, Paralithodes camtschatica', u'American lobster, Northern lobster, Maine lobster, Homarus americanus', u'spiny lobster, langouste, rock lobster, crawfish, crayfish, sea crawfish', u'black stork, Ciconia nigra', u'spoonbill', u'flamingo', u'little blue heron, Egretta caerulea', u'American egret, great white heron, Egretta albus', u'limpkin, Aramus pictus', u'European gallinule, Porphyrio porphyrio', u'American coot, marsh hen, mud hen, water hen, Fulica americana', u'red-backed sandpiper, dunlin, Erolia alpina', u'pelican', u'albatross, mollymawk', u'grey whale, gray whale, devilfish, Eschrichtius gibbosus, Eschrichtius robustus', u'killer whale, killer, orca, grampus, sea wolf, Orcinus orca', u'sea lion', u'Japanese spaniel', u'Maltese dog, Maltese terrier, Maltese', u'Blenheim spaniel', u'papillon', u'beagle', u'bloodhound, sleuthhound', u'bluetick', u'black-and-tan coonhound', u'Walker hound, Walker foxhound', u'English foxhound', u'borzoi, Russian wolfhound', u'Irish wolfhound', u'Italian greyhound', u'Norwegian elkhound, elkhound', u'Saluki, gazelle hound', u'Staffordshire bullterrier, Staffordshire bull terrier', u'American Staffordshire terrier, Staffordshire terrier, American pit bull terrier, pit bull terrier', u'Bedlington terrier', u'Kerry blue terrier', u'Norfolk terrier', u'Lakeland terrier', u'Sealyham terrier, Sealyham', u'Airedale, Airedale terrier', u'Australian terrier', u'Boston bull, Boston terrier', u'silky terrier, Sydney silky', u'West Highland white terrier', u'flat-coated retriever', u'curly-coated retriever', u'golden retriever', u'vizsla, Hungarian pointer', u'English setter', u'Brittany spaniel', u'clumber, clumber spaniel', u'English springer, English springer spaniel', u'Welsh springer spaniel', u'cocker spaniel, English cocker spaniel, cocker', u'Sussex spaniel', u'Irish water spaniel', u'groenendael', u'malinois', u'kelpie', u'Old English sheepdog, bobtail', u'Shetland sheepdog, Shetland sheep dog, Shetland', u'collie', u'Border collie', u'Bouvier des Flandres, Bouviers des Flandres', u'Rottweiler', u'German shepherd, German shepherd dog, German police dog, alsatian', u'Appenzeller', u'EntleBucher', u'bull mastiff', u'French bulldog', u'malamute, malemute, Alaskan malamute', u'dalmatian, coach dog, carriage dog', u'Newfoundland, Newfoundland dog', u'Pembroke, Pembroke Welsh corgi', u'Cardigan, Cardigan Welsh corgi', u'toy poodle', u'miniature poodle', u'standard poodle', u'Mexican hairless', u'timber wolf, grey wolf, gray wolf, Canis lupus', u'white wolf, Arctic wolf, Canis lupus tundrarum', u'red wolf, maned wolf, Canis rufus, Canis niger', u'coyote, prairie wolf, brush wolf, Canis latrans', u'dingo, warrigal, warragal, Canis dingo', u'dhole, Cuon alpinus', u'red fox, Vulpes vulpes', u'kit fox, Vulpes macrotis', u'Arctic fox, white fox, Alopex lagopus', u'cougar, puma, catamount, mountain lion, painter, panther, Felis concolor', u'lynx, catamount', u'leopard, Panthera pardus', u'snow leopard, ounce, Panthera uncia', u'jaguar, panther, Panthera onca, Felis onca', u'lion, king of beasts, Panthera leo', u'American black bear, black bear, Ursus americanus, Euarctos americanus', u'ice bear, polar bear, Ursus Maritimus, Thalarctos maritimus', u'sloth bear, Melursus ursinus, Ursus ursinus', u'tiger beetle', u'ladybug, ladybeetle, lady beetle, ladybird, ladybird beetle', u'ground beetle, carabid beetle', u'long-horned beetle, longicorn, longicorn beetle', u'leaf beetle, chrysomelid', u'dung beetle', u'rhinoceros beetle', u'weevil', u'fly', u'walking stick, walkingstick, stick insect', u'cicada, cicala', u'leafhopper', u'lacewing, lacewing fly', u\"dragonfly, darning needle, devil's darning needle, sewing needle, snake feeder, snake doctor, mosquito hawk, skeeter hawk\", u'damselfly', u'admiral', u'ringlet, ringlet butterfly', u'monarch, monarch butterfly, milkweed butterfly, Danaus plexippus', u'cabbage butterfly', u'sulphur butterfly, sulfur butterfly', u'lycaenid, lycaenid butterfly', u'sea cucumber, holothurian', u'wood rabbit, cottontail, cottontail rabbit', u'fox squirrel, eastern fox squirrel, Sciurus niger', u'sorrel', u'hog, pig, grunter, squealer, Sus scrofa', u'wild boar, boar, Sus scrofa', u'water buffalo, water ox, Asiatic buffalo, Bubalus bubalis', u'impala, Aepyceros melampus', u'gazelle', u'Arabian camel, dromedary, Camelus dromedarius', u'llama', u'weasel', u'polecat, fitch, foulmart, foumart, Mustela putorius', u'black-footed ferret, ferret, Mustela nigripes', u'skunk, polecat, wood pussy', u'armadillo', u'three-toed sloth, ai, Bradypus tridactylus', u'gorilla, Gorilla gorilla', u'chimpanzee, chimp, Pan troglodytes', u'gibbon, Hylobates lar', u'siamang, Hylobates syndactylus, Symphalangus syndactylus', u'langur', u'colobus, colobus monkey', u'proboscis monkey, Nasalis larvatus', u'capuchin, ringtail, Cebus capucinus', u'howler monkey, howler', u'spider monkey, Ateles geoffroyi', u'squirrel monkey, Saimiri sciureus', u'Madagascar cat, ring-tailed lemur, Lemur catta', u'Indian elephant, Elephas maximus', u'African elephant, Loxodonta africana', u'lesser panda, red panda, panda, bear cat, cat bear, Ailurus fulgens', u'giant panda, panda, panda bear, coon bear, Ailuropoda melanoleuca', u'eel', u'coho, cohoe, coho salmon, blue jack, silver salmon, Oncorhynchus kisutch', u'rock beauty, Holocanthus tricolor', u'gar, garfish, garpike, billfish, Lepisosteus osseus', u'lionfish', u'puffer, pufferfish, blowfish, globefish', u'aircraft carrier, carrier, flattop, attack aircraft carrier', u'airliner', u'airship, dirigible', u'altar', u'ambulance', u'amphibian, amphibious vehicle', u'analog clock', u'ashcan, trash can, garbage can, wastebin, ash bin, ash-bin, ashbin, dustbin, trash barrel, trash bin', u'assault rifle, assault gun', u'balance beam, beam', u'balloon', u'ballpoint, ballpoint pen, ballpen, Biro', u'bannister, banister, balustrade, balusters, handrail', u'barbell', u'barrel, cask', u'barrow, garden cart, lawn cart, wheelbarrow', u'baseball', u'basketball', u'bath towel', u'beacon, lighthouse, beacon light, pharos', u'beer bottle', u'beer glass', u'bell cote, bell cot', u'bicycle-built-for-two, tandem bicycle, tandem', u'binoculars, field glasses, opera glasses', u'bobsled, bobsleigh, bob', u'bolo tie, bolo, bola tie, bola', u'bookshop, bookstore, bookstall', u'bottlecap', u'brass, memorial tablet, plaque', u'breakwater, groin, groyne, mole, bulwark, seawall, jetty', u'breastplate, aegis, egis', u'bucket, pail', u'buckle', u'bulletproof vest', u'bullet train, bullet', u'caldron, cauldron', u'candle, taper, wax light', u'carousel, carrousel, merry-go-round, roundabout, whirligig', u\"carpenter's kit, tool kit\", u'car wheel', u'cash machine, cash dispenser, automated teller machine, automatic teller machine, automated teller, automatic teller, ATM', u'cassette player', u'castle', u'CD player', u'cello, violoncello', u'cellular telephone, cellular phone, cellphone, cell, mobile phone', u'chainlink fence', u'chain mail, ring mail, mail, chain armor, chain armour, ring armor, ring armour', u'chime, bell, gong', u'china cabinet, china closet', u'church, church building', u'cinema, movie theater, movie theatre, movie house, picture palace', u'cleaver, meat cleaver, chopper', u'cliff dwelling', u'cloak', u'clog, geta, patten, sabot', u'cocktail shaker', u'coil, spiral, volute, whorl, helix', u'combination lock', u'container ship, containership, container vessel', u'convertible', u'corkscrew, bottle screw', u'cowboy hat, ten-gallon hat', u'cradle', u'crash helmet', u'croquet ball', u'dial telephone, dial phone', u'digital clock', u'digital watch', u'dining table, board', u'dishrag, dishcloth', u'dock, dockage, docking facility', u'dogsled, dog sled, dog sleigh', u'doormat, welcome mat', u'drilling platform, offshore rig', u'dumbbell', u'electric fan, blower', u'electric guitar', u'electric locomotive', u'envelope', u'file, file cabinet, filing cabinet', u'flagpole, flagstaff', u'flute, transverse flute', u'folding chair', u'football helmet', u'forklift', u'frying pan, frypan, skillet', u'gasmask, respirator, gas helmet', u'gas pump, gasoline pump, petrol pump, island dispenser', u'goblet', u'golf ball', u'golfcart, golf cart', u'gondola', u'greenhouse, nursery, glasshouse', u'grille, radiator grille', u'guillotine', u'hair slide', u'half track', u'hand blower, blow dryer, blow drier, hair dryer, hair drier', u'hand-held computer, hand-held microcomputer', u'holster', u'hook, claw', u'hoopskirt, crinoline', u'horizontal bar, high bar', u'hourglass', u\"jack-o'-lantern\", u'jean, blue jean, denim', u'jeep, landrover', u'jigsaw puzzle', u'lab coat, laboratory coat', u'ladle', u'lampshade, lamp shade', u'laptop, laptop computer', u'lawn mower, mower', u'lens cap, lens cover', u'letter opener, paper knife, paperknife', u'library', u'lifeboat', u'lighter, light, igniter, ignitor', u'limousine, limo', u'liner, ocean liner', u'lipstick, lip rouge', u'lotion', u'loudspeaker, speaker, speaker unit, loudspeaker system, speaker system', u\"loupe, jeweler's loupe\", u'lumbermill, sawmill', u'mailbag, postbag', u'mailbox, letter box', u'maillot', u'maillot, tank suit', u'manhole cover', u'marimba, xylophone', u'maypole', u'maze, labyrinth', u'megalith, megalithic structure', u'military uniform', u'milk can', u'missile', u'mixing bowl', u'mobile home, manufactured home', u'Model T', u'mountain bike, all-terrain bike, off-roader', u'muzzle', u'nail', u'necklace', u'nipple', u'obelisk', u'odometer, hodometer, mileometer, milometer', u'oil filter', u'oscilloscope, scope, cathode-ray oscilloscope, CRO', u'paddle, boat paddle', u'paddlewheel, paddle wheel', u'padlock', u'palace', u'paper towel', u'parallel bars, bars', u'pedestal, plinth, footstall', u'pencil box, pencil case', u'pencil sharpener', u'pick, plectrum, plectron', u'pickelhaube', u'picket fence, paling', u'pill bottle', u'pillow', u'ping-pong ball', u'pinwheel', u\"plane, carpenter's plane, woodworking plane\", u'planetarium', u'plastic bag', u'plate rack', u'plow, plough', u\"plunger, plumber's helper\", u'Polaroid camera, Polaroid Land camera', u'pole', u'police van, police wagon, paddy wagon, patrol wagon, wagon, black Maria', u'pool table, billiard table, snooker table', u'pop bottle, soda bottle', u'pot, flowerpot', u\"potter's wheel\", u'power drill', u'projectile, missile', u'punching bag, punch bag, punching ball, punchball', u'quill, quill pen', u'quilt, comforter, comfort, puff', u'radio, wireless', u'radio telescope, radio reflector', u'rain barrel', u'recreational vehicle, RV, R.V.', u'reel', u'reflex camera', u'remote control, remote', u'restaurant, eating house, eating place, eatery', u'revolver, six-gun, six-shooter', u'rifle', u'rubber eraser, rubber, pencil eraser', u'rugby ball', u'rule, ruler', u'saltshaker, salt shaker', u'sandal', u'scale, weighing machine', u'school bus', u'seat belt, seatbelt', u'shield, buckler', u'shovel', u'sleeping bag', u'slide rule, slipstick', u'sliding door', u'slot, one-armed bandit', u'snorkel', u'snowmobile', u'snowplow, snowplough', u'soccer ball', u'solar dish, solar collector, solar furnace', u'soup bowl', u'space shuttle', u'spatula', u'spindle', u'spotlight, spot', u'steam locomotive', u'steel arch bridge', u'steel drum', u'stole', u'stone wall', u'streetcar, tram, tramcar, trolley, trolley car', u'suit, suit of clothes', u'sundial', u'sunglass', u'sunglasses, dark glasses, shades', u'sunscreen, sunblock, sun blocker', u'switch, electric switch, electrical switch', u'table lamp', u'tank, army tank, armored combat vehicle, armoured combat vehicle', u'tape player', u'television, television system', u'tennis ball', u'thimble', u'tile roof', u'toilet seat', u'totem pole', u'trailer truck, tractor trailer, trucking rig, rig, articulated lorry, semi', u'tricycle, trike, velocipede', u'triumphal arch', u'trolleybus, trolley coach, trackless trolley', u'turnstile', u'umbrella', u'unicycle, monocycle', u'vacuum, vacuum cleaner', u'vault', u'velvet', u'violin, fiddle', u'volleyball', u'waffle iron', u'wall clock', u'wallet, billfold, notecase, pocketbook', u'wardrobe, closet, press', u'warplane, military plane', u'washbasin, handbasin, washbowl, lavabo, wash-hand basin', u'water bottle', u'whistle', u'wine bottle', u'wool, woolen, woollen', u'worm fence, snake fence, snake-rail fence, Virginia fence', u'yawl', u'crossword puzzle, crossword', u'traffic light, traffic signal, stoplight', u'plate', u'guacamole', u'trifle', u'ice lolly, lolly, lollipop, popsicle', u'French loaf', u'bagel, beigel', u'pretzel', u'broccoli', u'cauliflower', u'artichoke, globe artichoke', u'bell pepper', u'lemon', u'pineapple, ananas', u'custard apple', u'chocolate sauce, chocolate syrup', u'meat loaf, meatloaf', u'alp', u'bubble', u'cliff, drop, drop-off', u'coral reef', u'lakeside, lakeshore', u'promontory, headland, head, foreland', u'valley, vale', u'volcano', u'ballplayer, baseball player', u\"yellow lady's slipper, yellow lady-slipper, Cypripedium calceolus, Cypripedium parviflorum\", u'coral fungus', u'hen-of-the-woods, hen of the woods, Polyporus frondosus, Grifola frondosa', u'bolete', u'ear, spike, capitulum', u'toilet tissue, toilet paper, bathroom tissue']\n"
          ],
          "name": "stdout"
        }
      ]
    },
    {
      "metadata": {
        "id": "KjUUZ_-IM-Ph",
        "colab_type": "text"
      },
      "cell_type": "markdown",
      "source": [
        "## Choose parameters"
      ]
    },
    {
      "metadata": {
        "id": "vfRMZhEyNvFC",
        "colab_type": "code",
        "outputId": "a7c74016-204e-496d-f773-2d5b76c248a0",
        "colab": {
          "base_uri": "https://localhost:8080/",
          "height": 323
        }
      },
      "cell_type": "code",
      "source": [
        "#@title After running this cell manually, it will auto-run if you change the selected value. { run: \"auto\", display-mode: \"form\" }\n",
        "\n",
        "CATEGORY_TO_OPTIMIZE = \"lemon\" #@param {type:\"string\"}\n",
        "#@markdown Some of my favorite categories are \"bee\", \"lemon\", \"strawberry\", \"Granny Smith\", \"pelican\" (pelican is quite difficult to optimize)\n",
        "#@markdown ---\n",
        "NUMBER_STROKES = 2 #@param {type:\"slider\", min:1, max:30, step:1}\n",
        "#@markdown Number of strokes per canvas. Make sure to keep this a low number (~3-10) if you are using a lot of canvases.\n",
        "#@markdown ---\n",
        "BATCH_SIZE = 3 #@param {type:\"slider\", min:1, max:5, step:1}\n",
        "#@markdown ---\n",
        "PAINTER_MODE = \"VAE\" #@param [\"GAN\", \"VAE\"]\n",
        "#@markdown VAE mode results in more solid strokes that are easier to optimize for.\n",
        "#@markdown GAN mode results in strokes that actually look like paintbrush strokes, although they might be harder to optimize for.\n",
        "#@markdown ---\n",
        "ADD_NOISE = True #@param {type:\"boolean\"}\n",
        "#@markdown Experimental. Adding uncertainty may (or may not) help produce more robust images. Currently only the GAN painter uses this parameter.\n",
        "#@markdown ---\n",
        "CANVAS_MULTIPLIER = 4 #@param {type:\"slider\", min:1, max:8}\n",
        "#@markdown Number of times canvas is repeated horizontally and vertically. The amount of computation increases exponentially with this parameter.\n",
        "#@markdown ---\n",
        "OVERLAP_PX = 48 #@param {type: \"slider\", min: 0, max: 48}\n",
        "#@markdown Number of overlapping pixels between canvases (the canvases are size 64x64).\n",
        "#@markdown ---\n",
        "CONNECTED_STROKES = False #@param {type:\"boolean\"}\n",
        "#@markdown If true, strokes begin at the endpoint of the previous stroke. Otherwise, strokes are independent and can start anywhere.\n",
        "#@markdown ---\n",
        "LEARNING_RATE = 0.05 #@param {type: \"number\"}\n",
        "\n",
        "#@markdown ---\n",
        "#@markdown ### Choose which models are optimized *at the same time*:\n",
        "USE_INCEPTION_V1 = False #@param {type:\"boolean\"}\n",
        "USE_INCEPTION_V1_SLIM = True #@param {type:\"boolean\"}\n",
        "USE_INCEPTION_V2_SLIM = True #@param {type:\"boolean\"}\n",
        "USE_MOBILENET_V2_14 = True #@param {type:\"boolean\"}\n",
        "USE_RESNET_V1_50 = True #@param {type:\"boolean\"}\n",
        "\n",
        "MODELS_TO_OPTIMIZE = []\n",
        "if USE_INCEPTION_V1:\n",
        "  MODELS_TO_OPTIMIZE.append('inception_v1')\n",
        "if USE_INCEPTION_V1_SLIM:\n",
        "  MODELS_TO_OPTIMIZE.append('inception_v1_slim')\n",
        "if USE_INCEPTION_V2_SLIM:\n",
        "  MODELS_TO_OPTIMIZE.append('inception_v2_slim')\n",
        "if USE_MOBILENET_V2_14:\n",
        "  MODELS_TO_OPTIMIZE.append('mobilenet_v2_14')\n",
        "if USE_RESNET_V1_50:\n",
        "  MODELS_TO_OPTIMIZE.append('resnet_v1_50')\n",
        "\n",
        "print(\"Category to optimize\", CATEGORY_TO_OPTIMIZE)\n",
        "print(\"Number of strokes\", NUMBER_STROKES)\n",
        "print(\"Batch size\", BATCH_SIZE)\n",
        "print(\"Using {} painter\".format(PAINTER_MODE))\n",
        "print(\"Adding noise\", ADD_NOISE)\n",
        "print(\"Canvas multiplier\", CANVAS_MULTIPLIER)\n",
        "print(\"Pixel overlap\", OVERLAP_PX)\n",
        "print(\"Using connected strokes\", CONNECTED_STROKES)\n",
        "print(\"Learning Rate\", LEARNING_RATE)\n",
        "print(\"Models to optimize\", MODELS_TO_OPTIMIZE)\n",
        "print('--------------------')\n",
        "search(CATEGORY_TO_OPTIMIZE)\n",
        "\n",
        "if USE_INCEPTION_V1:\n",
        "  if CATEGORY_TO_OPTIMIZE not in models.InceptionV1().labels:\n",
        "    raise Exception(\"{} not in inception_v1\".format(CATEGORY_TO_OPTIMIZE))\n",
        "if USE_INCEPTION_V1_SLIM:\n",
        "  if CATEGORY_TO_OPTIMIZE not in models.InceptionV1_slim().labels:\n",
        "    raise Exception(\"{} not in inception_v1_slim\".format(CATEGORY_TO_OPTIMIZE))\n",
        "if USE_INCEPTION_V2_SLIM:\n",
        "  if CATEGORY_TO_OPTIMIZE not in models.InceptionV2_slim().labels:\n",
        "    raise Exception(\"{} not in inception_v2_slim\".format(CATEGORY_TO_OPTIMIZE))\n",
        "if USE_MOBILENET_V2_14:\n",
        "  if CATEGORY_TO_OPTIMIZE not in models.MobilenetV2_14_slim().labels:\n",
        "    raise Exception(\"{} not in mobilenet_v2_14\".format(CATEGORY_TO_OPTIMIZE))\n",
        "if USE_RESNET_V1_50:\n",
        "  if CATEGORY_TO_OPTIMIZE not in models.ResnetV1_50_slim().labels:\n",
        "    raise Exception(\"{} not in resnet_v1_50\".format(CATEGORY_TO_OPTIMIZE))\n"
      ],
      "execution_count": 0,
      "outputs": [
        {
          "output_type": "stream",
          "text": [
            "('Category to optimize', 'bald eagle, American eagle, Haliaeetus leucocephalus')\n",
            "('Number of strokes', 2)\n",
            "('Batch size', 3)\n",
            "Using VAE painter\n",
            "('Adding noise', True)\n",
            "('Canvas multiplier', 4)\n",
            "('Pixel overlap', 48)\n",
            "('Using connected strokes', False)\n",
            "('Learning Rate', 0.05)\n",
            "('Models to optimize', ['inception_v1_slim', 'inception_v2_slim', 'mobilenet_v2_14', 'resnet_v1_50'])\n",
            "--------------------\n",
            "searching matching labels for bald eagle, American eagle, Haliaeetus leucocephalus\n",
            "inception_v1 labels: []\n",
            "inception_v1_slim labels: [u'bald eagle, American eagle, Haliaeetus leucocephalus']\n",
            "inception_v2_slim labels: [u'bald eagle, American eagle, Haliaeetus leucocephalus']\n",
            "mobilenet_v2_14 labels: [u'bald eagle, American eagle, Haliaeetus leucocephalus']\n",
            "resnet_v1_50 labels: [u'bald eagle, American eagle, Haliaeetus leucocephalus']\n"
          ],
          "name": "stdout"
        }
      ]
    },
    {
      "metadata": {
        "id": "J3MTakNPQ3Du",
        "colab_type": "text"
      },
      "cell_type": "markdown",
      "source": [
        "## Run!"
      ]
    },
    {
      "metadata": {
        "id": "ntvHiCwgHi56",
        "colab_type": "code",
        "colab": {}
      },
      "cell_type": "code",
      "source": [
        "lol = LucidGraph(CATEGORY_TO_OPTIMIZE, NUMBER_STROKES, BATCH_SIZE, \n",
        "                 painter_type=PAINTER_MODE, connected=CONNECTED_STROKES, \n",
        "                 add_noise=ADD_NOISE, lr=LEARNING_RATE,\n",
        "                 overlap_px=OVERLAP_PX, repeat=CANVAS_MULTIPLIER, alternate=False,\n",
        "                 models_to_optimize=MODELS_TO_OPTIMIZE)\n",
        "if PAINTER_MODE == \"GAN\":\n",
        "  if ADD_NOISE:\n",
        "    lol.load_painter_checkpoint('tf_gan4')\n",
        "  else:\n",
        "    lol.load_painter_checkpoint('tf_gan3')\n",
        "elif PAINTER_MODE == \"VAE\":\n",
        "  lol.load_painter_checkpoint('tf_vae')\n",
        "lol.train()"
      ],
      "execution_count": 0,
      "outputs": []
    },
    {
      "metadata": {
        "id": "Ket_vOx0Tvn5",
        "colab_type": "text"
      },
      "cell_type": "markdown",
      "source": [
        "## Evaluate results"
      ]
    },
    {
      "metadata": {
        "id": "OSaIOM9PH1n8",
        "colab_type": "code",
        "colab": {}
      },
      "cell_type": "code",
      "source": [
        "def print_results():\n",
        "  def sigmoid(x):\n",
        "      s = 1/(1+np.exp(-x))\n",
        "      return s\n",
        "\n",
        "  acs, dream_paintings = lol.sess.run([lol.actions, lol.resized_canvas])\n",
        "  actual_acs = sigmoid(acs)\n",
        "  for p in dream_paintings:\n",
        "    show(p)\n",
        "\n",
        "print_results()"
      ],
      "execution_count": 0,
      "outputs": []
    },
    {
      "metadata": {
        "id": "V4B5syw5H1lW",
        "colab_type": "code",
        "colab": {}
      },
      "cell_type": "code",
      "source": [
        "def vid(my_frames):\n",
        "  \n",
        "  def frame(t):\n",
        "    t = int(t*30)\n",
        "    if t >= len(my_frames):\n",
        "      t = len(my_frames)-1\n",
        "    return (np.hstack(my_frames[t])*255).astype(np.float)\n",
        "\n",
        "  clip = mpy.VideoClip(frame, duration=len(my_frames)/30.)\n",
        "  clip.write_videofile('tmp.mp4', fps=30.0)\n",
        "  display(mpy.ipython_display('tmp.mp4', height=200, max_duration=70.))\n",
        "  \n",
        "# If the video is too long, you can skip some\n",
        "keep_1_in_n = 1\n",
        "vid(lol.images[::keep_1_in_n])"
      ],
      "execution_count": 0,
      "outputs": []
    },
    {
      "metadata": {
        "id": "-vkWTmT7H1jF",
        "colab_type": "code",
        "colab": {}
      },
      "cell_type": "code",
      "source": [
        ""
      ],
      "execution_count": 0,
      "outputs": []
    }
  ]
}