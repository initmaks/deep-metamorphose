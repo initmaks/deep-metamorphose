{
 "cells": [
  {
   "cell_type": "markdown",
   "metadata": {
    "colab_type": "text",
    "id": "view-in-github"
   },
   "source": [
    "<a href=\"https://colab.research.google.com/github/reiinakano/neural-painters/blob/master/notebooks/train_gan_painter.ipynb\" target=\"_parent\"><img src=\"https://colab.research.google.com/assets/colab-badge.svg\" alt=\"Open In Colab\"/></a>"
   ]
  },
  {
   "cell_type": "markdown",
   "metadata": {
    "colab_type": "text",
    "id": "NVBXj5cqMeJ7"
   },
   "source": [
    "# Optionally connect to Google Drive"
   ]
  },
  {
   "cell_type": "code",
   "execution_count": null,
   "metadata": {
    "colab": {
     "base_uri": "https://localhost:8080/",
     "height": 127
    },
    "colab_type": "code",
    "id": "y_yS_Zk7W_mh",
    "outputId": "383b3f1e-1dee-4cb1-8079-ce32038ca489"
   },
   "outputs": [
    {
     "name": "stdout",
     "output_type": "stream",
     "text": [
      "Go to this URL in a browser: https://accounts.google.com/o/oauth2/auth?client_id=947318989803-6bn6qk8qdgf4n4g3pfee6491hc0brc4i.apps.googleusercontent.com&redirect_uri=urn%3Aietf%3Awg%3Aoauth%3A2.0%3Aoob&scope=email%20https%3A%2F%2Fwww.googleapis.com%2Fauth%2Fdocs.test%20https%3A%2F%2Fwww.googleapis.com%2Fauth%2Fdrive%20https%3A%2F%2Fwww.googleapis.com%2Fauth%2Fdrive.photos.readonly%20https%3A%2F%2Fwww.googleapis.com%2Fauth%2Fpeopleapi.readonly&response_type=code\n",
      "\n",
      "Enter your authorization code:\n",
      "··········\n",
      "Mounted at /drive\n"
     ]
    }
   ],
   "source": [
    "#from google.colab import drive\n",
    "#drive.mount('/drive')"
   ]
  },
  {
   "cell_type": "markdown",
   "metadata": {
    "colab_type": "text",
    "id": "9P5f_uzAq_5g"
   },
   "source": [
    "## Install MyPaint and dependencies"
   ]
  },
  {
   "cell_type": "code",
   "execution_count": 1,
   "metadata": {
    "colab": {},
    "colab_type": "code",
    "id": "bAWyePtkn3av"
   },
   "outputs": [],
   "source": [
    "# # Install mypaint\n",
    "# !apt-get update\n",
    "# !apt-get install libjson-c-dev libgirepository1.0-dev libglib2.0-dev\n",
    "# !apt-get install autotools-dev intltool gettext libtool\n",
    "# !apt-get install swig python-setuptools gettext g++\n",
    "# !apt-get install -y libgtk-3-dev python-gi-dev\n",
    "# !apt-get install -y libpng-dev liblcms2-dev libjson-c-dev\n",
    "# !apt-get install -y gir1.2-gtk-3.0 python-gi-cairo\n",
    "# !apt-get install scons\n",
    "\n",
    "# !wget https://github.com/mypaint/libmypaint/releases/download/v1.3.0/libmypaint-1.3.0.tar.xz\n",
    "# !tar -xvf libmypaint-1.3.0.tar.xz\n",
    "# !mv libmypaint-1.3.0 libmypaint\n",
    "\n",
    "# !cd libmypaint && ./configure && make install\n",
    "\n",
    "# !wget https://github.com/mypaint/mypaint/releases/download/v1.2.1/mypaint-1.2.1.tar.xz\n",
    "# !tar -xvf mypaint-1.2.1.tar.xz\n",
    "# !mv mypaint-1.2.1 mypaint\n",
    "# !cd mypaint && scons && scons install\n",
    "\n",
    "# !ldconfig\n",
    "\n",
    "# !pip install ipdb tqdm pathlib cloudpickle  matplotlib"
   ]
  },
  {
   "cell_type": "code",
   "execution_count": 2,
   "metadata": {
    "colab": {
     "base_uri": "https://localhost:8080/",
     "height": 145
    },
    "colab_type": "code",
    "id": "61GvP5YaR4ao",
    "outputId": "41fc29b9-054c-4a38-beaf-acf8209647a7"
   },
   "outputs": [],
   "source": [
    "# !pip install future-fstrings"
   ]
  },
  {
   "cell_type": "code",
   "execution_count": 3,
   "metadata": {
    "colab": {
     "base_uri": "https://localhost:8080/",
     "height": 197
    },
    "colab_type": "code",
    "id": "1ueV31ATgbQp",
    "outputId": "af72a2a4-48c5-4d2e-86ab-a05bb1cacccf"
   },
   "outputs": [],
   "source": [
    "# !git clone https://github.com/reiinakano/SPIRAL-tensorflow.git\n",
    "# !cd SPIRAL-tensorflow && git checkout reiinakano-patch-2  #reiinakano-patches\n",
    "# !cd SPIRAL-tensorflow && git pull"
   ]
  },
  {
   "cell_type": "code",
   "execution_count": 4,
   "metadata": {
    "colab": {
     "base_uri": "https://localhost:8080/",
     "height": 251
    },
    "colab_type": "code",
    "id": "a2NYZTrugOeu",
    "outputId": "82360cb1-7d7a-4ad7-8f48-e6d6bada53ab"
   },
   "outputs": [],
   "source": [
    "# ! wget https://bin.equinox.io/c/4VmDzA7iaHb/ngrok-stable-linux-amd64.zip\n",
    "# ! unzip ngrok-stable-linux-amd64.zip"
   ]
  },
  {
   "cell_type": "markdown",
   "metadata": {
    "colab_type": "text",
    "id": "NfpE8439-xP5"
   },
   "source": [
    "# Download episodes. \n",
    "\n",
    "If you want to use/generate your own brushstrokes, go to https://github.com/reiinakano/diff-painter/blob/master/notebooks/generate_stroke_examples.ipynb or put your data under the data/ folder.\n",
    "\n",
    "Otherwise, you can download pre-calculated brushstrokes from Kaggle. You will need to set your API credentials via https://github.com/Kaggle/kaggle-api#api-credentials"
   ]
  },
  {
   "cell_type": "code",
   "execution_count": null,
   "metadata": {
    "colab": {},
    "colab_type": "code",
    "id": "tie8ynxlVmqH"
   },
   "outputs": [],
   "source": [
    "# !pip install kaggle"
   ]
  },
  {
   "cell_type": "code",
   "execution_count": null,
   "metadata": {
    "colab": {},
    "colab_type": "code",
    "id": "rfdcEEY0VDlo"
   },
   "outputs": [],
   "source": [
    "# !mkdir -p ~/.kaggle\n",
    "\n",
    "# # Make sure to upload your Kaggle key from somewhere. I saved mine in Drive\n",
    "# #!cp \"/drive/My Drive/kaggle.json\" ~/.kaggle/"
   ]
  },
  {
   "cell_type": "code",
   "execution_count": 5,
   "metadata": {
    "colab": {
     "base_uri": "https://localhost:8080/",
     "height": 71
    },
    "colab_type": "code",
    "id": "p_0SSM20WAIi",
    "outputId": "188a18a7-2f62-41e4-8191-b32171034496"
   },
   "outputs": [],
   "source": [
    "# !kaggle datasets download reiinakano/mypaint_brushstrokes"
   ]
  },
  {
   "cell_type": "code",
   "execution_count": 6,
   "metadata": {
    "colab": {},
    "colab_type": "code",
    "id": "K6gtiCrAWRrv"
   },
   "outputs": [],
   "source": [
    "# !unzip mypaint_brushstrokes.zip"
   ]
  },
  {
   "cell_type": "code",
   "execution_count": 7,
   "metadata": {
    "colab": {},
    "colab_type": "code",
    "id": "AbNUGvQVXyRF"
   },
   "outputs": [],
   "source": [
    "# !mv strokes-dataset data"
   ]
  },
  {
   "cell_type": "markdown",
   "metadata": {
    "colab_type": "text",
    "id": "OWvFNFI1LpRV"
   },
   "source": [
    "# import"
   ]
  },
  {
   "cell_type": "code",
   "execution_count": 11,
   "metadata": {
    "colab": {
     "base_uri": "https://localhost:8080/",
     "height": 125
    },
    "colab_type": "code",
    "id": "QYBRFuZqRqHL",
    "outputId": "fe54fc92-e3a7-4dc9-c378-15bc4f1dcd92"
   },
   "outputs": [
    {
     "name": "stdout",
     "output_type": "stream",
     "text": [
      "1.13.1\n"
     ]
    }
   ],
   "source": [
    "import numpy as np\n",
    "import matplotlib.pyplot as plt\n",
    "from pathlib import Path\n",
    "import json\n",
    "\n",
    "import tensorflow as tf\n",
    "import os\n",
    "\n",
    "import sys\n",
    "# sys.path.append('mypaint')\n",
    "# sys.path.append('SPIRAL-tensorflow')\n",
    "\n",
    "# from lib import surface, tiledsurface, brush\n",
    "# from envs.mypaint_utils import *\n",
    "\n",
    "import matplotlib.pyplot as plt\n",
    "\n",
    "import tensorflow.contrib.layers as tcl\n",
    "\n",
    "from IPython.display import display\n",
    "\n",
    "import moviepy.editor as mpy\n",
    "from moviepy.video.io.ffmpeg_writer import FFMPEG_VideoWriter\n",
    "\n",
    "import time\n",
    "print(tf.__version__)"
   ]
  },
  {
   "cell_type": "markdown",
   "metadata": {
    "colab_type": "text",
    "id": "f8HJ5tI7Lb_Z"
   },
   "source": [
    "# paint environment"
   ]
  },
  {
   "cell_type": "code",
   "execution_count": null,
   "metadata": {
    "colab": {},
    "colab_type": "code",
    "id": "BAaXkkWhRzWt"
   },
   "outputs": [],
   "source": [
    "# class args:\n",
    "#   jump=True\n",
    "#   curve=True\n",
    "#   screen_size=64\n",
    "#   location_size=32\n",
    "#   color_channel=3\n",
    "#   brush_path='SPIRAL-tensorflow/assets/brushes/dry_brush.myb'\n",
    "#   train=True\n",
    "#   data_dir=Path('data')"
   ]
  },
  {
   "cell_type": "code",
   "execution_count": null,
   "metadata": {
    "colab": {},
    "colab_type": "code",
    "id": "2z3CXRd1TRma"
   },
   "outputs": [],
   "source": [
    "# class PaintMode:\n",
    "#   STROKES_ONLY = 0\n",
    "#   JUMP_STROKES = 1\n",
    "#   CONNECTED_STROKES = 2\n",
    "\n",
    "# class ColorEnv():\n",
    "#     head = 0.25\n",
    "#     tail = 0.75\n",
    "    \n",
    "#     # all 0 to 1\n",
    "#     actions_to_idx = {\n",
    "#         'pressure': 0,\n",
    "#         'size': 1,\n",
    "#         'control_x': 2,\n",
    "#         'control_y': 3,\n",
    "#         'end_x': 4,\n",
    "#         'end_y': 5,\n",
    "#         'color_r': 6,\n",
    "#         'color_g': 7,\n",
    "#         'color_b': 8,\n",
    "#         'start_x': 9,\n",
    "#         'start_y': 10,\n",
    "#         'entry_pressure': 11,\n",
    "#     }\n",
    "\n",
    "#     def __init__(self, args, paint_mode=PaintMode.JUMP_STROKES):\n",
    "#         self.args = args\n",
    "#         self.paint_mode = paint_mode\n",
    "\n",
    "#         # screen\n",
    "#         self.screen_size = args.screen_size\n",
    "#         self.height, self.width = self.screen_size, self.screen_size\n",
    "#         self.observation_shape = [\n",
    "#                 self.height, self.width, args.color_channel]\n",
    "\n",
    "#         # location\n",
    "#         self.location_size = args.location_size\n",
    "#         self.location_shape = [self.location_size, self.location_size]\n",
    "        \n",
    "#         self.prev_x, self.prev_y, self.prev_pressure = None, None, None\n",
    "    \n",
    "#     @staticmethod\n",
    "#     def pretty_print_action(ac):\n",
    "#         for k, v in ColorEnv.actions_to_idx.items():\n",
    "#             print(k, ac[v])\n",
    "    \n",
    "#     def random_action(self):\n",
    "#         return np.random.uniform(size=[len(self.actions_to_idx)])\n",
    "      \n",
    "#     def reset(self):\n",
    "#         self.intermediate_images = []\n",
    "#         self.prev_x, self.prev_y, self.prev_pressure = None, None, None\n",
    "\n",
    "#         self.s = tiledsurface.Surface()\n",
    "#         self.s.flood_fill(0, 0, (255, 255, 255), (0, 0, 64, 64), 0, self.s)\n",
    "#         self.s.begin_atomic()\n",
    "\n",
    "#         with open(self.args.brush_path) as fp:\n",
    "#             self.bi = brush.BrushInfo(fp.read())\n",
    "#         self.b = brush.Brush(self.bi)\n",
    "\n",
    "#     def draw(self, ac, s=None, dtime=1):\n",
    "#         # Just added this\n",
    "#         if self.paint_mode == PaintMode.STROKES_ONLY:\n",
    "#           self.s.clear()\n",
    "#           self.s.flood_fill(0, 0, (255, 255, 255), (0, 0, 64, 64), 0, self.s)\n",
    "#           self.s.end_atomic()\n",
    "#           self.s.begin_atomic()\n",
    "        \n",
    "#         if s is None:\n",
    "#             s = self.s\n",
    "\n",
    "#         s_x, s_y = ac[self.actions_to_idx['start_x']]*64, ac[self.actions_to_idx['start_y']]*64  \n",
    "#         e_x, e_y = ac[self.actions_to_idx['end_x']]*64, ac[self.actions_to_idx['end_y']]*64\n",
    "#         c_x, c_y = ac[self.actions_to_idx['control_x']]*64, ac[self.actions_to_idx['control_y']]*64\n",
    "#         color = (\n",
    "#             ac[self.actions_to_idx['color_r']],\n",
    "#             ac[self.actions_to_idx['color_g']],\n",
    "#             ac[self.actions_to_idx['color_b']],\n",
    "#         )\n",
    "#         pressure = ac[self.actions_to_idx['pressure']]*0.8\n",
    "#         entry_pressure = ac[self.actions_to_idx['entry_pressure']]*0.8\n",
    "#         size = ac[self.actions_to_idx['size']] * 2.\n",
    "        \n",
    "#         if self.paint_mode == PaintMode.CONNECTED_STROKES:\n",
    "#             if self.prev_x is not None:\n",
    "#                 s_x, s_y, entry_pressure = self.prev_x, self.prev_y, self.prev_pressure\n",
    "#             self.prev_x, self.prev_y, self.prev_pressure = e_x, e_y, pressure\n",
    "\n",
    "#         self.b.brushinfo.set_color_rgb(color)\n",
    "        \n",
    "#         self.b.brushinfo.set_base_value('radius_logarithmic', size)\n",
    "\n",
    "#         # Move brush to starting point without leaving it on the canvas.\n",
    "#         self._stroke_to(s_x, s_y, 0)\n",
    "\n",
    "#         self._draw(s_x, s_y, e_x, e_y, c_x, c_y, entry_pressure, pressure, size, color, dtime)\n",
    "\n",
    "#     def _draw(self, s_x, s_y, e_x, e_y, c_x, c_y,\n",
    "#               entry_pressure, pressure, size, color, dtime):\n",
    "\n",
    "#         # if straight line or jump\n",
    "#         if pressure == 0:\n",
    "#             self.b.stroke_to(\n",
    "#                     self.s.backend, e_x, e_y, pressure, 0, 0, dtime)\n",
    "#         else:\n",
    "#             self.curve(c_x, c_y, s_x, s_y, e_x, e_y, entry_pressure, pressure)\n",
    "            \n",
    "#         # Relieve brush pressure for next jump\n",
    "#         self._stroke_to(e_x, e_y, 0)\n",
    "\n",
    "#         self.s.end_atomic()\n",
    "#         self.s.begin_atomic()\n",
    "\n",
    "#     # sx, sy = starting point\n",
    "#     # ex, ey = end point\n",
    "#     # kx, ky = curve point from last line\n",
    "#     # lx, ly = last point from InteractionMode update\n",
    "#     def curve(self, cx, cy, sx, sy, ex, ey, entry_pressure, pressure):\n",
    "#         #entry_p, midpoint_p, junk, prange2, head, tail\n",
    "#         entry_p, midpoint_p, prange1, prange2, h, t = \\\n",
    "#                 self._line_settings(entry_pressure, pressure)\n",
    "\n",
    "#         points_in_curve = 100\n",
    "#         mx, my = midpoint(sx, sy, ex, ey)\n",
    "#         length, nx, ny = length_and_normal(mx, my, cx, cy)\n",
    "#         cx, cy = multiply_add(mx, my, nx, ny, length*2)\n",
    "#         x1, y1 = difference(sx, sy, cx, cy)\n",
    "#         x2, y2 = difference(cx, cy, ex, ey)\n",
    "#         head = points_in_curve * h\n",
    "#         head_range = int(head)+1\n",
    "#         tail = points_in_curve * t\n",
    "#         tail_range = int(tail)+1\n",
    "#         tail_length = points_in_curve - tail\n",
    "\n",
    "#         # Beginning\n",
    "#         px, py = point_on_curve_1(1, cx, cy, sx, sy, x1, y1, x2, y2)\n",
    "#         length, nx, ny = length_and_normal(sx, sy, px, py)\n",
    "#         bx, by = multiply_add(sx, sy, nx, ny, 0.25)\n",
    "#         self._stroke_to(bx, by, entry_p)\n",
    "#         pressure = abs(1/head * prange1 + entry_p)\n",
    "#         self._stroke_to(px, py, pressure)\n",
    "\n",
    "#         for i in xrange(2, head_range):\n",
    "#             px, py = point_on_curve_1(i, cx, cy, sx, sy, x1, y1, x2, y2)\n",
    "#             pressure = abs(i/head * prange1 + entry_p)\n",
    "#             self._stroke_to(px, py, pressure)\n",
    "\n",
    "#         # Middle\n",
    "#         for i in xrange(head_range, tail_range):\n",
    "#             px, py = point_on_curve_1(i, cx, cy, sx, sy, x1, y1, x2, y2)\n",
    "#             self._stroke_to(px, py, midpoint_p)\n",
    "\n",
    "#         # End\n",
    "#         for i in xrange(tail_range, points_in_curve+1):\n",
    "#             px, py = point_on_curve_1(i, cx, cy, sx, sy, x1, y1, x2, y2)\n",
    "#             pressure = abs((i-tail)/tail_length * prange2 + midpoint_p)\n",
    "#             self._stroke_to(px, py, pressure)\n",
    "\n",
    "#         return pressure\n",
    "\n",
    "#     def _stroke_to(self, x, y, pressure, duration=0.1):\n",
    "#         self.b.stroke_to(\n",
    "#                 self.s.backend,\n",
    "#                 x, y,\n",
    "#                 pressure,\n",
    "#                 0.0, 0.0,\n",
    "#                 duration)\n",
    "#         self.s.end_atomic()\n",
    "#         self.s.begin_atomic()\n",
    "#         self.intermediate_images.append(self.image)\n",
    "\n",
    "#     def save_image(self, path=\"test.png\"):\n",
    "#         Image.fromarray(self.image.astype(np.uint8).squeeze()).save(path)\n",
    "#         #self.s.save_as_png(path, alpha=False)\n",
    "\n",
    "#     @property\n",
    "#     def image(self):\n",
    "#         rect = [0, 0, self.height, self.width]\n",
    "#         scanline_strips = \\\n",
    "#                 surface.scanline_strips_iter(self.s, rect)\n",
    "#         return next(scanline_strips)\n",
    "\n",
    "#     def _line_settings(self, entry_pressure, pressure):\n",
    "#         p1 = entry_pressure\n",
    "#         p2 = (entry_pressure + pressure) / 2\n",
    "#         p3 = pressure\n",
    "#         if self.head == 0.0001:\n",
    "#             p1 = p2\n",
    "#         prange1 = p2 - p1\n",
    "#         prange2 = p3 - p2\n",
    "#         return p1, p2, prange1, prange2, self.head, self.tail\n"
   ]
  },
  {
   "cell_type": "markdown",
   "metadata": {
    "colab_type": "text",
    "id": "nB3Xr8N5A0NQ"
   },
   "source": [
    "# Sanity check data"
   ]
  },
  {
   "cell_type": "code",
   "execution_count": 13,
   "metadata": {
    "colab": {
     "base_uri": "https://localhost:8080/",
     "height": 122
    },
    "colab_type": "code",
    "id": "nLLVVhBGjdX5",
    "outputId": "02b6d12b-e153-4a21-aba0-6c8f1effa582"
   },
   "outputs": [
    {
     "data": {
      "image/png": "[encoded data removed]",
      "text/plain": [
       "<Figure size 2160x720 with 10 Axes>"
      ]
     },
     "metadata": {
      "needs_background": "light"
     },
     "output_type": "display_data"
    }
   ],
   "source": [
    "loaded = np.load('data/episodes_0.npz')\n",
    "\n",
    "# w=10#args.screen_size\n",
    "# h=args.screen_size\n",
    "fig=plt.figure(figsize=(30, 10))\n",
    "cols = 10\n",
    "\n",
    "smaller_arr = loaded['strokes'][:cols]\n",
    "\n",
    "for col in range(cols):\n",
    "    img = smaller_arr[col][:, :, :3]\n",
    "    #print(img.shape)\n",
    "    fig.add_subplot(1, 20, col+1)\n",
    "    plt.grid(False)\n",
    "    plt.imshow(img)\n",
    "plt.show()"
   ]
  },
  {
   "cell_type": "markdown",
   "metadata": {
    "colab_type": "text",
    "id": "gm-BNgebLwMY"
   },
   "source": [
    "# GAN Neural Painter"
   ]
  },
  {
   "cell_type": "code",
   "execution_count": 32,
   "metadata": {
    "colab": {},
    "colab_type": "code",
    "id": "JVwCHbiOL8la"
   },
   "outputs": [],
   "source": [
    "def leaky_relu(x, alpha=0.2):\n",
    "    return tf.maximum(tf.minimum(0.0, alpha * x), x)\n",
    "\n",
    "def leaky_relu_batch_norm(x, alpha=0.2):\n",
    "    return leaky_relu(tf.contrib.layers.batch_norm(x, updates_collections=None), alpha)\n",
    "\n",
    "def relu_batch_norm(x):\n",
    "    return tf.nn.relu(tf.contrib.layers.batch_norm(x, updates_collections=None))\n",
    "  \n",
    "class DiscriminatorConditionalWM(object):\n",
    "    def __init__(self, divisor=1):\n",
    "        \"\"\"\n",
    "        make the network smaller by divisor times\n",
    "        \"\"\"\n",
    "        self.x_dim = 64 * 64 * 3\n",
    "        self.name = 'lsun/dcgan/d_net'\n",
    "        self.divisor=divisor\n",
    "        \n",
    "    def __call__(self, x, conditions, reuse=True):\n",
    "        with tf.variable_scope(self.name) as vs:\n",
    "            if reuse:\n",
    "                vs.reuse_variables()\n",
    "            bs = tf.shape(x)[0]\n",
    "            x = tf.reshape(x, [bs, 64, 64, 3])\n",
    "            conditions = tf.reshape(conditions, [bs, 2])\n",
    "            conditions = tf.contrib.layers.fully_connected(conditions, 64//self.divisor)\n",
    "            conditions = tf.reshape(conditions, [bs, 1, 1, 64//self.divisor])\n",
    "            conv1 = tcl.conv2d(\n",
    "                x, 64//self.divisor, [4, 4], [2, 2],\n",
    "                weights_initializer=tf.random_normal_initializer(stddev=0.02),\n",
    "                activation_fn=leaky_relu\n",
    "            )\n",
    "            conv1 = conv1 + conditions\n",
    "            conv2 = tcl.conv2d(\n",
    "                conv1, 128//self.divisor, [4, 4], [2, 2],\n",
    "                weights_initializer=tf.random_normal_initializer(stddev=0.02),\n",
    "                activation_fn=leaky_relu_batch_norm\n",
    "            )\n",
    "            conv3 = tcl.conv2d(\n",
    "                conv2, 256//self.divisor, [4, 4], [2, 2],\n",
    "                weights_initializer=tf.random_normal_initializer(stddev=0.02),\n",
    "                activation_fn=leaky_relu_batch_norm\n",
    "            )\n",
    "            conv4 = tcl.conv2d(\n",
    "                conv3, 512//self.divisor, [4, 4], [2, 2],\n",
    "                weights_initializer=tf.random_normal_initializer(stddev=0.02),\n",
    "                activation_fn=leaky_relu_batch_norm\n",
    "            )\n",
    "            conv4 = tcl.flatten(conv4)\n",
    "            fc = tcl.fully_connected(conv4, 1, activation_fn=tf.identity)\n",
    "            return fc\n",
    "\n",
    "    @property\n",
    "    def vars(self):\n",
    "        return [var for var in tf.global_variables() if self.name in var.name]\n",
    "\n",
    "class GeneratorConditional(object):\n",
    "    def __init__(self, divisor=1, add_noise=False):\n",
    "        self.x_dim = 64 * 64 * 3\n",
    "        self.divisor=divisor\n",
    "        self.name = 'lsun/dcgan/g_net'\n",
    "        self.add_noise = add_noise\n",
    "\n",
    "    def __call__(self, conditions, is_training):\n",
    "        with tf.contrib.framework.arg_scope([tcl.batch_norm], \n",
    "                                            is_training=is_training):\n",
    "          with tf.variable_scope(self.name) as vs:\n",
    "              bs = tf.shape(conditions)[0]\n",
    "              if self.add_noise:\n",
    "                conditions = tf.concat([conditions, tf.random.uniform([bs, 10])], axis=1)\n",
    "              fc = tcl.fully_connected(conditions, 4 * 4 * 1024//self.divisor, activation_fn=tf.identity)\n",
    "              conv1 = tf.reshape(fc, tf.stack([bs, 4, 4, 1024//self.divisor]))\n",
    "              conv1 = relu_batch_norm(conv1)\n",
    "              conv2 = tcl.conv2d_transpose(\n",
    "                  conv1, 512//self.divisor, [4, 4], [2, 2],\n",
    "                  weights_initializer=tf.random_normal_initializer(stddev=0.02),\n",
    "                  activation_fn=relu_batch_norm\n",
    "              )\n",
    "              conv3 = tcl.conv2d_transpose(\n",
    "                  conv2, 256//self.divisor, [4, 4], [2, 2],\n",
    "                  weights_initializer=tf.random_normal_initializer(stddev=0.02),\n",
    "                  activation_fn=relu_batch_norm\n",
    "              )\n",
    "              conv4 = tcl.conv2d_transpose(\n",
    "                  conv3, 128//self.divisor, [4, 4], [2, 2],\n",
    "                  weights_initializer=tf.random_normal_initializer(stddev=0.02),\n",
    "                  activation_fn=relu_batch_norm\n",
    "              )\n",
    "              conv5 = tcl.conv2d_transpose(\n",
    "                  conv4, 3, [4, 4], [2, 2],\n",
    "                  weights_initializer=tf.random_normal_initializer(stddev=0.02),\n",
    "                  activation_fn=tf.sigmoid)\n",
    "              return conv5\n",
    "\n",
    "    @property\n",
    "    def vars(self):\n",
    "        return [var for var in tf.global_variables() if self.name in var.name]"
   ]
  },
  {
   "cell_type": "code",
   "execution_count": 33,
   "metadata": {
    "colab": {},
    "colab_type": "code",
    "id": "WhkS4KSjR3jg"
   },
   "outputs": [],
   "source": [
    "class ConvGAN(object):\n",
    "  def __init__(self, learning_rate=0.0001, is_training=True, reuse=False, gpu_mode=True, data_glob='data/episodes_*.npz', divisor=1, add_noise=False, graph=None):\n",
    "    self.learning_rate = learning_rate\n",
    "    self.is_training = is_training\n",
    "    self.reuse = reuse\n",
    "    self.g_net = GeneratorConditional(divisor=divisor, add_noise=add_noise)\n",
    "    self.d_net = DiscriminatorConditionalWM(divisor=divisor)\n",
    "    \n",
    "    if self.is_training:\n",
    "      self.episode_files = tf.gfile.Glob(data_glob)\n",
    "      np.random.shuffle(self.episode_files)\n",
    "      self.ep_file_ctr = 0\n",
    "      self.current_file_idx = 0\n",
    "      loaded = np.load(self.episode_files[0])\n",
    "      self.loaded_strokes = loaded['strokes']\n",
    "      self.loaded_actions = loaded['actions']\n",
    "      self.len_loaded = len(self.loaded_strokes)\n",
    "    \n",
    "    if not gpu_mode:\n",
    "      with tf.device('/cpu:0'):\n",
    "        tf.logging.info('conv_gan using cpu.')\n",
    "        self._build_training_or_generator_graph(graph)\n",
    "    else:\n",
    "      tf.logging.info('conv_gan using gpu.')\n",
    "      self._build_training_or_generator_graph(graph)\n",
    "    self._init_session()\n",
    "   \n",
    "  def _build_training_or_generator_graph(self, graph):\n",
    "    if self.is_training:\n",
    "      self._build_graph(graph)\n",
    "    else:\n",
    "      self._build_generator_graph(graph)\n",
    "  \n",
    "  def _build_graph(self, graph):\n",
    "    if graph is None:\n",
    "      self.g = tf.Graph()\n",
    "    else:\n",
    "      self.g = graph\n",
    "    with self.g.as_default(), tf.variable_scope('conv_gan', reuse=self.reuse):\n",
    "\n",
    "      self.x = tf.placeholder(tf.float32, shape=[None, 64, 64, 3])\n",
    "      self.actions = tf.placeholder(tf.float32, shape=[None, 2])\n",
    "      \n",
    "      self.y = self.g_net(self.actions, is_training=self.is_training)\n",
    "      \n",
    "      real_score = tf.reduce_mean(self.d_net(self.x, self.actions, reuse=False))\n",
    "      generated_score = tf.reduce_mean(self.d_net(self.y, self.actions))\n",
    "      \n",
    "      real_score_summ = tf.summary.scalar('real_score', real_score)\n",
    "      g_loss_summ = tf.summary.scalar('generated_score/g_loss', generated_score)\n",
    "      \n",
    "      reconstruction_loss = tf.reduce_mean(tf.square(self.y-self.x))\n",
    "      recon_loss_summ = tf.summary.scalar('recon_loss', reconstruction_loss)\n",
    "      \n",
    "      # actual reconstruction loss used for training\n",
    "      self.uneven_multiplier = tf.placeholder_with_default(1.0, [])\n",
    "      u_m_summ = tf.summary.scalar('uneven_multiplier', self.uneven_multiplier)\n",
    "      mask = tf.reduce_mean(\n",
    "        self.x,\n",
    "        reduction_indices = [3]\n",
    "      )\n",
    "      stroke_whitespace = tf.equal(mask, 1.0)\n",
    "      mask = tf.where(stroke_whitespace, tf.ones(tf.shape(mask)), self.uneven_multiplier*tf.ones(tf.shape(mask)))\n",
    "      mask = tf.reshape(mask, [-1, 64, 64, 1])\n",
    "      mask = tf.tile(mask, [1, 1, 1, 3])\n",
    "      tf.summary.image('mask', mask, max_outputs=3)\n",
    "      print(mask.get_shape())\n",
    "      self.r_loss = 10*tf.reduce_mean((tf.square(self.x - self.y))*mask)\n",
    "      actual_recon_loss_summ = tf.summary.scalar('recon_loss_actual', self.r_loss)\n",
    "      # /actual reconstruction loss used for training\n",
    "      \n",
    "      self.g_loss = generated_score + self.r_loss\n",
    "      self.d_loss = real_score - generated_score\n",
    "      \n",
    "      epsilon = tf.random_uniform([], 0.0, 1.0)\n",
    "      x_hat = epsilon * self.x + (1 - epsilon) * self.y\n",
    "      d_hat = self.d_net(x_hat, self.actions)\n",
    "      \n",
    "      ddx = tf.gradients(d_hat, x_hat)[0]\n",
    "      print(ddx.get_shape().as_list())\n",
    "\n",
    "      ddx = tf.sqrt(tf.reduce_sum(tf.square(ddx), axis=(1, 2, 3)))\n",
    "      ddx = tf.reduce_mean(tf.square(ddx - 1.0) * 10.0)\n",
    "      \n",
    "      self.d_loss = self.d_loss + ddx\n",
    "      \n",
    "      gradient_penalty_summ = tf.summary.scalar('gradient_penalty', ddx)\n",
    "      d_loss_summ = tf.summary.scalar('actual_loss', self.d_loss)\n",
    "      \n",
    "      # train ops\n",
    "      if self.is_training:\n",
    "        self.global_step = tf.Variable(0, name='global_step', trainable=False)\n",
    "        self.inc_global_step = tf.assign(self.global_step, self.global_step+1)\n",
    "\n",
    "        self.d_adam, self.g_adam = None, None\n",
    "        with tf.control_dependencies(tf.get_collection(tf.GraphKeys.UPDATE_OPS)):\n",
    "            self.d_adam = tf.train.AdamOptimizer(learning_rate=1e-4, beta1=0.5, beta2=0.9)\\\n",
    "                .minimize(self.d_loss, var_list=self.d_net.vars)\n",
    "            self.g_adam = tf.train.AdamOptimizer(learning_rate=1e-4, beta1=0.5, beta2=0.9)\\\n",
    "                .minimize(self.g_loss, var_list=self.g_net.vars)\n",
    "\n",
    "      # initialize vars\n",
    "      self.init = tf.global_variables_initializer()\n",
    "      \n",
    "      #summary ops\n",
    "      tf.summary.image('inp_img', self.x, max_outputs=3)\n",
    "      tf.summary.image('output_img', self.y, max_outputs=3)\n",
    "      self.summary_op = tf.summary.merge_all()\n",
    "      \n",
    "  def _build_generator_graph(self, graph):\n",
    "    if graph is None:\n",
    "      self.g = tf.Graph()\n",
    "    else:\n",
    "      self.g = graph\n",
    "      \n",
    "    with self.g.as_default(), tf.variable_scope('conv_gan', reuse=self.reuse):\n",
    "      self.actions = tf.placeholder(tf.float32, shape=[None, 2])\n",
    "      self.y = self.g_net(self.actions, is_training=self.is_training)\n",
    "      self.init = tf.global_variables_initializer()\n",
    "  \n",
    "  def generate_stroke_graph(self, actions):\n",
    "    with tf.variable_scope('conv_gan', reuse=True):\n",
    "      with self.g.as_default():\n",
    "        return self.g_net(actions, is_training=False)\n",
    "      \n",
    "  def get_random_batch(self, batch_size):\n",
    "    while self.len_loaded - self.current_file_idx < batch_size:\n",
    "      self.ep_file_ctr = (self.ep_file_ctr + 1) % len(self.episode_files)\n",
    "      self.current_file_idx = 0\n",
    "      print('loading new file', self.episode_files[self.ep_file_ctr])\n",
    "      loaded = np.load(self.episode_files[self.ep_file_ctr])\n",
    "      self.loaded_strokes = loaded['strokes']\n",
    "      self.loaded_actions = loaded['actions']\n",
    "      self.len_loaded = len(self.loaded_strokes)\n",
    "      rand_idx = np.random.permutation(self.len_loaded)\n",
    "      self.loaded_strokes = self.loaded_strokes[rand_idx]\n",
    "      self.loaded_actions = self.loaded_actions[rand_idx]\n",
    "    \n",
    "    strokes = self.loaded_strokes[self.current_file_idx:self.current_file_idx+batch_size]\n",
    "    strokes = strokes.astype(np.float)/255.0\n",
    "    actions = self.loaded_actions[self.current_file_idx:self.current_file_idx+batch_size]\n",
    "    \n",
    "    self.current_file_idx += batch_size\n",
    "    \n",
    "    return strokes, actions\n",
    "      \n",
    "  def train(self, batch_size=64, num_batches=1000000):\n",
    "    train_writer = tf.summary.FileWriter('logdir', self.g)\n",
    "    start_time = time.time()\n",
    "    uneven_multiplier = 10.\n",
    "    for t in range(num_batches):\n",
    "        d_iters = 5\n",
    "\n",
    "        for _ in range(0, d_iters):\n",
    "            strokes, actions = self.get_random_batch(batch_size)\n",
    "            _, summ = self.sess.run((self.d_adam, self.summary_op), \n",
    "                                    feed_dict={self.x: strokes, self.actions: actions})\n",
    "\n",
    "        strokes, actions = self.get_random_batch(batch_size)\n",
    "        _, summ, _, step = self.sess.run((self.g_adam, self.summary_op, self.inc_global_step, self.global_step), \n",
    "                                      feed_dict={self.x: strokes, \n",
    "                                                 self.actions: actions, \n",
    "                                                 self.uneven_multiplier: uneven_multiplier})\n",
    "        train_writer.add_summary(summ, step)\n",
    "        \n",
    "        if step > 295044:\n",
    "          uneven_multiplier = 1.\n",
    "\n",
    "        if step % 20 == 0:\n",
    "            strokes, actions = self.get_random_batch(batch_size)\n",
    "            d_loss = self.sess.run(\n",
    "                self.d_loss, feed_dict={self.x: strokes, self.actions: actions}\n",
    "            )\n",
    "            g_loss = self.sess.run(\n",
    "                self.g_loss, feed_dict={self.x: strokes, self.actions: actions}\n",
    "            )\n",
    "            print('Iter [%8d] Time [%5.4f] d_loss [%.4f] g_loss [%.4f]' %\n",
    "                    (step, time.time() - start_time, d_loss, g_loss))\n",
    "            \n",
    "        if step % 2000 == 0:\n",
    "            self.save_model()\n",
    "\n",
    "  def _init_session(self):\n",
    "    \"\"\"Launch TensorFlow session and initialize variables\"\"\"\n",
    "    self.sess = tf.Session(graph=self.g)\n",
    "    self.sess.run(self.init)\n",
    "  def close_sess(self):\n",
    "    \"\"\" Close TensorFlow session \"\"\"\n",
    "    self.sess.close()\n",
    "  def save_model(self, model_save_path='tf_gan3'):\n",
    "    sess = self.sess\n",
    "    step = sess.run(self.global_step)\n",
    "    with self.g.as_default():\n",
    "      saver = tf.train.Saver(tf.global_variables())\n",
    "    checkpoint_path = os.path.join(model_save_path, 'gan')\n",
    "    tf.logging.info('saving model %s.', checkpoint_path)\n",
    "    saver.save(sess, checkpoint_path, step) # just keep one\n",
    "  def load_checkpoint(self, checkpoint_path='tf_gan3', actual_path=None):\n",
    "    sess = self.sess\n",
    "    with self.g.as_default():\n",
    "      saver = tf.train.Saver(tf.global_variables())\n",
    "    ckpt = tf.train.get_checkpoint_state(checkpoint_path)\n",
    "    if actual_path is None:\n",
    "      actual_path = ckpt.model_checkpoint_path\n",
    "    print('loading model', actual_path)\n",
    "    tf.logging.info('Loading model %s.', actual_path)\n",
    "    saver.restore(sess, actual_path)"
   ]
  },
  {
   "cell_type": "markdown",
   "metadata": {
    "colab_type": "text",
    "id": "lTw5sevmA_Sb"
   },
   "source": [
    "# Training the GAN Neural painter"
   ]
  },
  {
   "cell_type": "code",
   "execution_count": 34,
   "metadata": {
    "colab": {},
    "colab_type": "code",
    "id": "AS1ud5C1ZYQL"
   },
   "outputs": [],
   "source": [
    "# Hyperparameters for ConvVAE\n",
    "batch_size=100\n",
    "learning_rate=0.0001\n",
    "\n",
    "# Parameters for training\n",
    "NUM_EPOCH = 10\n",
    "DATA_DIR = \"record\"\n",
    "\n",
    "model_save_path = \"tf_gan3\"\n",
    "if not os.path.exists(model_save_path):\n",
    "  os.makedirs(model_save_path)"
   ]
  },
  {
   "cell_type": "code",
   "execution_count": 35,
   "metadata": {
    "colab": {},
    "colab_type": "code",
    "id": "caVhW8HYYwpE"
   },
   "outputs": [],
   "source": [
    "def reset_graph():\n",
    "  if 'sess' in globals() and sess:\n",
    "    sess.close()\n",
    "  tf.reset_default_graph()\n",
    "\n",
    "reset_graph()"
   ]
  },
  {
   "cell_type": "code",
   "execution_count": 36,
   "metadata": {
    "colab": {
     "base_uri": "https://localhost:8080/",
     "height": 253
    },
    "colab_type": "code",
    "id": "5Fh546j_Z9KC",
    "outputId": "529123b3-4ac5-4c0c-ff66-a9042a042663"
   },
   "outputs": [
    {
     "name": "stdout",
     "output_type": "stream",
     "text": [
      "INFO:tensorflow:conv_gan using gpu.\n",
      "(?, 64, 64, 3)\n",
      "[None, 64, 64, 3]\n"
     ]
    }
   ],
   "source": [
    "gan = ConvGAN(learning_rate=learning_rate,\n",
    "              is_training=True,\n",
    "              reuse=False,\n",
    "              gpu_mode=True,\n",
    "              divisor=4,\n",
    "              add_noise=False)\n"
   ]
  },
  {
   "cell_type": "markdown",
   "metadata": {
    "colab_type": "text",
    "id": "bbnQ2kN-Bd9l"
   },
   "source": [
    "## Running tensorboard"
   ]
  },
  {
   "cell_type": "code",
   "execution_count": 37,
   "metadata": {
    "colab": {
     "base_uri": "https://localhost:8080/",
     "height": 35
    },
    "colab_type": "code",
    "id": "yV4rMj60r74b",
    "outputId": "8e7ee458-cc15-4c78-a706-aaf451344045"
   },
   "outputs": [],
   "source": [
    "# # Delete old logdir\n",
    "# #!rm -r logdir\n",
    "\n",
    "# get_ipython().system_raw(\n",
    "#     'tensorboard --logdir {} --host 0.0.0.0 --port 6006 &'\n",
    "#     .format('logdir')\n",
    "# )\n",
    "\n",
    "# get_ipython().system_raw('./ngrok http 6006 &')\n",
    "\n",
    "# !curl -s http://localhost:4040/api/tunnels | python3 -c \\\n",
    "#     \"import sys, json; print(json.load(sys.stdin)['tunnels'][0]['public_url'])\"\n"
   ]
  },
  {
   "cell_type": "markdown",
   "metadata": {
    "colab_type": "text",
    "id": "oBVSMtZSBhEU"
   },
   "source": [
    "## Actual training"
   ]
  },
  {
   "cell_type": "code",
   "execution_count": 38,
   "metadata": {
    "colab": {},
    "colab_type": "code",
    "id": "LIVXqTShaG4e"
   },
   "outputs": [],
   "source": [
    "# Run this to start from a checkpoint\n",
    "# gan.load_checkpoint('tf_gan3')\n"
   ]
  },
  {
   "cell_type": "code",
   "execution_count": 59,
   "metadata": {
    "colab": {
     "base_uri": "https://localhost:8080/",
     "height": 14085
    },
    "colab_type": "code",
    "id": "YaVPx9F5BnV0",
    "outputId": "4de83d46-cfd6-4116-ad8a-418ab33ea5c1"
   },
   "outputs": [
    {
     "ename": "KeyboardInterrupt",
     "evalue": "",
     "output_type": "error",
     "traceback": [
      "\u001b[0;31m---------------------------------------------------------------------------\u001b[0m",
      "\u001b[0;31mKeyboardInterrupt\u001b[0m                         Traceback (most recent call last)",
      "\u001b[0;32m<ipython-input-59-8827ae40166e>\u001b[0m in \u001b[0;36m<module>\u001b[0;34m\u001b[0m\n\u001b[0;32m----> 1\u001b[0;31m \u001b[0mgan\u001b[0m\u001b[0;34m.\u001b[0m\u001b[0mtrain\u001b[0m\u001b[0;34m(\u001b[0m\u001b[0;34m)\u001b[0m\u001b[0;34m\u001b[0m\u001b[0m\n\u001b[0m",
      "\u001b[0;32m<ipython-input-33-0cd44cede308>\u001b[0m in \u001b[0;36mtrain\u001b[0;34m(self, batch_size, num_batches)\u001b[0m\n\u001b[1;32m    155\u001b[0m             \u001b[0mstrokes\u001b[0m\u001b[0;34m,\u001b[0m \u001b[0mactions\u001b[0m \u001b[0;34m=\u001b[0m \u001b[0mself\u001b[0m\u001b[0;34m.\u001b[0m\u001b[0mget_random_batch\u001b[0m\u001b[0;34m(\u001b[0m\u001b[0mbatch_size\u001b[0m\u001b[0;34m)\u001b[0m\u001b[0;34m\u001b[0m\u001b[0m\n\u001b[1;32m    156\u001b[0m             _, summ = self.sess.run((self.d_adam, self.summary_op), \n\u001b[0;32m--> 157\u001b[0;31m                                     feed_dict={self.x: strokes, self.actions: actions})\n\u001b[0m\u001b[1;32m    158\u001b[0m \u001b[0;34m\u001b[0m\u001b[0m\n\u001b[1;32m    159\u001b[0m         \u001b[0mstrokes\u001b[0m\u001b[0;34m,\u001b[0m \u001b[0mactions\u001b[0m \u001b[0;34m=\u001b[0m \u001b[0mself\u001b[0m\u001b[0;34m.\u001b[0m\u001b[0mget_random_batch\u001b[0m\u001b[0;34m(\u001b[0m\u001b[0mbatch_size\u001b[0m\u001b[0;34m)\u001b[0m\u001b[0;34m\u001b[0m\u001b[0m\n",
      "\u001b[0;32m~/anaconda3/envs/masac/lib/python3.7/site-packages/tensorflow/python/client/session.py\u001b[0m in \u001b[0;36mrun\u001b[0;34m(self, fetches, feed_dict, options, run_metadata)\u001b[0m\n\u001b[1;32m    927\u001b[0m     \u001b[0;32mtry\u001b[0m\u001b[0;34m:\u001b[0m\u001b[0;34m\u001b[0m\u001b[0m\n\u001b[1;32m    928\u001b[0m       result = self._run(None, fetches, feed_dict, options_ptr,\n\u001b[0;32m--> 929\u001b[0;31m                          run_metadata_ptr)\n\u001b[0m\u001b[1;32m    930\u001b[0m       \u001b[0;32mif\u001b[0m \u001b[0mrun_metadata\u001b[0m\u001b[0;34m:\u001b[0m\u001b[0;34m\u001b[0m\u001b[0m\n\u001b[1;32m    931\u001b[0m         \u001b[0mproto_data\u001b[0m \u001b[0;34m=\u001b[0m \u001b[0mtf_session\u001b[0m\u001b[0;34m.\u001b[0m\u001b[0mTF_GetBuffer\u001b[0m\u001b[0;34m(\u001b[0m\u001b[0mrun_metadata_ptr\u001b[0m\u001b[0;34m)\u001b[0m\u001b[0;34m\u001b[0m\u001b[0m\n",
      "\u001b[0;32m~/anaconda3/envs/masac/lib/python3.7/site-packages/tensorflow/python/client/session.py\u001b[0m in \u001b[0;36m_run\u001b[0;34m(self, handle, fetches, feed_dict, options, run_metadata)\u001b[0m\n\u001b[1;32m   1150\u001b[0m     \u001b[0;32mif\u001b[0m \u001b[0mfinal_fetches\u001b[0m \u001b[0;32mor\u001b[0m \u001b[0mfinal_targets\u001b[0m \u001b[0;32mor\u001b[0m \u001b[0;34m(\u001b[0m\u001b[0mhandle\u001b[0m \u001b[0;32mand\u001b[0m \u001b[0mfeed_dict_tensor\u001b[0m\u001b[0;34m)\u001b[0m\u001b[0;34m:\u001b[0m\u001b[0;34m\u001b[0m\u001b[0m\n\u001b[1;32m   1151\u001b[0m       results = self._do_run(handle, final_targets, final_fetches,\n\u001b[0;32m-> 1152\u001b[0;31m                              feed_dict_tensor, options, run_metadata)\n\u001b[0m\u001b[1;32m   1153\u001b[0m     \u001b[0;32melse\u001b[0m\u001b[0;34m:\u001b[0m\u001b[0;34m\u001b[0m\u001b[0m\n\u001b[1;32m   1154\u001b[0m       \u001b[0mresults\u001b[0m \u001b[0;34m=\u001b[0m \u001b[0;34m[\u001b[0m\u001b[0;34m]\u001b[0m\u001b[0;34m\u001b[0m\u001b[0m\n",
      "\u001b[0;32m~/anaconda3/envs/masac/lib/python3.7/site-packages/tensorflow/python/client/session.py\u001b[0m in \u001b[0;36m_do_run\u001b[0;34m(self, handle, target_list, fetch_list, feed_dict, options, run_metadata)\u001b[0m\n\u001b[1;32m   1326\u001b[0m     \u001b[0;32mif\u001b[0m \u001b[0mhandle\u001b[0m \u001b[0;32mis\u001b[0m \u001b[0;32mNone\u001b[0m\u001b[0;34m:\u001b[0m\u001b[0;34m\u001b[0m\u001b[0m\n\u001b[1;32m   1327\u001b[0m       return self._do_call(_run_fn, feeds, fetches, targets, options,\n\u001b[0;32m-> 1328\u001b[0;31m                            run_metadata)\n\u001b[0m\u001b[1;32m   1329\u001b[0m     \u001b[0;32melse\u001b[0m\u001b[0;34m:\u001b[0m\u001b[0;34m\u001b[0m\u001b[0m\n\u001b[1;32m   1330\u001b[0m       \u001b[0;32mreturn\u001b[0m \u001b[0mself\u001b[0m\u001b[0;34m.\u001b[0m\u001b[0m_do_call\u001b[0m\u001b[0;34m(\u001b[0m\u001b[0m_prun_fn\u001b[0m\u001b[0;34m,\u001b[0m \u001b[0mhandle\u001b[0m\u001b[0;34m,\u001b[0m \u001b[0mfeeds\u001b[0m\u001b[0;34m,\u001b[0m \u001b[0mfetches\u001b[0m\u001b[0;34m)\u001b[0m\u001b[0;34m\u001b[0m\u001b[0m\n",
      "\u001b[0;32m~/anaconda3/envs/masac/lib/python3.7/site-packages/tensorflow/python/client/session.py\u001b[0m in \u001b[0;36m_do_call\u001b[0;34m(self, fn, *args)\u001b[0m\n\u001b[1;32m   1332\u001b[0m   \u001b[0;32mdef\u001b[0m \u001b[0m_do_call\u001b[0m\u001b[0;34m(\u001b[0m\u001b[0mself\u001b[0m\u001b[0;34m,\u001b[0m \u001b[0mfn\u001b[0m\u001b[0;34m,\u001b[0m \u001b[0;34m*\u001b[0m\u001b[0margs\u001b[0m\u001b[0;34m)\u001b[0m\u001b[0;34m:\u001b[0m\u001b[0;34m\u001b[0m\u001b[0m\n\u001b[1;32m   1333\u001b[0m     \u001b[0;32mtry\u001b[0m\u001b[0;34m:\u001b[0m\u001b[0;34m\u001b[0m\u001b[0m\n\u001b[0;32m-> 1334\u001b[0;31m       \u001b[0;32mreturn\u001b[0m \u001b[0mfn\u001b[0m\u001b[0;34m(\u001b[0m\u001b[0;34m*\u001b[0m\u001b[0margs\u001b[0m\u001b[0;34m)\u001b[0m\u001b[0;34m\u001b[0m\u001b[0m\n\u001b[0m\u001b[1;32m   1335\u001b[0m     \u001b[0;32mexcept\u001b[0m \u001b[0merrors\u001b[0m\u001b[0;34m.\u001b[0m\u001b[0mOpError\u001b[0m \u001b[0;32mas\u001b[0m \u001b[0me\u001b[0m\u001b[0;34m:\u001b[0m\u001b[0;34m\u001b[0m\u001b[0m\n\u001b[1;32m   1336\u001b[0m       \u001b[0mmessage\u001b[0m \u001b[0;34m=\u001b[0m \u001b[0mcompat\u001b[0m\u001b[0;34m.\u001b[0m\u001b[0mas_text\u001b[0m\u001b[0;34m(\u001b[0m\u001b[0me\u001b[0m\u001b[0;34m.\u001b[0m\u001b[0mmessage\u001b[0m\u001b[0;34m)\u001b[0m\u001b[0;34m\u001b[0m\u001b[0m\n",
      "\u001b[0;32m~/anaconda3/envs/masac/lib/python3.7/site-packages/tensorflow/python/client/session.py\u001b[0m in \u001b[0;36m_run_fn\u001b[0;34m(feed_dict, fetch_list, target_list, options, run_metadata)\u001b[0m\n\u001b[1;32m   1317\u001b[0m       \u001b[0mself\u001b[0m\u001b[0;34m.\u001b[0m\u001b[0m_extend_graph\u001b[0m\u001b[0;34m(\u001b[0m\u001b[0;34m)\u001b[0m\u001b[0;34m\u001b[0m\u001b[0m\n\u001b[1;32m   1318\u001b[0m       return self._call_tf_sessionrun(\n\u001b[0;32m-> 1319\u001b[0;31m           options, feed_dict, fetch_list, target_list, run_metadata)\n\u001b[0m\u001b[1;32m   1320\u001b[0m \u001b[0;34m\u001b[0m\u001b[0m\n\u001b[1;32m   1321\u001b[0m     \u001b[0;32mdef\u001b[0m \u001b[0m_prun_fn\u001b[0m\u001b[0;34m(\u001b[0m\u001b[0mhandle\u001b[0m\u001b[0;34m,\u001b[0m \u001b[0mfeed_dict\u001b[0m\u001b[0;34m,\u001b[0m \u001b[0mfetch_list\u001b[0m\u001b[0;34m)\u001b[0m\u001b[0;34m:\u001b[0m\u001b[0;34m\u001b[0m\u001b[0m\n",
      "\u001b[0;32m~/anaconda3/envs/masac/lib/python3.7/site-packages/tensorflow/python/client/session.py\u001b[0m in \u001b[0;36m_call_tf_sessionrun\u001b[0;34m(self, options, feed_dict, fetch_list, target_list, run_metadata)\u001b[0m\n\u001b[1;32m   1405\u001b[0m     return tf_session.TF_SessionRun_wrapper(\n\u001b[1;32m   1406\u001b[0m         \u001b[0mself\u001b[0m\u001b[0;34m.\u001b[0m\u001b[0m_session\u001b[0m\u001b[0;34m,\u001b[0m \u001b[0moptions\u001b[0m\u001b[0;34m,\u001b[0m \u001b[0mfeed_dict\u001b[0m\u001b[0;34m,\u001b[0m \u001b[0mfetch_list\u001b[0m\u001b[0;34m,\u001b[0m \u001b[0mtarget_list\u001b[0m\u001b[0;34m,\u001b[0m\u001b[0;34m\u001b[0m\u001b[0m\n\u001b[0;32m-> 1407\u001b[0;31m         run_metadata)\n\u001b[0m\u001b[1;32m   1408\u001b[0m \u001b[0;34m\u001b[0m\u001b[0m\n\u001b[1;32m   1409\u001b[0m   \u001b[0;32mdef\u001b[0m \u001b[0m_call_tf_sessionprun\u001b[0m\u001b[0;34m(\u001b[0m\u001b[0mself\u001b[0m\u001b[0;34m,\u001b[0m \u001b[0mhandle\u001b[0m\u001b[0;34m,\u001b[0m \u001b[0mfeed_dict\u001b[0m\u001b[0;34m,\u001b[0m \u001b[0mfetch_list\u001b[0m\u001b[0;34m)\u001b[0m\u001b[0;34m:\u001b[0m\u001b[0;34m\u001b[0m\u001b[0m\n",
      "\u001b[0;31mKeyboardInterrupt\u001b[0m: "
     ]
    }
   ],
   "source": [
    "gan.train()"
   ]
  },
  {
   "cell_type": "code",
   "execution_count": 40,
   "metadata": {
    "colab": {
     "base_uri": "https://localhost:8080/",
     "height": 35
    },
    "colab_type": "code",
    "id": "pSn_NZKpFeDT",
    "outputId": "8ac716ce-9962-40e0-ead7-ea66b982d916"
   },
   "outputs": [
    {
     "name": "stdout",
     "output_type": "stream",
     "text": [
      "INFO:tensorflow:saving model tf_gan3/gan.\n"
     ]
    }
   ],
   "source": [
    "gan.save_model()"
   ]
  },
  {
   "cell_type": "markdown",
   "metadata": {
    "colab_type": "text",
    "id": "FtqK9mooRBz3"
   },
   "source": [
    "# Test your trained model"
   ]
  },
  {
   "cell_type": "code",
   "execution_count": 64,
   "metadata": {
    "colab": {},
    "colab_type": "code",
    "id": "m7sZrojtli7_"
   },
   "outputs": [],
   "source": [
    "loaded = np.load('data/episodes_2.npz')\n",
    "images = loaded['strokes']\n",
    "images = np.reshape(images[-100:], [-1, 64, 64, 3])\n",
    "actions = loaded['actions'][-100:]"
   ]
  },
  {
   "cell_type": "code",
   "execution_count": 65,
   "metadata": {
    "colab": {
     "base_uri": "https://localhost:8080/",
     "height": 35
    },
    "colab_type": "code",
    "id": "XmmzAmIkb3Ft",
    "outputId": "86e2650d-096c-468b-9eb7-654febfe1bfd"
   },
   "outputs": [
    {
     "name": "stdout",
     "output_type": "stream",
     "text": [
      "INFO:tensorflow:conv_gan using cpu.\n"
     ]
    }
   ],
   "source": [
    "test_gan = ConvGAN(learning_rate=learning_rate,\n",
    "              is_training=False,\n",
    "              reuse=False,\n",
    "              gpu_mode=False,\n",
    "              divisor=4,\n",
    "              add_noise=False)\n"
   ]
  },
  {
   "cell_type": "code",
   "execution_count": 66,
   "metadata": {
    "colab": {},
    "colab_type": "code",
    "id": "HLdcmMr4aBRv"
   },
   "outputs": [],
   "source": [
    "def plot_images(images):\n",
    "#   h=args.screen_size\n",
    "  fig=plt.figure(figsize=(16, 16))\n",
    "  columns = len(images)\n",
    "  rows = 1\n",
    "\n",
    "  for i, img in enumerate(images):\n",
    "    img = img[:, :, :3]\n",
    "    #print(img.shape)\n",
    "    fig.add_subplot(rows, columns, i+1)\n",
    "    plt.grid(False)\n",
    "    plt.imshow(img)\n",
    "  plt.show()\n"
   ]
  },
  {
   "cell_type": "code",
   "execution_count": 67,
   "metadata": {
    "colab": {
     "base_uri": "https://localhost:8080/",
     "height": 365
    },
    "colab_type": "code",
    "id": "UnK-c4K4ci15",
    "outputId": "5da21f78-10c0-4a23-b3d9-7b06f9071328"
   },
   "outputs": [
    {
     "name": "stdout",
     "output_type": "stream",
     "text": [
      "loading model tf_gan3/gan-12000\n",
      "INFO:tensorflow:Loading model tf_gan3/gan-12000.\n",
      "INFO:tensorflow:Restoring parameters from tf_gan3/gan-12000\n"
     ]
    },
    {
     "data": {
      "image/png": "[encoded data removed]",
      "text/plain": [
       "<Figure size 1152x1152 with 10 Axes>"
      ]
     },
     "metadata": {
      "needs_background": "light"
     },
     "output_type": "display_data"
    },
    {
     "data": {
      "image/png": "[encoded data removed]",
      "text/plain": [
       "<Figure size 1152x1152 with 10 Axes>"
      ]
     },
     "metadata": {
      "needs_background": "light"
     },
     "output_type": "display_data"
    }
   ],
   "source": [
    "\n",
    "def experiment(to_plot, fn, actual=None):\n",
    "  test_gan.load_checkpoint(fn, actual)\n",
    "  images_to_plot = images[to_plot:to_plot+10].astype(np.float32)/255.\n",
    "  plot_images(images_to_plot)\n",
    "  decoded = test_gan.sess.run(test_gan.y, feed_dict={test_gan.actions: actions[to_plot:to_plot+10]})\n",
    "  plot_images(decoded)\n",
    "  plt.show()\n",
    "  \n",
    "experiment(10, 'tf_gan3')\n",
    "#experiment(80, 'tf_vae', 'tf_vae/vae-189999')"
   ]
  },
  {
   "cell_type": "code",
   "execution_count": 53,
   "metadata": {
    "colab": {
     "base_uri": "https://localhost:8080/",
     "height": 602
    },
    "colab_type": "code",
    "id": "yQGTRRcABVw9",
    "outputId": "550ec215-0b5c-4430-8fda-ed65bb12d1a1"
   },
   "outputs": [
    {
     "name": "stdout",
     "output_type": "stream",
     "text": [
      "INFO:tensorflow:conv_gan using cpu.\n",
      "loading model tf_gan3/gan-4000\n",
      "INFO:tensorflow:Loading model tf_gan3/gan-4000.\n",
      "INFO:tensorflow:Restoring parameters from tf_gan3/gan-4000\n"
     ]
    },
    {
     "ename": "NameError",
     "evalue": "name 'ColorEnv' is not defined",
     "output_type": "error",
     "traceback": [
      "\u001b[0;31m---------------------------------------------------------------------------\u001b[0m",
      "\u001b[0;31mNameError\u001b[0m                                 Traceback (most recent call last)",
      "\u001b[0;32m<ipython-input-53-eb8a390ac807>\u001b[0m in \u001b[0;36m<module>\u001b[0;34m\u001b[0m\n\u001b[1;32m     37\u001b[0m \u001b[0;31m#_test_gans[1].load_checkpoint('tf_gan3', 'tf_gan3/gan-400000')\u001b[0m\u001b[0;34m\u001b[0m\u001b[0;34m\u001b[0m\u001b[0m\n\u001b[1;32m     38\u001b[0m \u001b[0;31m#_test_gans[2].load_checkpoint('tf_gan3', 'tf_gan3/gan-300000')\u001b[0m\u001b[0;34m\u001b[0m\u001b[0;34m\u001b[0m\u001b[0m\n\u001b[0;32m---> 39\u001b[0;31m \u001b[0mexperiment5\u001b[0m\u001b[0;34m(\u001b[0m\u001b[0m_test_gans\u001b[0m\u001b[0;34m,\u001b[0m \u001b[0;36m20.\u001b[0m\u001b[0;34m)\u001b[0m\u001b[0;34m\u001b[0m\u001b[0m\n\u001b[0m",
      "\u001b[0;32m<ipython-input-53-eb8a390ac807>\u001b[0m in \u001b[0;36mexperiment5\u001b[0;34m(test_models, duration)\u001b[0m\n\u001b[1;32m      1\u001b[0m \u001b[0;34m\u001b[0m\u001b[0m\n\u001b[1;32m      2\u001b[0m \u001b[0;32mdef\u001b[0m \u001b[0mexperiment5\u001b[0m\u001b[0;34m(\u001b[0m\u001b[0mtest_models\u001b[0m\u001b[0;34m,\u001b[0m \u001b[0mduration\u001b[0m\u001b[0;34m=\u001b[0m\u001b[0;36m10.0\u001b[0m\u001b[0;34m)\u001b[0m\u001b[0;34m:\u001b[0m\u001b[0;34m\u001b[0m\u001b[0m\n\u001b[0;32m----> 3\u001b[0;31m   \u001b[0menv\u001b[0m \u001b[0;34m=\u001b[0m \u001b[0mColorEnv\u001b[0m\u001b[0;34m(\u001b[0m\u001b[0margs\u001b[0m\u001b[0;34m,\u001b[0m \u001b[0mpaint_mode\u001b[0m\u001b[0;34m=\u001b[0m\u001b[0mPaintMode\u001b[0m\u001b[0;34m.\u001b[0m\u001b[0mSTROKES_ONLY\u001b[0m\u001b[0;34m)\u001b[0m\u001b[0;34m\u001b[0m\u001b[0m\n\u001b[0m\u001b[1;32m      4\u001b[0m   \u001b[0menv\u001b[0m\u001b[0;34m.\u001b[0m\u001b[0mreset\u001b[0m\u001b[0;34m(\u001b[0m\u001b[0;34m)\u001b[0m\u001b[0;34m\u001b[0m\u001b[0m\n\u001b[1;32m      5\u001b[0m   \u001b[0mNUM_ACS\u001b[0m \u001b[0;34m=\u001b[0m \u001b[0;36m8\u001b[0m\u001b[0;34m\u001b[0m\u001b[0m\n",
      "\u001b[0;31mNameError\u001b[0m: name 'ColorEnv' is not defined"
     ]
    }
   ],
   "source": [
    "\n",
    "# def experiment5(test_models, duration=10.0):\n",
    "#   env = ColorEnv(args, paint_mode=PaintMode.STROKES_ONLY)\n",
    "#   env.reset()\n",
    "#   NUM_ACS = 8\n",
    "#   acs = [env.random_action() for _ in range(NUM_ACS)]\n",
    "  \n",
    "#   def frame(t):\n",
    "#     t_ = t / duration\n",
    "#     t = np.abs((1.0-np.cos(NUM_ACS*np.pi*np.mod(t_, 1./NUM_ACS)))/2.0)\n",
    "    \n",
    "#     new_ac = (1-t)*acs[int(np.floor(t_*NUM_ACS))] + t*acs[int((np.floor(t_*NUM_ACS)+1)%NUM_ACS)]\n",
    "#     env.draw(new_ac)\n",
    "#     im = env.image\n",
    "#     im = im[:, :, :3]\n",
    "#     stack_these = []\n",
    "#     for test_gan in test_models:\n",
    "#       decoded = test_gan.sess.run(test_gan.y, feed_dict={test_gan.actions: [new_ac]})[0]\n",
    "#       decoded = (decoded*255).astype(np.uint8)\n",
    "#       concatted = np.concatenate([im, decoded], 1)\n",
    "#       stack_these.append(concatted)\n",
    "#     return np.concatenate(stack_these, axis=0)\n",
    "  \n",
    "#   clip = mpy.VideoClip(frame, duration=duration)\n",
    "#   clip.write_videofile('tmp.mp4', fps=30.0)\n",
    "#   display(mpy.ipython_display('tmp.mp4', height=400))\n",
    "\n",
    "  \n",
    "  \n",
    "# _test_gans = [ConvGAN(learning_rate=learning_rate,\n",
    "#               is_training=False,\n",
    "#               reuse=False,\n",
    "#               gpu_mode=False,\n",
    "#               divisor=4,\n",
    "#               add_noise=False) for x in range(1)]\n",
    "# _test_gans[0].load_checkpoint('tf_gan3')\n",
    "# #_test_gans[1].load_checkpoint('tf_gan3', 'tf_gan3/gan-400000')\n",
    "# #_test_gans[2].load_checkpoint('tf_gan3', 'tf_gan3/gan-300000')\n",
    "# experiment5(_test_gans, 20.)\n"
   ]
  },
  {
   "cell_type": "code",
   "execution_count": null,
   "metadata": {
    "colab": {},
    "colab_type": "code",
    "id": "NApfpglwT9V0"
   },
   "outputs": [],
   "source": []
  }
 ],
 "metadata": {
  "accelerator": "GPU",
  "colab": {
   "collapsed_sections": [],
   "include_colab_link": true,
   "name": "train-gan-painter.ipynb",
   "provenance": [],
   "toc_visible": true,
   "version": "0.3.2"
  },
  "kernelspec": {
   "display_name": "Python 3",
   "language": "python",
   "name": "python3"
  },
  "language_info": {
   "codemirror_mode": {
    "name": "ipython",
    "version": 3
   },
   "file_extension": ".py",
   "mimetype": "text/x-python",
   "name": "python",
   "nbconvert_exporter": "python",
   "pygments_lexer": "ipython3",
   "version": "3.7.0"
  }
 },
 "nbformat": 4,
 "nbformat_minor": 4
}
