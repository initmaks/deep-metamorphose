{
 "cells": [
  {
   "cell_type": "markdown",
   "metadata": {
    "colab_type": "text",
    "id": "view-in-github"
   },
   "source": [
    "<a href=\"https://colab.research.google.com/github/reiinakano/diff-painter/blob/master/notebooks/generate_stroke_examples.ipynb\" target=\"_parent\"><img src=\"https://colab.research.google.com/assets/colab-badge.svg\" alt=\"Open In Colab\"/></a>"
   ]
  },
  {
   "cell_type": "markdown",
   "metadata": {
    "colab_type": "text",
    "id": "9P5f_uzAq_5g"
   },
   "source": [
    "# Install packages"
   ]
  },
  {
   "cell_type": "code",
   "execution_count": 1,
   "metadata": {},
   "outputs": [
    {
     "name": "stdout",
     "output_type": "stream",
     "text": [
      "absl-py==0.8.1\n",
      "astor==0.8.0\n",
      "autopep8==1.4.4\n",
      "backcall==0.1.0\n",
      "beautifulsoup4==4.8.1\n",
      "blis==0.4.1\n",
      "Bottleneck==1.2.1\n",
      "cachetools==3.1.1\n",
      "certifi==2019.9.11\n",
      "cffi==1.13.1\n",
      "chardet==3.0.4\n",
      "cloudpickle==1.2.2\n",
      "cycler==0.10.0\n",
      "cymem==2.0.2\n",
      "decorator==4.4.1\n",
      "fastai==1.0.59\n",
      "fastprogress==0.1.21\n",
      "future==0.18.2\n",
      "future-fstrings==1.2.0\n",
      "gast==0.2.2\n",
      "google-auth==1.6.3\n",
      "google-auth-oauthlib==0.4.1\n",
      "google-pasta==0.1.7\n",
      "grpcio==1.24.3\n",
      "gym==0.11.0\n",
      "h5py==2.10.0\n",
      "idna==2.8\n",
      "imageio==2.6.1\n",
      "importlib-metadata==0.23\n",
      "ipdb==0.12.2\n",
      "ipykernel==5.1.3\n",
      "ipython==7.9.0\n",
      "ipython-genutils==0.2.0\n",
      "jedi==0.15.1\n",
      "jupyter-client==5.3.4\n",
      "jupyter-core==4.6.1\n",
      "Keras-Applications==1.0.8\n",
      "Keras-Preprocessing==1.1.0\n",
      "kiwisolver==1.1.0\n",
      "Markdown==3.1.1\n",
      "matplotlib==3.1.1\n",
      "mkl-fft==1.0.14\n",
      "mkl-random==1.1.0\n",
      "mkl-service==2.3.0\n",
      "more-itertools==7.2.0\n",
      "murmurhash==1.0.2\n",
      "networkx==2.4\n",
      "numexpr==2.7.0\n",
      "numpy==1.17.3\n",
      "nvidia-ml-py3==7.352.0\n",
      "oauthlib==3.1.0\n",
      "olefile==0.46\n",
      "opt-einsum==3.1.0\n",
      "packaging==19.2\n",
      "pandas==0.25.3\n",
      "parso==0.5.1\n",
      "pathlib==1.0.1\n",
      "pexpect==4.7.0\n",
      "pickleshare==0.7.5\n",
      "Pillow==6.2.1\n",
      "plac==1.1.3\n",
      "preshed==3.0.2\n",
      "prompt-toolkit==2.0.10\n",
      "protobuf==3.10.0\n",
      "ptyprocess==0.6.0\n",
      "pyasn1==0.4.7\n",
      "pyasn1-modules==0.2.7\n",
      "pycodestyle==2.5.0\n",
      "pycparser==2.19\n",
      "pyglet==1.3.2\n",
      "Pygments==2.4.2\n",
      "pyparsing==2.4.2\n",
      "python-dateutil==2.8.0\n",
      "pytz==2019.3\n",
      "PyWavelets==1.1.1\n",
      "PyYAML==5.1.2\n",
      "pyzmq==18.1.0\n",
      "requests==2.22.0\n",
      "requests-oauthlib==1.2.0\n",
      "rsa==4.0\n",
      "scikit-image==0.16.2\n",
      "scipy==1.3.1\n",
      "six==1.12.0\n",
      "soupsieve==1.9.4\n",
      "spacy==2.2.2\n",
      "srsly==0.2.0\n",
      "tensorboard==2.0.1\n",
      "tensorflow-estimator==2.0.1\n",
      "tensorflow-gpu==2.0.0\n",
      "termcolor==1.1.0\n",
      "thinc==7.3.1\n",
      "torch==1.3.0\n",
      "torchvision==0.4.1a0+d94043a\n",
      "tornado==6.0.3\n",
      "tqdm==4.37.0\n",
      "traitlets==4.3.3\n",
      "urllib3==1.25.6\n",
      "wasabi==0.3.0\n",
      "wcwidth==0.1.7\n",
      "Werkzeug==0.16.0\n",
      "wrapt==1.11.2\n",
      "zipp==0.6.0\n",
      "Note: you may need to restart the kernel to use updated packages.\n"
     ]
    }
   ],
   "source": [
    "pip freeze"
   ]
  },
  {
   "cell_type": "markdown",
   "metadata": {
    "colab_type": "text",
    "id": "bIiG_vM1K-6W"
   },
   "source": [
    "# Set up paint environment"
   ]
  },
  {
   "cell_type": "markdown",
   "metadata": {
    "colab": {},
    "colab_type": "code",
    "id": "_D9ezTtHjdFq"
   },
   "source": [
    " FIRST RUN `python generate_data.py` "
   ]
  },
  {
   "cell_type": "markdown",
   "metadata": {},
   "source": [
    "## Visual check"
   ]
  },
  {
   "cell_type": "code",
   "execution_count": null,
   "metadata": {
    "colab": {},
    "colab_type": "code",
    "id": "9FDftk_6jdAk"
   },
   "outputs": [],
   "source": [
    "import matplotlib.pyplot as plt\n",
    "\n",
    "w=12\n",
    "h=12\n",
    "fig=plt.figure(figsize=(30, 10))\n",
    "cols = 10\n",
    "\n",
    "smaller_arr = loaded['strokes'][:cols]\n",
    "\n",
    "for col in range(cols):\n",
    "    img = smaller_arr[col][:, :, :3]\n",
    "    #print(img.shape)\n",
    "    fig.add_subplot(1, 20, col+1)\n",
    "    plt.grid(False)\n",
    "    plt.imshow(img)\n",
    "plt.show()"
   ]
  },
  {
   "cell_type": "code",
   "execution_count": null,
   "metadata": {
    "colab": {},
    "colab_type": "code",
    "id": "Et17CN9Xjc-1"
   },
   "outputs": [],
   "source": []
  }
 ],
 "metadata": {
  "accelerator": "GPU",
  "colab": {
   "collapsed_sections": [],
   "include_colab_link": true,
   "name": "generate-stroke-examples.ipynb",
   "provenance": [],
   "toc_visible": true,
   "version": "0.3.2"
  },
  "kernelspec": {
   "display_name": "Python [conda env:paint]",
   "language": "python",
   "name": "conda-env-paint-py"
  },
  "language_info": {
   "codemirror_mode": {
    "name": "ipython",
    "version": 3
   },
   "file_extension": ".py",
   "mimetype": "text/x-python",
   "name": "python",
   "nbconvert_exporter": "python",
   "pygments_lexer": "ipython3",
   "version": "3.7.5"
  }
 },
 "nbformat": 4,
 "nbformat_minor": 4
}
