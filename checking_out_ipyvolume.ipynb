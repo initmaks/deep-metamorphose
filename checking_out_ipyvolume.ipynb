{
 "cells": [
  {
   "cell_type": "code",
   "execution_count": null,
   "metadata": {},
   "outputs": [],
   "source": [
    "import ipyvolume as ipv\n",
    "import numpy as np\n",
    "import matplotlib.pyplot as plt"
   ]
  },
  {
   "cell_type": "code",
   "execution_count": null,
   "metadata": {
    "scrolled": false
   },
   "outputs": [],
   "source": [
    "x = np.array([0.0, 1.0, 0.0, 1.0, 0.0, 1.0, 0.0])\n",
    "y = np.array([0.0, 0.0, 1.0, 1.0, 0.0, 0.0, 1.0])\n",
    "z = np.array([0.0, 0.0, 0.0, 0.0, 1.0, 1.0, 1.0])\n",
    "ipv.figure()\n",
    "s = ipv.scatter(x, y, z, marker='sphere',color='black', size=10)\n",
    "\n",
    "ipv.show()\n",
    "ipv.style.use('minimal')"
   ]
  },
  {
   "cell_type": "code",
   "execution_count": null,
   "metadata": {},
   "outputs": [],
   "source": [
    "W,H = 128,128\n",
    "ipv.view(0.0,0.0,2.2)\n",
    "front_im = np.array(ipv.screenshot(width=W, height=H))\n",
    "ipv.view(90.0,0.0,2.2) #rot by 90 degrees\n",
    "side_im = np.array(ipv.screenshot(width=W, height=H))"
   ]
  },
  {
   "cell_type": "code",
   "execution_count": null,
   "metadata": {},
   "outputs": [],
   "source": [
    "plt.imshow(front_im)"
   ]
  },
  {
   "cell_type": "code",
   "execution_count": null,
   "metadata": {},
   "outputs": [],
   "source": [
    "plt.imshow(side_im)"
   ]
  },
  {
   "cell_type": "code",
   "execution_count": null,
   "metadata": {},
   "outputs": [],
   "source": []
  }
 ],
 "metadata": {
  "kernelspec": {
   "display_name": "Python 3",
   "language": "python",
   "name": "python3"
  },
  "language_info": {
   "codemirror_mode": {
    "name": "ipython",
    "version": 3
   },
   "file_extension": ".py",
   "mimetype": "text/x-python",
   "name": "python",
   "nbconvert_exporter": "python",
   "pygments_lexer": "ipython3",
   "version": "3.7.2"
  }
 },
 "nbformat": 4,
 "nbformat_minor": 2
}
