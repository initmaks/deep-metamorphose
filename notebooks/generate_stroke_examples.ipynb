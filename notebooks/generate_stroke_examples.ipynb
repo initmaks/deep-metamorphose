{
 "cells": [
  {
   "cell_type": "markdown",
   "metadata": {
    "colab_type": "text",
    "id": "view-in-github"
   },
   "source": [
    "<a href=\"https://colab.research.google.com/github/reiinakano/diff-painter/blob/master/notebooks/generate_stroke_examples.ipynb\" target=\"_parent\"><img src=\"https://colab.research.google.com/assets/colab-badge.svg\" alt=\"Open In Colab\"/></a>"
   ]
  },
  {
   "cell_type": "markdown",
   "metadata": {
    "colab_type": "text",
    "id": "9P5f_uzAq_5g"
   },
   "source": [
    "# Install packages"
   ]
  },
  {
   "cell_type": "markdown",
   "metadata": {
    "colab_type": "text",
    "id": "LRItSKP3Kqri"
   },
   "source": [
    "## Optionally connect to Drive for saving"
   ]
  },
  {
   "cell_type": "code",
   "execution_count": null,
   "metadata": {
    "colab": {},
    "colab_type": "code",
    "id": "cl2EXKyLl06w"
   },
   "outputs": [],
   "source": [
    "#from google.colab import drive\n",
    "#drive.mount('/drive')"
   ]
  },
  {
   "cell_type": "markdown",
   "metadata": {
    "colab_type": "text",
    "id": "sw1EJdAmKuuj"
   },
   "source": [
    "## Install MyPaint"
   ]
  },
  {
   "cell_type": "code",
   "execution_count": null,
   "metadata": {
    "colab": {},
    "colab_type": "code",
    "id": "bAWyePtkn3av"
   },
   "outputs": [],
   "source": [
    "# Install mypaint\n",
    "!apt-get update\n",
    "!apt-get install libjson-c-dev libgirepository1.0-dev libglib2.0-dev\n",
    "!apt-get install autotools-dev intltool gettext libtool\n",
    "!apt-get install swig python-setuptools gettext g++\n",
    "!apt-get install -y libgtk-3-dev python-gi-dev\n",
    "!apt-get install -y libpng-dev liblcms2-dev libjson-c-dev\n",
    "!apt-get install -y gir1.2-gtk-3.0 python-gi-cairo\n",
    "!apt-get install scons\n",
    "\n",
    "!wget https://github.com/mypaint/libmypaint/releases/download/v1.3.0/libmypaint-1.3.0.tar.xz\n",
    "!tar -xvf libmypaint-1.3.0.tar.xz\n",
    "!mv libmypaint-1.3.0 libmypaint\n",
    "\n",
    "!cd libmypaint && ./configure && make install\n",
    "\n",
    "!wget https://github.com/mypaint/mypaint/releases/download/v1.2.1/mypaint-1.2.1.tar.xz\n",
    "!tar -xvf mypaint-1.2.1.tar.xz\n",
    "!mv mypaint-1.2.1 mypaint\n",
    "!cd mypaint && scons && scons install\n",
    "\n",
    "!ldconfig\n",
    "\n",
    "!pip install ipdb tqdm pathlib cloudpickle future-fstrings matplotlib"
   ]
  },
  {
   "cell_type": "markdown",
   "metadata": {
    "colab_type": "text",
    "id": "zxiqcngXKxb0"
   },
   "source": [
    "## Fetch a package for using the MyPaint environment"
   ]
  },
  {
   "cell_type": "code",
   "execution_count": 3,
   "metadata": {
    "colab": {
     "base_uri": "https://localhost:8080/",
     "height": 179
    },
    "colab_type": "code",
    "id": "1ueV31ATgbQp",
    "outputId": "a05cde40-0aa3-4729-865b-edf4d4db283e"
   },
   "outputs": [
    {
     "name": "stdout",
     "output_type": "stream",
     "text": [
      "Cloning into 'SPIRAL-tensorflow'...\n",
      "remote: Enumerating objects: 8, done.\u001b[K\n",
      "remote: Counting objects: 100% (8/8), done.\u001b[K\n",
      "remote: Compressing objects: 100% (8/8), done.\u001b[K\n",
      "remote: Total 154 (delta 3), reused 0 (delta 0), pack-reused 146\u001b[K\n",
      "Receiving objects: 100% (154/154), 1.36 MiB | 2.91 MiB/s, done.\n",
      "Resolving deltas: 100% (75/75), done.\n",
      "Branch 'reiinakano-patch-2' set up to track remote branch 'reiinakano-patch-2' from 'origin'.\n",
      "Switched to a new branch 'reiinakano-patch-2'\n"
     ]
    }
   ],
   "source": [
    "!git clone https://github.com/reiinakano/SPIRAL-tensorflow.git\n",
    "!cd SPIRAL-tensorflow && git checkout reiinakano-patch-2  #reiinakano-patches"
   ]
  },
  {
   "cell_type": "markdown",
   "metadata": {
    "colab_type": "text",
    "id": "a1UgoHsHK9Cp"
   },
   "source": [
    "# Imports"
   ]
  },
  {
   "cell_type": "code",
   "execution_count": null,
   "metadata": {
    "colab": {},
    "colab_type": "code",
    "id": "3ETScoLEgPJ-"
   },
   "outputs": [],
   "source": [
    "import sys\n",
    "import os\n",
    "from pathlib import Path\n",
    "\n",
    "from PIL import Image\n",
    "import numpy as np\n",
    "\n",
    "sys.path.append('mypaint')\n",
    "sys.path.append('SPIRAL-tensorflow')\n",
    "#import envs.mnist\n",
    "\n",
    "from tqdm import tqdm\n",
    "import tensorflow as tf\n",
    "from PIL import Image, ImageDraw\n",
    "from collections import defaultdict\n",
    "\n",
    "from lib import surface, tiledsurface, brush\n",
    "from envs.mypaint_utils import *\n",
    "import matplotlib.pyplot as plt"
   ]
  },
  {
   "cell_type": "code",
   "execution_count": null,
   "metadata": {
    "colab": {},
    "colab_type": "code",
    "id": "vRB5EmewH_x9"
   },
   "outputs": [],
   "source": []
  },
  {
   "cell_type": "markdown",
   "metadata": {
    "colab_type": "text",
    "id": "bIiG_vM1K-6W"
   },
   "source": [
    "# Set up paint environment"
   ]
  },
  {
   "cell_type": "code",
   "execution_count": null,
   "metadata": {
    "colab": {},
    "colab_type": "code",
    "id": "asFw-F-ghKAU"
   },
   "outputs": [],
   "source": [
    "class args:\n",
    "  jump=True\n",
    "  curve=True\n",
    "  screen_size=64\n",
    "  location_size=32\n",
    "  color_channel=3\n",
    "  brush_path='SPIRAL-tensorflow/assets/brushes/dry_brush.myb'\n",
    "  data_dir=Path('data')"
   ]
  },
  {
   "cell_type": "code",
   "execution_count": null,
   "metadata": {
    "colab": {},
    "colab_type": "code",
    "id": "jT30XmogTskB"
   },
   "outputs": [],
   "source": [
    "class PaintMode:\n",
    "  STROKES_ONLY = 0\n",
    "  JUMP_STROKES = 1\n",
    "  CONNECTED_STROKES = 2\n",
    "\n",
    "class ColorEnv():\n",
    "    head = 0.25\n",
    "    tail = 0.75\n",
    "    \n",
    "    # all 0 to 1\n",
    "    actions_to_idx = {\n",
    "        'pressure': 0,\n",
    "        'size': 1,\n",
    "        'control_x': 2,\n",
    "        'control_y': 3,\n",
    "        'end_x': 4,\n",
    "        'end_y': 5,\n",
    "        'color_r': 6,\n",
    "        'color_g': 7,\n",
    "        'color_b': 8,\n",
    "        'start_x': 9,\n",
    "        'start_y': 10,\n",
    "        'entry_pressure': 11,\n",
    "    }\n",
    "\n",
    "    def __init__(self, args, paint_mode=PaintMode.JUMP_STROKES):\n",
    "        self.args = args\n",
    "        self.paint_mode = paint_mode\n",
    "\n",
    "        # screen\n",
    "        self.screen_size = args.screen_size\n",
    "        self.height, self.width = self.screen_size, self.screen_size\n",
    "        self.observation_shape = [\n",
    "                self.height, self.width, args.color_channel]\n",
    "\n",
    "        # location\n",
    "        self.location_size = args.location_size\n",
    "        self.location_shape = [self.location_size, self.location_size]\n",
    "        \n",
    "        self.prev_x, self.prev_y, self.prev_pressure = None, None, None\n",
    "    \n",
    "    @staticmethod\n",
    "    def pretty_print_action(ac):\n",
    "        for k, v in ColorEnv.actions_to_idx.items():\n",
    "            print(k, ac[v])\n",
    "    \n",
    "    def random_action(self):\n",
    "        return np.random.uniform(size=[len(self.actions_to_idx)])\n",
    "      \n",
    "    def reset(self):\n",
    "        self.intermediate_images = []\n",
    "        self.prev_x, self.prev_y, self.prev_pressure = None, None, None\n",
    "\n",
    "        self.s = tiledsurface.Surface()\n",
    "        self.s.flood_fill(0, 0, (255, 255, 255), (0, 0, 64, 64), 0, self.s)\n",
    "        self.s.begin_atomic()\n",
    "\n",
    "        with open(self.args.brush_path) as fp:\n",
    "            self.bi = brush.BrushInfo(fp.read())\n",
    "        self.b = brush.Brush(self.bi)\n",
    "\n",
    "    def draw(self, ac, s=None, dtime=1):\n",
    "        # Just added this\n",
    "        if self.paint_mode == PaintMode.STROKES_ONLY:\n",
    "          self.s.clear()\n",
    "          self.s.flood_fill(0, 0, (255, 255, 255), (0, 0, 64, 64), 0, self.s)\n",
    "          self.s.end_atomic()\n",
    "          self.s.begin_atomic()\n",
    "        \n",
    "        if s is None:\n",
    "            s = self.s\n",
    "\n",
    "        s_x, s_y = ac[self.actions_to_idx['start_x']]*64, ac[self.actions_to_idx['start_y']]*64  \n",
    "        e_x, e_y = ac[self.actions_to_idx['end_x']]*64, ac[self.actions_to_idx['end_y']]*64\n",
    "        c_x, c_y = ac[self.actions_to_idx['control_x']]*64, ac[self.actions_to_idx['control_y']]*64\n",
    "        color = (\n",
    "            ac[self.actions_to_idx['color_r']],\n",
    "            ac[self.actions_to_idx['color_g']],\n",
    "            ac[self.actions_to_idx['color_b']],\n",
    "        )\n",
    "        pressure = ac[self.actions_to_idx['pressure']]*0.8\n",
    "        entry_pressure = ac[self.actions_to_idx['entry_pressure']]*0.8\n",
    "        size = ac[self.actions_to_idx['size']] * 2.\n",
    "        \n",
    "        if self.paint_mode == PaintMode.CONNECTED_STROKES:\n",
    "            if self.prev_x is not None:\n",
    "                s_x, s_y, entry_pressure = self.prev_x, self.prev_y, self.prev_pressure\n",
    "            self.prev_x, self.prev_y, self.prev_pressure = e_x, e_y, pressure\n",
    "\n",
    "        self.b.brushinfo.set_color_rgb(color)\n",
    "        \n",
    "        self.b.brushinfo.set_base_value('radius_logarithmic', size)\n",
    "\n",
    "        # Move brush to starting point without leaving it on the canvas.\n",
    "        self._stroke_to(s_x, s_y, 0)\n",
    "\n",
    "        self._draw(s_x, s_y, e_x, e_y, c_x, c_y, entry_pressure, pressure, size, color, dtime)\n",
    "\n",
    "    def _draw(self, s_x, s_y, e_x, e_y, c_x, c_y,\n",
    "              entry_pressure, pressure, size, color, dtime):\n",
    "\n",
    "        # if straight line or jump\n",
    "        if pressure == 0:\n",
    "            self.b.stroke_to(\n",
    "                    self.s.backend, e_x, e_y, pressure, 0, 0, dtime)\n",
    "        else:\n",
    "            self.curve(c_x, c_y, s_x, s_y, e_x, e_y, entry_pressure, pressure)\n",
    "            \n",
    "        # Relieve brush pressure for next jump\n",
    "        self._stroke_to(e_x, e_y, 0)\n",
    "\n",
    "        self.s.end_atomic()\n",
    "        self.s.begin_atomic()\n",
    "\n",
    "    # sx, sy = starting point\n",
    "    # ex, ey = end point\n",
    "    # kx, ky = curve point from last line\n",
    "    # lx, ly = last point from InteractionMode update\n",
    "    def curve(self, cx, cy, sx, sy, ex, ey, entry_pressure, pressure):\n",
    "        #entry_p, midpoint_p, junk, prange2, head, tail\n",
    "        entry_p, midpoint_p, prange1, prange2, h, t = \\\n",
    "                self._line_settings(entry_pressure, pressure)\n",
    "\n",
    "        points_in_curve = 100\n",
    "        mx, my = midpoint(sx, sy, ex, ey)\n",
    "        length, nx, ny = length_and_normal(mx, my, cx, cy)\n",
    "        cx, cy = multiply_add(mx, my, nx, ny, length*2)\n",
    "        x1, y1 = difference(sx, sy, cx, cy)\n",
    "        x2, y2 = difference(cx, cy, ex, ey)\n",
    "        head = points_in_curve * h\n",
    "        head_range = int(head)+1\n",
    "        tail = points_in_curve * t\n",
    "        tail_range = int(tail)+1\n",
    "        tail_length = points_in_curve - tail\n",
    "\n",
    "        # Beginning\n",
    "        px, py = point_on_curve_1(1, cx, cy, sx, sy, x1, y1, x2, y2)\n",
    "        length, nx, ny = length_and_normal(sx, sy, px, py)\n",
    "        bx, by = multiply_add(sx, sy, nx, ny, 0.25)\n",
    "        self._stroke_to(bx, by, entry_p)\n",
    "        pressure = abs(1/head * prange1 + entry_p)\n",
    "        self._stroke_to(px, py, pressure)\n",
    "\n",
    "        for i in xrange(2, head_range):\n",
    "            px, py = point_on_curve_1(i, cx, cy, sx, sy, x1, y1, x2, y2)\n",
    "            pressure = abs(i/head * prange1 + entry_p)\n",
    "            self._stroke_to(px, py, pressure)\n",
    "\n",
    "        # Middle\n",
    "        for i in xrange(head_range, tail_range):\n",
    "            px, py = point_on_curve_1(i, cx, cy, sx, sy, x1, y1, x2, y2)\n",
    "            self._stroke_to(px, py, midpoint_p)\n",
    "\n",
    "        # End\n",
    "        for i in xrange(tail_range, points_in_curve+1):\n",
    "            px, py = point_on_curve_1(i, cx, cy, sx, sy, x1, y1, x2, y2)\n",
    "            pressure = abs((i-tail)/tail_length * prange2 + midpoint_p)\n",
    "            self._stroke_to(px, py, pressure)\n",
    "\n",
    "        return pressure\n",
    "\n",
    "    def _stroke_to(self, x, y, pressure, duration=0.1):\n",
    "        self.b.stroke_to(\n",
    "                self.s.backend,\n",
    "                x, y,\n",
    "                pressure,\n",
    "                0.0, 0.0,\n",
    "                duration)\n",
    "        self.s.end_atomic()\n",
    "        self.s.begin_atomic()\n",
    "        self.intermediate_images.append(self.image)\n",
    "\n",
    "    def save_image(self, path=\"test.png\"):\n",
    "        Image.fromarray(self.image.astype(np.uint8).squeeze()).save(path)\n",
    "        #self.s.save_as_png(path, alpha=False)\n",
    "\n",
    "    @property\n",
    "    def image(self):\n",
    "        rect = [0, 0, self.height, self.width]\n",
    "        scanline_strips = \\\n",
    "                surface.scanline_strips_iter(self.s, rect)\n",
    "        return next(scanline_strips)\n",
    "\n",
    "    def _line_settings(self, entry_pressure, pressure):\n",
    "        p1 = entry_pressure\n",
    "        p2 = (entry_pressure + pressure) / 2\n",
    "        p3 = pressure\n",
    "        if self.head == 0.0001:\n",
    "            p1 = p2\n",
    "        prange1 = p2 - p1\n",
    "        prange2 = p3 - p2\n",
    "        return p1, p2, prange1, prange2, self.head, self.tail\n"
   ]
  },
  {
   "cell_type": "code",
   "execution_count": null,
   "metadata": {
    "colab": {},
    "colab_type": "code",
    "id": "ukbt7gF41v-q"
   },
   "outputs": [],
   "source": []
  },
  {
   "cell_type": "markdown",
   "metadata": {
    "colab_type": "text",
    "id": "EACO9tboLCPr"
   },
   "source": [
    "## Sanity check paint environment"
   ]
  },
  {
   "cell_type": "code",
   "execution_count": 4,
   "metadata": {
    "colab": {
     "base_uri": "https://localhost:8080/",
     "height": 2537
    },
    "colab_type": "code",
    "id": "OZ5vCnNm1q7n",
    "outputId": "319d1028-66e6-4ccb-f2eb-60e85e7c20ac"
   },
   "outputs": [
    {
     "name": "stdout",
     "output_type": "stream",
     "text": [
      "[Step 0] ac: [0.26404815 0.96822001 0.15672115 0.82396459 0.55500448 0.25566826\n",
      " 0.02312342 0.9990442  0.50381175 0.529559   0.16601173 0.99508717]\n",
      "('end_y', 0.255668260693107)\n",
      "('end_x', 0.5550044837676973)\n",
      "('color_g', 0.9990441960515342)\n",
      "('color_b', 0.5038117495288398)\n",
      "('pressure', 0.2640481532670036)\n",
      "('entry_pressure', 0.9950871716775643)\n",
      "('color_r', 0.023123417389094736)\n",
      "('size', 0.9682200100059787)\n",
      "('control_y', 0.8239645860429625)\n",
      "('control_x', 0.1567211532692091)\n",
      "('start_x', 0.5295589957275088)\n",
      "('start_y', 0.1660117310655207)\n"
     ]
    },
    {
     "data": {
      "image/png": "[encoded data removed]",
      "text/plain": [
       "<Figure size 432x288 with 1 Axes>"
      ]
     },
     "metadata": {
      "tags": []
     },
     "output_type": "display_data"
    },
    {
     "name": "stdout",
     "output_type": "stream",
     "text": [
      "[Step 1] ac: [0.1023948  0.00936818 0.66990414 0.39761406 0.30366414 0.59681869\n",
      " 0.57223802 0.85706269 0.71255906 0.72911998 0.94880299 0.58340493]\n",
      "('end_y', 0.5968186902178001)\n",
      "('end_x', 0.30366414048940904)\n",
      "('color_g', 0.8570626923349071)\n",
      "('color_b', 0.7125590572008813)\n",
      "('pressure', 0.10239480379446841)\n",
      "('entry_pressure', 0.5834049287336872)\n",
      "('color_r', 0.5722380174290482)\n",
      "('size', 0.009368175149796154)\n",
      "('control_y', 0.39761405517650417)\n",
      "('control_x', 0.6699041443957969)\n",
      "('start_x', 0.7291199844344761)\n",
      "('start_y', 0.9488029948662642)\n"
     ]
    },
    {
     "data": {
      "image/png": "[encoded data removed]",
      "text/plain": [
       "<Figure size 432x288 with 1 Axes>"
      ]
     },
     "metadata": {
      "tags": []
     },
     "output_type": "display_data"
    },
    {
     "name": "stdout",
     "output_type": "stream",
     "text": [
      "[Step 2] ac: [0.96587299 0.76489805 0.71957098 0.39055768 0.95974236 0.55350308\n",
      " 0.96092335 0.34436994 0.51391299 0.74046183 0.85389628 0.38754596]\n",
      "('end_y', 0.5535030804642671)\n",
      "('end_x', 0.9597423622339342)\n",
      "('color_g', 0.34436993670879856)\n",
      "('color_b', 0.5139129859386249)\n",
      "('pressure', 0.9658729929085194)\n",
      "('entry_pressure', 0.38754596201020397)\n",
      "('color_r', 0.9609233549809425)\n",
      "('size', 0.7648980535788686)\n",
      "('control_y', 0.3905576761852112)\n",
      "('control_x', 0.7195709799868061)\n",
      "('start_x', 0.7404618281675478)\n",
      "('start_y', 0.8538962786161334)\n"
     ]
    },
    {
     "data": {
      "image/png": "[encoded data removed]",
      "text/plain": [
       "<Figure size 432x288 with 1 Axes>"
      ]
     },
     "metadata": {
      "tags": []
     },
     "output_type": "display_data"
    },
    {
     "name": "stdout",
     "output_type": "stream",
     "text": [
      "[Step 3] ac: [0.3557302  0.00308079 0.12483841 0.82961693 0.25336996 0.64261501\n",
      " 0.9151078  0.3691103  0.97120005 0.38226892 0.27619563 0.64140084]\n",
      "('end_y', 0.6426150071525691)\n",
      "('end_x', 0.2533699593771812)\n",
      "('color_g', 0.36911030044049375)\n",
      "('color_b', 0.9712000480463424)\n",
      "('pressure', 0.35573020007108636)\n",
      "('entry_pressure', 0.6414008443789228)\n",
      "('color_r', 0.9151077964708547)\n",
      "('size', 0.003080790273704337)\n",
      "('control_y', 0.8296169346434754)\n",
      "('control_x', 0.12483841406868024)\n",
      "('start_x', 0.38226892287354897)\n",
      "('start_y', 0.27619562740168646)\n"
     ]
    },
    {
     "data": {
      "image/png": "[encoded data removed]",
      "text/plain": [
       "<Figure size 432x288 with 1 Axes>"
      ]
     },
     "metadata": {
      "tags": []
     },
     "output_type": "display_data"
    },
    {
     "name": "stdout",
     "output_type": "stream",
     "text": [
      "[Step 4] ac: [0.82820981 0.51598894 0.37106164 0.72665257 0.61908719 0.57036894\n",
      " 0.26007435 0.80208871 0.35733639 0.5359044  0.93886554 0.39163037]\n",
      "('end_y', 0.5703689352742707)\n",
      "('end_x', 0.6190871866356761)\n",
      "('color_g', 0.8020887098317845)\n",
      "('color_b', 0.3573363885998133)\n",
      "('pressure', 0.8282098107086984)\n",
      "('entry_pressure', 0.3916303740012448)\n",
      "('color_r', 0.2600743518227354)\n",
      "('size', 0.5159889409836421)\n",
      "('control_y', 0.7266525695130116)\n",
      "('control_x', 0.37106163846648565)\n",
      "('start_x', 0.5359043961075507)\n",
      "('start_y', 0.9388655449682708)\n"
     ]
    },
    {
     "data": {
      "image/png": "[encoded data removed]",
      "text/plain": [
       "<Figure size 432x288 with 1 Axes>"
      ]
     },
     "metadata": {
      "tags": []
     },
     "output_type": "display_data"
    }
   ],
   "source": [
    "env=ColorEnv(args, paint_mode=PaintMode.JUMP_STROKES)\n",
    "\n",
    "try:\n",
    "  os.makedirs('data/generated')\n",
    "except OSError:\n",
    "  pass\n",
    "\n",
    "for ep_idx in range(1):\n",
    "    env.reset()\n",
    "\n",
    "    for i in range(5):\n",
    "        action = env.random_action()\n",
    "        #action[env.actions_to_idx['color_r']] = 0.50\n",
    "        #action[env.actions_to_idx['color_g']] = 0.2\n",
    "        #action[env.actions_to_idx['color_b']] = 0.3\n",
    "        print(\"[Step {}] ac: {}\".format(i, action))\n",
    "        ColorEnv.pretty_print_action(action)\n",
    "        env.draw(action)\n",
    "        plt.imshow(env.image)\n",
    "        plt.show()\n",
    "        env.save_image(\"data/generated/mnist{}_{}.png\".format(ep_idx, i))"
   ]
  },
  {
   "cell_type": "code",
   "execution_count": 5,
   "metadata": {
    "colab": {
     "base_uri": "https://localhost:8080/",
     "height": 2537
    },
    "colab_type": "code",
    "id": "y3_6GuaK1q5M",
    "outputId": "e2f3a7b9-adc0-4ae7-d3e2-3b7ea0bbac79"
   },
   "outputs": [
    {
     "name": "stdout",
     "output_type": "stream",
     "text": [
      "[Step 0] ac: [0.93273729 0.88879811 0.44361509 0.30820941 0.64586243 0.26765199\n",
      " 0.07082042 0.24761258 0.54161853 0.85851301 0.9840184  0.53020547]\n",
      "('end_y', 0.2676519890379069)\n",
      "('end_x', 0.6458624305453227)\n",
      "('color_g', 0.24761258061517588)\n",
      "('color_b', 0.5416185291241625)\n",
      "('pressure', 0.9327372928077287)\n",
      "('entry_pressure', 0.5302054734953655)\n",
      "('color_r', 0.0708204231802464)\n",
      "('size', 0.8887981063900303)\n",
      "('control_y', 0.30820941013104575)\n",
      "('control_x', 0.4436150901438063)\n",
      "('start_x', 0.8585130096303563)\n",
      "('start_y', 0.9840183957669343)\n"
     ]
    },
    {
     "data": {
      "image/png": "[encoded data removed]",
      "text/plain": [
       "<Figure size 432x288 with 1 Axes>"
      ]
     },
     "metadata": {
      "tags": []
     },
     "output_type": "display_data"
    },
    {
     "name": "stdout",
     "output_type": "stream",
     "text": [
      "[Step 1] ac: [0.36515062 0.30124581 0.47204964 0.65072222 0.65151745 0.58561212\n",
      " 0.94529997 0.07012821 0.39330104 0.09341873 0.13907208 0.57115726]\n",
      "('end_y', 0.5856121174382521)\n",
      "('end_x', 0.6515174493639371)\n",
      "('color_g', 0.07012821322132035)\n",
      "('color_b', 0.39330104113802933)\n",
      "('pressure', 0.3651506189444672)\n",
      "('entry_pressure', 0.5711572595887029)\n",
      "('color_r', 0.9452999666942634)\n",
      "('size', 0.30124580694182057)\n",
      "('control_y', 0.6507222235396223)\n",
      "('control_x', 0.4720496399596482)\n",
      "('start_x', 0.09341872594776623)\n",
      "('start_y', 0.1390720766097302)\n"
     ]
    },
    {
     "data": {
      "image/png": "[encoded data removed]",
      "text/plain": [
       "<Figure size 432x288 with 1 Axes>"
      ]
     },
     "metadata": {
      "tags": []
     },
     "output_type": "display_data"
    },
    {
     "name": "stdout",
     "output_type": "stream",
     "text": [
      "[Step 2] ac: [0.09476984 0.23737978 0.45335428 0.42428263 0.4455534  0.65612943\n",
      " 0.19244729 0.01741144 0.76810654 0.01604109 0.57286472 0.10633994]\n",
      "('end_y', 0.6561294325314068)\n",
      "('end_x', 0.44555340086482953)\n",
      "('color_g', 0.017411440663484545)\n",
      "('color_b', 0.768106540693279)\n",
      "('pressure', 0.09476983659940319)\n",
      "('entry_pressure', 0.10633994436518801)\n",
      "('color_r', 0.19244729181189735)\n",
      "('size', 0.23737978067958754)\n",
      "('control_y', 0.42428262690577456)\n",
      "('control_x', 0.45335428471462236)\n",
      "('start_x', 0.016041085908013786)\n",
      "('start_y', 0.5728647197065228)\n"
     ]
    },
    {
     "data": {
      "image/png": "[encoded data removed]",
      "text/plain": [
       "<Figure size 432x288 with 1 Axes>"
      ]
     },
     "metadata": {
      "tags": []
     },
     "output_type": "display_data"
    },
    {
     "name": "stdout",
     "output_type": "stream",
     "text": [
      "[Step 3] ac: [0.56323853 0.60769168 0.24782252 0.95826642 0.35986308 0.21879381\n",
      " 0.3866676  0.53685841 0.00205911 0.71798041 0.34658607 0.87065781]\n",
      "('end_y', 0.21879380981931118)\n",
      "('end_x', 0.3598630810590875)\n",
      "('color_g', 0.5368584072771373)\n",
      "('color_b', 0.002059114656629779)\n",
      "('pressure', 0.5632385291365636)\n",
      "('entry_pressure', 0.8706578070325454)\n",
      "('color_r', 0.3866676046596915)\n",
      "('size', 0.6076916789220893)\n",
      "('control_y', 0.9582664209477781)\n",
      "('control_x', 0.24782251608811356)\n",
      "('start_x', 0.7179804087376247)\n",
      "('start_y', 0.34658606848380813)\n"
     ]
    },
    {
     "data": {
      "image/png": "[encoded data removed]",
      "text/plain": [
       "<Figure size 432x288 with 1 Axes>"
      ]
     },
     "metadata": {
      "tags": []
     },
     "output_type": "display_data"
    },
    {
     "name": "stdout",
     "output_type": "stream",
     "text": [
      "[Step 4] ac: [0.46326046 0.68938223 0.81022043 0.31715687 0.56169805 0.53509667\n",
      " 0.57993134 0.47325214 0.32227619 0.00099051 0.53090457 0.7133904 ]\n",
      "('end_y', 0.5350966703563642)\n",
      "('end_x', 0.5616980510440263)\n",
      "('color_g', 0.4732521440564966)\n",
      "('color_b', 0.3222761863805066)\n",
      "('pressure', 0.46326046078452465)\n",
      "('entry_pressure', 0.7133903961725964)\n",
      "('color_r', 0.5799313384080698)\n",
      "('size', 0.6893822342459711)\n",
      "('control_y', 0.3171568685266385)\n",
      "('control_x', 0.8102204263584482)\n",
      "('start_x', 0.0009905088440437249)\n",
      "('start_y', 0.5309045650884464)\n"
     ]
    },
    {
     "data": {
      "image/png": "[encoded data removed]",
      "text/plain": [
       "<Figure size 432x288 with 1 Axes>"
      ]
     },
     "metadata": {
      "tags": []
     },
     "output_type": "display_data"
    }
   ],
   "source": [
    "env=ColorEnv(args, paint_mode=PaintMode.STROKES_ONLY)\n",
    "\n",
    "try:\n",
    "  os.makedirs('data/generated')\n",
    "except OSError:\n",
    "  pass\n",
    "\n",
    "for ep_idx in range(1):\n",
    "    env.reset()\n",
    "\n",
    "    for i in range(5):\n",
    "        action = env.random_action()\n",
    "        #action[env.actions_to_idx['color_r']] = 0.50\n",
    "        #action[env.actions_to_idx['color_g']] = 0.2\n",
    "        #action[env.actions_to_idx['color_b']] = 0.3\n",
    "        print(\"[Step {}] ac: {}\".format(i, action))\n",
    "        ColorEnv.pretty_print_action(action)\n",
    "        env.draw(action)\n",
    "        plt.imshow(env.image)\n",
    "        plt.show()\n",
    "        env.save_image(\"data/generated/mnist{}_{}.png\".format(ep_idx, i))"
   ]
  },
  {
   "cell_type": "code",
   "execution_count": 6,
   "metadata": {
    "colab": {
     "base_uri": "https://localhost:8080/",
     "height": 2537
    },
    "colab_type": "code",
    "id": "Hd4jqVXg1q3L",
    "outputId": "290cb5a8-1581-493c-8d79-173ee2187b81"
   },
   "outputs": [
    {
     "name": "stdout",
     "output_type": "stream",
     "text": [
      "[Step 0] ac: [0.32542663 0.37338011 0.36733832 0.48550354 0.23065611 0.23097348\n",
      " 0.45006508 0.21099824 0.16291906 0.24169058 0.72456516 0.        ]\n",
      "('end_y', 0.230973482733566)\n",
      "('end_x', 0.23065611341710412)\n",
      "('color_g', 0.21099823920283978)\n",
      "('color_b', 0.16291906446897064)\n",
      "('pressure', 0.325426627643262)\n",
      "('entry_pressure', 0.0)\n",
      "('color_r', 0.45006507593491396)\n",
      "('size', 0.3733801136177013)\n",
      "('control_y', 0.48550354234559234)\n",
      "('control_x', 0.36733832463080496)\n",
      "('start_x', 0.24169057786216064)\n",
      "('start_y', 0.7245651603918453)\n"
     ]
    },
    {
     "data": {
      "image/png": "[encoded data removed]",
      "text/plain": [
       "<Figure size 432x288 with 1 Axes>"
      ]
     },
     "metadata": {
      "tags": []
     },
     "output_type": "display_data"
    },
    {
     "name": "stdout",
     "output_type": "stream",
     "text": [
      "[Step 1] ac: [0.03044385 0.43777396 0.35321483 0.34914334 0.26010034 0.87082733\n",
      " 0.23282752 0.05244238 0.01913243 0.34816328 0.41009838 0.        ]\n",
      "('end_y', 0.8708273330860063)\n",
      "('end_x', 0.26010034026881035)\n",
      "('color_g', 0.05244237768434523)\n",
      "('color_b', 0.0191324263207161)\n",
      "('pressure', 0.03044384524715349)\n",
      "('entry_pressure', 0.0)\n",
      "('color_r', 0.23282752039353372)\n",
      "('size', 0.43777396232244514)\n",
      "('control_y', 0.3491433391822223)\n",
      "('control_x', 0.3532148303589294)\n",
      "('start_x', 0.3481632764775672)\n",
      "('start_y', 0.4100983775675553)\n"
     ]
    },
    {
     "data": {
      "image/png": "[encoded data removed]",
      "text/plain": [
       "<Figure size 432x288 with 1 Axes>"
      ]
     },
     "metadata": {
      "tags": []
     },
     "output_type": "display_data"
    },
    {
     "name": "stdout",
     "output_type": "stream",
     "text": [
      "[Step 2] ac: [0.00355761 0.99963391 0.76194057 0.83948911 0.66236439 0.80897455\n",
      " 0.32711967 0.9174523  0.16179189 0.1977505  0.13337123 0.        ]\n",
      "('end_y', 0.8089745475184195)\n",
      "('end_x', 0.6623643930583905)\n",
      "('color_g', 0.9174522979697065)\n",
      "('color_b', 0.16179188837154068)\n",
      "('pressure', 0.0035576058829480672)\n",
      "('entry_pressure', 0.0)\n",
      "('color_r', 0.3271196731498318)\n",
      "('size', 0.999633912948483)\n",
      "('control_y', 0.8394891101499349)\n",
      "('control_x', 0.7619405736245075)\n",
      "('start_x', 0.1977504994387269)\n",
      "('start_y', 0.13337123415109253)\n"
     ]
    },
    {
     "data": {
      "image/png": "[encoded data removed]",
      "text/plain": [
       "<Figure size 432x288 with 1 Axes>"
      ]
     },
     "metadata": {
      "tags": []
     },
     "output_type": "display_data"
    },
    {
     "name": "stdout",
     "output_type": "stream",
     "text": [
      "[Step 3] ac: [0.20891175 0.92287791 0.72349815 0.296454   0.92919243 0.24524658\n",
      " 0.22189355 0.04993547 0.33627227 0.45439776 0.69748406 0.        ]\n",
      "('end_y', 0.24524658330318427)\n",
      "('end_x', 0.9291924255303122)\n",
      "('color_g', 0.04993547376523011)\n",
      "('color_b', 0.3362722725734334)\n",
      "('pressure', 0.20891174905536225)\n",
      "('entry_pressure', 0.0)\n",
      "('color_r', 0.2218935537794937)\n",
      "('size', 0.922877905665151)\n",
      "('control_y', 0.2964539985294652)\n",
      "('control_x', 0.7234981475387975)\n",
      "('start_x', 0.4543977553412989)\n",
      "('start_y', 0.6974840583596295)\n"
     ]
    },
    {
     "data": {
      "image/png": "[encoded data removed]",
      "text/plain": [
       "<Figure size 432x288 with 1 Axes>"
      ]
     },
     "metadata": {
      "tags": []
     },
     "output_type": "display_data"
    },
    {
     "name": "stdout",
     "output_type": "stream",
     "text": [
      "[Step 4] ac: [0.83328842 0.98344846 0.33902685 0.89123158 0.52925477 0.91303524\n",
      " 0.24966657 0.2142516  0.83175996 0.96174141 0.73542546 0.        ]\n",
      "('end_y', 0.9130352411236383)\n",
      "('end_x', 0.5292547683514356)\n",
      "('color_g', 0.2142515993495543)\n",
      "('color_b', 0.8317599640955169)\n",
      "('pressure', 0.8332884207039201)\n",
      "('entry_pressure', 0.0)\n",
      "('color_r', 0.24966657442185525)\n",
      "('size', 0.9834484610593238)\n",
      "('control_y', 0.891231583965259)\n",
      "('control_x', 0.3390268529310515)\n",
      "('start_x', 0.9617414052565931)\n",
      "('start_y', 0.7354254600146377)\n"
     ]
    },
    {
     "data": {
      "image/png": "[encoded data removed]",
      "text/plain": [
       "<Figure size 432x288 with 1 Axes>"
      ]
     },
     "metadata": {
      "tags": []
     },
     "output_type": "display_data"
    }
   ],
   "source": [
    "env=ColorEnv(args, paint_mode=PaintMode.CONNECTED_STROKES)\n",
    "\n",
    "try:\n",
    "  os.makedirs('data/generated')\n",
    "except OSError:\n",
    "  pass\n",
    "\n",
    "for ep_idx in range(1):\n",
    "    env.reset()\n",
    "\n",
    "    for i in range(5):\n",
    "        action = env.random_action()\n",
    "        #action[env.actions_to_idx['color_r']] = 0.50\n",
    "        #action[env.actions_to_idx['color_g']] = 0.2\n",
    "        #action[env.actions_to_idx['color_b']] = 0.3\n",
    "        action[env.actions_to_idx['entry_pressure']] = 0.\n",
    "        print(\"[Step {}] ac: {}\".format(i, action))\n",
    "        ColorEnv.pretty_print_action(action)\n",
    "        env.draw(action)\n",
    "        plt.imshow(env.image)\n",
    "        plt.show()\n",
    "        env.save_image(\"data/generated/mnist{}_{}.png\".format(ep_idx, i))"
   ]
  },
  {
   "cell_type": "code",
   "execution_count": null,
   "metadata": {
    "colab": {},
    "colab_type": "code",
    "id": "oceF6vnA1q0D"
   },
   "outputs": [],
   "source": []
  },
  {
   "cell_type": "code",
   "execution_count": null,
   "metadata": {
    "colab": {},
    "colab_type": "code",
    "id": "QmmnGkLU1qv8"
   },
   "outputs": [],
   "source": []
  },
  {
   "cell_type": "code",
   "execution_count": null,
   "metadata": {
    "colab": {},
    "colab_type": "code",
    "id": "FG8PvckglJFO"
   },
   "outputs": [],
   "source": []
  },
  {
   "cell_type": "markdown",
   "metadata": {
    "colab_type": "text",
    "id": "MidgiI1rLe_h"
   },
   "source": [
    "# Generate action to brushstroke image examples\n",
    "\n",
    "This takes a long time. You might want to adjust the number of shards or change the Colab runtime to local or save directly to Google Drive to avoid losing progress.\n",
    "\n",
    "Alternatively, just skip this step and download the strokes I generated."
   ]
  },
  {
   "cell_type": "code",
   "execution_count": null,
   "metadata": {
    "colab": {},
    "colab_type": "code",
    "id": "3bSfbLaLjdHv"
   },
   "outputs": [],
   "source": [
    "env=ColorEnv(args, paint_mode=PaintMode.STROKES_ONLY)\n",
    "\n",
    "try:\n",
    "  os.makedirs('data')\n",
    "except OSError:\n",
    "  pass\n",
    "\n",
    "NUM_SHARDS = 80\n",
    "NUM_STROKES_PER_SHARD = 100000\n",
    "\n",
    "SHARD_NUM_OFFSET = 0\n",
    "\n",
    "for i in range(SHARD_NUM_OFFSET, SHARD_NUM_OFFSET+NUM_SHARDS):\n",
    "  print('shard', i)\n",
    "  actions = []\n",
    "  strokes = []\n",
    "  for idx in range(NUM_STROKES_PER_SHARD):\n",
    "    env.reset()\n",
    "    if idx % 2000 == 0: print(idx)\n",
    "    \n",
    "    action = env.random_action()\n",
    "    actions.append(action)\n",
    "    env.draw(action)\n",
    "    strokes.append(env.image[:, :, :3])\n",
    "  actions = np.array(actions, dtype=np.float)\n",
    "  strokes = np.array(strokes, dtype=np.uint8)\n",
    "  np.savez_compressed(\"data/episodes_{}.npz\".format(i), actions=actions, strokes=strokes)\n"
   ]
  },
  {
   "cell_type": "markdown",
   "metadata": {
    "colab_type": "text",
    "id": "EwhdhVkdM7ZV"
   },
   "source": [
    "# Test out the generated files"
   ]
  },
  {
   "cell_type": "code",
   "execution_count": null,
   "metadata": {
    "colab": {},
    "colab_type": "code",
    "id": "2z3CXRd1TRma"
   },
   "outputs": [],
   "source": [
    "loaded = np.load('data/episodes_0.npz')"
   ]
  },
  {
   "cell_type": "code",
   "execution_count": 9,
   "metadata": {
    "colab": {
     "base_uri": "https://localhost:8080/",
     "height": 53
    },
    "colab_type": "code",
    "id": "-3L2cE3djdaQ",
    "outputId": "4c4f8095-812e-40b9-9d2e-fb9028db2696"
   },
   "outputs": [
    {
     "name": "stdout",
     "output_type": "stream",
     "text": [
      "(100000, 12)\n",
      "(100000, 64, 64, 3)\n"
     ]
    }
   ],
   "source": [
    "print loaded['actions'].shape\n",
    "print loaded['strokes'].shape\n"
   ]
  },
  {
   "cell_type": "code",
   "execution_count": 10,
   "metadata": {
    "colab": {
     "base_uri": "https://localhost:8080/",
     "height": 122
    },
    "colab_type": "code",
    "id": "uIWBkyd_jdV0",
    "outputId": "b3f7e791-f05c-4ebe-87e3-8e4c3ad8c778"
   },
   "outputs": [
    {
     "data": {
      "image/png": "[encoded data removed]",
      "text/plain": [
       "<Figure size 2160x720 with 10 Axes>"
      ]
     },
     "metadata": {
      "tags": []
     },
     "output_type": "display_data"
    }
   ],
   "source": [
    "import matplotlib.pyplot as plt\n",
    "\n",
    "w=args.screen_size\n",
    "h=args.screen_size\n",
    "fig=plt.figure(figsize=(30, 10))\n",
    "cols = 10\n",
    "\n",
    "smaller_arr = loaded['strokes'][:cols]\n",
    "\n",
    "for col in range(cols):\n",
    "    img = smaller_arr[col][:, :, :3]\n",
    "    #print(img.shape)\n",
    "    fig.add_subplot(1, 20, col+1)\n",
    "    plt.grid(False)\n",
    "    plt.imshow(img)\n",
    "plt.show()"
   ]
  },
  {
   "cell_type": "code",
   "execution_count": null,
   "metadata": {
    "colab": {},
    "colab_type": "code",
    "id": "l4NbuBaiF3eo"
   },
   "outputs": [],
   "source": [
    "for ac in loaded['actions'][:cols]:\n",
    "  print('___')\n",
    "  ColorEnv.pretty_print_action(ac)"
   ]
  },
  {
   "cell_type": "code",
   "execution_count": null,
   "metadata": {
    "colab": {},
    "colab_type": "code",
    "id": "s7vyPqLbjdQm"
   },
   "outputs": [],
   "source": []
  },
  {
   "cell_type": "code",
   "execution_count": null,
   "metadata": {
    "colab": {},
    "colab_type": "code",
    "id": "shl-Vn7tjdNd"
   },
   "outputs": [],
   "source": [
    "\"\"\"\n",
    "\n",
    "env=ColorEnv(args, paint_mode=PaintMode.JUMP_STROKES)\n",
    "#env2 = ColorEnv(args, paint_mode=PaintMode.JUMP_STROKES)\n",
    "\n",
    "try:\n",
    "  os.makedirs('data')\n",
    "except OSError:\n",
    "  pass\n",
    "\n",
    "NUM_STROKES = 200000\n",
    "NUM_SHARDS = 1\n",
    "NUM_STROKES_PER_SHARD = NUM_STROKES/NUM_SHARDS\n",
    "\n",
    "for i in range(NUM_SHARDS):\n",
    "  env.reset()\n",
    "  #env2.reset()\n",
    "  actions = []\n",
    "  strokes = []\n",
    "  #full_images = []\n",
    "  for idx in range(NUM_STROKES_PER_SHARD):\n",
    "    if idx % 2000 == 0: print(idx)\n",
    "    \n",
    "    action = env.random_action()\n",
    "    actions.append(action)\n",
    "    env.draw(action)\n",
    "    #env2.draw(action)\n",
    "    strokes.append(env.image[:, :, :3])\n",
    "    #full_images.append(env2.image[:, :, :3])\n",
    "  actions = np.array(actions, dtype=np.float)\n",
    "  strokes = np.array(strokes, dtype=np.uint8)\n",
    "  #full_images = np.array(full_images, dtype=np.uint8)\n",
    "  np.savez_compressed(\"data/full_strokes_{}.npz\".format(i), actions=actions, strokes=strokes)\n",
    "\"\"\""
   ]
  },
  {
   "cell_type": "code",
   "execution_count": null,
   "metadata": {
    "colab": {},
    "colab_type": "code",
    "id": "_D9ezTtHjdFq"
   },
   "outputs": [],
   "source": []
  },
  {
   "cell_type": "code",
   "execution_count": null,
   "metadata": {
    "colab": {},
    "colab_type": "code",
    "id": "GIq_7RrCjdCW"
   },
   "outputs": [],
   "source": []
  },
  {
   "cell_type": "code",
   "execution_count": null,
   "metadata": {
    "colab": {},
    "colab_type": "code",
    "id": "9FDftk_6jdAk"
   },
   "outputs": [],
   "source": []
  },
  {
   "cell_type": "code",
   "execution_count": null,
   "metadata": {
    "colab": {},
    "colab_type": "code",
    "id": "Et17CN9Xjc-1"
   },
   "outputs": [],
   "source": []
  }
 ],
 "metadata": {
  "accelerator": "GPU",
  "colab": {
   "collapsed_sections": [],
   "include_colab_link": true,
   "name": "generate-stroke-examples.ipynb",
   "provenance": [],
   "toc_visible": true,
   "version": "0.3.2"
  },
  "kernelspec": {
   "display_name": "Python [conda env:paint]",
   "language": "python",
   "name": "conda-env-paint-py"
  },
  "language_info": {
   "codemirror_mode": {
    "name": "ipython",
    "version": 3
   },
   "file_extension": ".py",
   "mimetype": "text/x-python",
   "name": "python",
   "nbconvert_exporter": "python",
   "pygments_lexer": "ipython3",
   "version": "3.7.5"
  }
 },
 "nbformat": 4,
 "nbformat_minor": 4
}
