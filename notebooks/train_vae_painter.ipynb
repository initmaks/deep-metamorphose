{
  "nbformat": 4,
  "nbformat_minor": 0,
  "metadata": {
    "colab": {
      "name": "train-vae-painter.ipynb",
      "version": "0.3.2",
      "provenance": [],
      "collapsed_sections": [],
      "toc_visible": true,
      "include_colab_link": true
    },
    "kernelspec": {
      "name": "python2",
      "display_name": "Python 2"
    },
    "accelerator": "GPU"
  },
  "cells": [
    {
      "cell_type": "markdown",
      "metadata": {
        "id": "view-in-github",
        "colab_type": "text"
      },
      "source": [
        "<a href=\"https://colab.research.google.com/github/reiinakano/neural-painters/blob/master/notebooks/train_vae_painter.ipynb\" target=\"_parent\"><img src=\"https://colab.research.google.com/assets/colab-badge.svg\" alt=\"Open In Colab\"/></a>"
      ]
    },
    {
      "metadata": {
        "id": "oqPegdNYTa12",
        "colab_type": "text"
      },
      "cell_type": "markdown",
      "source": [
        "# Optionally connect to Google Drive"
      ]
    },
    {
      "metadata": {
        "id": "y_yS_Zk7W_mh",
        "colab_type": "code",
        "outputId": "53ba0245-c9c5-4601-d6c0-25276f8d7102",
        "colab": {
          "base_uri": "https://localhost:8080/",
          "height": 127
        }
      },
      "cell_type": "code",
      "source": [
        "#from google.colab import drive\n",
        "#drive.mount('/drive')"
      ],
      "execution_count": 0,
      "outputs": [
        {
          "output_type": "stream",
          "text": [
            "Go to this URL in a browser: https://accounts.google.com/o/oauth2/auth?client_id=947318989803-6bn6qk8qdgf4n4g3pfee6491hc0brc4i.apps.googleusercontent.com&redirect_uri=urn%3Aietf%3Awg%3Aoauth%3A2.0%3Aoob&scope=email%20https%3A%2F%2Fwww.googleapis.com%2Fauth%2Fdocs.test%20https%3A%2F%2Fwww.googleapis.com%2Fauth%2Fdrive%20https%3A%2F%2Fwww.googleapis.com%2Fauth%2Fdrive.photos.readonly%20https%3A%2F%2Fwww.googleapis.com%2Fauth%2Fpeopleapi.readonly&response_type=code\n",
            "\n",
            "Enter your authorization code:\n",
            "··········\n",
            "Mounted at /drive\n"
          ],
          "name": "stdout"
        }
      ]
    },
    {
      "metadata": {
        "id": "9P5f_uzAq_5g",
        "colab_type": "text"
      },
      "cell_type": "markdown",
      "source": [
        "# Install MyPaint and other dependencies"
      ]
    },
    {
      "metadata": {
        "id": "bAWyePtkn3av",
        "colab_type": "code",
        "colab": {}
      },
      "cell_type": "code",
      "source": [
        "# Install mypaint\n",
        "!apt-get update\n",
        "!apt-get install libjson-c-dev libgirepository1.0-dev libglib2.0-dev\n",
        "!apt-get install autotools-dev intltool gettext libtool\n",
        "!apt-get install swig python-setuptools gettext g++\n",
        "!apt-get install -y libgtk-3-dev python-gi-dev\n",
        "!apt-get install -y libpng-dev liblcms2-dev libjson-c-dev\n",
        "!apt-get install -y gir1.2-gtk-3.0 python-gi-cairo\n",
        "!apt-get install scons\n",
        "\n",
        "!wget https://github.com/mypaint/libmypaint/releases/download/v1.3.0/libmypaint-1.3.0.tar.xz\n",
        "!tar -xvf libmypaint-1.3.0.tar.xz\n",
        "!mv libmypaint-1.3.0 libmypaint\n",
        "\n",
        "!cd libmypaint && ./configure && make install\n",
        "\n",
        "!wget https://github.com/mypaint/mypaint/releases/download/v1.2.1/mypaint-1.2.1.tar.xz\n",
        "!tar -xvf mypaint-1.2.1.tar.xz\n",
        "!mv mypaint-1.2.1 mypaint\n",
        "!cd mypaint && scons && scons install\n",
        "\n",
        "!ldconfig\n",
        "\n",
        "!pip install ipdb tqdm pathlib cloudpickle matplotlib"
      ],
      "execution_count": 0,
      "outputs": []
    },
    {
      "metadata": {
        "id": "g2HwOsxDHIQa",
        "colab_type": "code",
        "outputId": "5ac9582f-d02e-4f76-d29a-aaab5e21d99a",
        "colab": {
          "base_uri": "https://localhost:8080/",
          "height": 73
        }
      },
      "cell_type": "code",
      "source": [
        "!pip install future-fstrings"
      ],
      "execution_count": 0,
      "outputs": [
        {
          "output_type": "stream",
          "text": [
            "Requirement already satisfied: future-fstrings in /usr/local/lib/python2.7/dist-packages (1.0.0)\n",
            "Requirement already satisfied: tokenize-rt; python_version < \"3.6\" in /usr/local/lib/python2.7/dist-packages (from future-fstrings) (2.2.0)\n"
          ],
          "name": "stdout"
        }
      ]
    },
    {
      "metadata": {
        "id": "1ueV31ATgbQp",
        "colab_type": "code",
        "outputId": "aa3d6ee1-ab2f-48ba-c45e-8f7222ee3be1",
        "colab": {
          "base_uri": "https://localhost:8080/",
          "height": 197
        }
      },
      "cell_type": "code",
      "source": [
        "!git clone https://github.com/reiinakano/SPIRAL-tensorflow.git\n",
        "!cd SPIRAL-tensorflow && git checkout reiinakano-patch-2  #reiinakano-patches\n",
        "!cd SPIRAL-tensorflow && git pull"
      ],
      "execution_count": 0,
      "outputs": [
        {
          "output_type": "stream",
          "text": [
            "Cloning into 'SPIRAL-tensorflow'...\n",
            "remote: Enumerating objects: 8, done.\u001b[K\n",
            "remote: Counting objects: 100% (8/8), done.\u001b[K\n",
            "remote: Compressing objects: 100% (8/8), done.\u001b[K\n",
            "remote: Total 154 (delta 3), reused 0 (delta 0), pack-reused 146\u001b[K\n",
            "Receiving objects: 100% (154/154), 1.36 MiB | 2.88 MiB/s, done.\n",
            "Resolving deltas: 100% (75/75), done.\n",
            "Branch 'reiinakano-patch-2' set up to track remote branch 'reiinakano-patch-2' from 'origin'.\n",
            "Switched to a new branch 'reiinakano-patch-2'\n",
            "Already up to date.\n"
          ],
          "name": "stdout"
        }
      ]
    },
    {
      "metadata": {
        "id": "a2NYZTrugOeu",
        "colab_type": "code",
        "outputId": "916fbc25-b7e0-47bc-fdc7-0dd535794f16",
        "colab": {
          "base_uri": "https://localhost:8080/",
          "height": 251
        }
      },
      "cell_type": "code",
      "source": [
        "!wget https://bin.equinox.io/c/4VmDzA7iaHb/ngrok-stable-linux-amd64.zip\n",
        "!unzip ngrok-stable-linux-amd64.zip"
      ],
      "execution_count": 0,
      "outputs": [
        {
          "output_type": "stream",
          "text": [
            "--2019-04-11 12:14:52--  https://bin.equinox.io/c/4VmDzA7iaHb/ngrok-stable-linux-amd64.zip\n",
            "Resolving bin.equinox.io (bin.equinox.io)... 52.203.66.95, 34.206.253.53, 54.174.228.92, ...\n",
            "Connecting to bin.equinox.io (bin.equinox.io)|52.203.66.95|:443... connected.\n",
            "HTTP request sent, awaiting response... 200 OK\n",
            "Length: 14977695 (14M) [application/octet-stream]\n",
            "Saving to: ‘ngrok-stable-linux-amd64.zip’\n",
            "\n",
            "ngrok-stable-linux- 100%[===================>]  14.28M  14.4MB/s    in 1.0s    \n",
            "\n",
            "2019-04-11 12:14:53 (14.4 MB/s) - ‘ngrok-stable-linux-amd64.zip’ saved [14977695/14977695]\n",
            "\n",
            "Archive:  ngrok-stable-linux-amd64.zip\n",
            "  inflating: ngrok                   \n"
          ],
          "name": "stdout"
        }
      ]
    },
    {
      "metadata": {
        "id": "9a6SRqIMVZti",
        "colab_type": "text"
      },
      "cell_type": "markdown",
      "source": [
        "# Download episodes. \n",
        "\n",
        "If you want to use/generate your own brushstrokes, go to https://github.com/reiinakano/diff-painter/blob/master/notebooks/generate_stroke_examples.ipynb or put your data under the data/ folder.\n",
        "\n",
        "Otherwise, you can download pre-calculated brushstrokes from Kaggle. You will need to set your API credentials via https://github.com/Kaggle/kaggle-api#api-credentials"
      ]
    },
    {
      "metadata": {
        "id": "wAV5YBk6vu3z",
        "colab_type": "code",
        "colab": {}
      },
      "cell_type": "code",
      "source": [
        "!pip install kaggle"
      ],
      "execution_count": 0,
      "outputs": []
    },
    {
      "metadata": {
        "id": "rfdcEEY0VDlo",
        "colab_type": "code",
        "colab": {}
      },
      "cell_type": "code",
      "source": [
        "!mkdir -p ~/.kaggle\n",
        "\n",
        "# Make sure to upload your Kaggle key from somewhere. I saved mine in Drive\n",
        "#!cp \"/drive/My Drive/kaggle.json\" ~/.kaggle/"
      ],
      "execution_count": 0,
      "outputs": []
    },
    {
      "metadata": {
        "id": "2XnwCiUIacv3",
        "colab_type": "code",
        "colab": {}
      },
      "cell_type": "code",
      "source": [
        "!kaggle datasets download reiinakano/mypaint_brushstrokes"
      ],
      "execution_count": 0,
      "outputs": []
    },
    {
      "metadata": {
        "id": "2ahBjWypZbUE",
        "colab_type": "code",
        "colab": {}
      },
      "cell_type": "code",
      "source": [
        "!unzip mypaint_brushstrokes.zip"
      ],
      "execution_count": 0,
      "outputs": []
    },
    {
      "metadata": {
        "id": "1x2_6feNZbYD",
        "colab_type": "code",
        "colab": {}
      },
      "cell_type": "code",
      "source": [
        "!mv strokes-dataset data"
      ],
      "execution_count": 0,
      "outputs": []
    },
    {
      "metadata": {
        "id": "XK6wamHyZbct",
        "colab_type": "code",
        "colab": {}
      },
      "cell_type": "code",
      "source": [
        ""
      ],
      "execution_count": 0,
      "outputs": []
    },
    {
      "metadata": {
        "id": "YA6KNvosPlRA",
        "colab_type": "text"
      },
      "cell_type": "markdown",
      "source": [
        "#imports"
      ]
    },
    {
      "metadata": {
        "id": "QYBRFuZqRqHL",
        "colab_type": "code",
        "colab": {}
      },
      "cell_type": "code",
      "source": [
        "import numpy as np\n",
        "import matplotlib.pyplot as plt\n",
        "from pathlib import Path\n",
        "import json\n",
        "\n",
        "import tensorflow as tf\n",
        "import os\n",
        "\n",
        "import sys\n",
        "sys.path.append('mypaint')\n",
        "sys.path.append('SPIRAL-tensorflow')\n",
        "\n",
        "from lib import surface, tiledsurface, brush\n",
        "from envs.mypaint_utils import *\n",
        "\n",
        "from IPython.display import display\n",
        "\n",
        "import moviepy.editor as mpy\n",
        "from moviepy.video.io.ffmpeg_writer import FFMPEG_VideoWriter\n",
        "\n",
        "import matplotlib.pyplot as plt\n"
      ],
      "execution_count": 0,
      "outputs": []
    },
    {
      "metadata": {
        "id": "7x0pcs8rWGWm",
        "colab_type": "text"
      },
      "cell_type": "markdown",
      "source": [
        "# "
      ]
    },
    {
      "metadata": {
        "id": "BAaXkkWhRzWt",
        "colab_type": "code",
        "colab": {}
      },
      "cell_type": "code",
      "source": [
        "class args:\n",
        "  jump=True\n",
        "  curve=True\n",
        "  screen_size=64\n",
        "  location_size=32\n",
        "  color_channel=3\n",
        "  brush_path='SPIRAL-tensorflow/assets/brushes/dry_brush.myb'\n",
        "  train=True\n",
        "  data_dir=Path('data')"
      ],
      "execution_count": 0,
      "outputs": []
    },
    {
      "metadata": {
        "id": "TYCysScxPj3v",
        "colab_type": "text"
      },
      "cell_type": "markdown",
      "source": [
        "# painting environment"
      ]
    },
    {
      "metadata": {
        "id": "2z3CXRd1TRma",
        "colab_type": "code",
        "colab": {}
      },
      "cell_type": "code",
      "source": [
        "class PaintMode:\n",
        "  STROKES_ONLY = 0\n",
        "  JUMP_STROKES = 1\n",
        "  CONNECTED_STROKES = 2\n",
        "\n",
        "class ColorEnv():\n",
        "    head = 0.25\n",
        "    tail = 0.75\n",
        "    \n",
        "    # all 0 to 1\n",
        "    actions_to_idx = {\n",
        "        'pressure': 0,\n",
        "        'size': 1,\n",
        "        'control_x': 2,\n",
        "        'control_y': 3,\n",
        "        'end_x': 4,\n",
        "        'end_y': 5,\n",
        "        'color_r': 6,\n",
        "        'color_g': 7,\n",
        "        'color_b': 8,\n",
        "        'start_x': 9,\n",
        "        'start_y': 10,\n",
        "        'entry_pressure': 11,\n",
        "    }\n",
        "\n",
        "    def __init__(self, args, paint_mode=PaintMode.JUMP_STROKES):\n",
        "        self.args = args\n",
        "        self.paint_mode = paint_mode\n",
        "\n",
        "        # screen\n",
        "        self.screen_size = args.screen_size\n",
        "        self.height, self.width = self.screen_size, self.screen_size\n",
        "        self.observation_shape = [\n",
        "                self.height, self.width, args.color_channel]\n",
        "\n",
        "        # location\n",
        "        self.location_size = args.location_size\n",
        "        self.location_shape = [self.location_size, self.location_size]\n",
        "        \n",
        "        self.prev_x, self.prev_y, self.prev_pressure = None, None, None\n",
        "    \n",
        "    @staticmethod\n",
        "    def pretty_print_action(ac):\n",
        "        for k, v in ColorEnv.actions_to_idx.items():\n",
        "            print(k, ac[v])\n",
        "    \n",
        "    def random_action(self):\n",
        "        return np.random.uniform(size=[len(self.actions_to_idx)])\n",
        "      \n",
        "    def reset(self):\n",
        "        self.intermediate_images = []\n",
        "        self.prev_x, self.prev_y, self.prev_pressure = None, None, None\n",
        "\n",
        "        self.s = tiledsurface.Surface()\n",
        "        self.s.flood_fill(0, 0, (255, 255, 255), (0, 0, 64, 64), 0, self.s)\n",
        "        self.s.begin_atomic()\n",
        "\n",
        "        with open(self.args.brush_path) as fp:\n",
        "            self.bi = brush.BrushInfo(fp.read())\n",
        "        self.b = brush.Brush(self.bi)\n",
        "\n",
        "    def draw(self, ac, s=None, dtime=1):\n",
        "        # Just added this\n",
        "        if self.paint_mode == PaintMode.STROKES_ONLY:\n",
        "          self.s.clear()\n",
        "          self.s.flood_fill(0, 0, (255, 255, 255), (0, 0, 64, 64), 0, self.s)\n",
        "          self.s.end_atomic()\n",
        "          self.s.begin_atomic()\n",
        "        \n",
        "        if s is None:\n",
        "            s = self.s\n",
        "\n",
        "        s_x, s_y = ac[self.actions_to_idx['start_x']]*64, ac[self.actions_to_idx['start_y']]*64  \n",
        "        e_x, e_y = ac[self.actions_to_idx['end_x']]*64, ac[self.actions_to_idx['end_y']]*64\n",
        "        c_x, c_y = ac[self.actions_to_idx['control_x']]*64, ac[self.actions_to_idx['control_y']]*64\n",
        "        color = (\n",
        "            ac[self.actions_to_idx['color_r']],\n",
        "            ac[self.actions_to_idx['color_g']],\n",
        "            ac[self.actions_to_idx['color_b']],\n",
        "        )\n",
        "        pressure = ac[self.actions_to_idx['pressure']]*0.8\n",
        "        entry_pressure = ac[self.actions_to_idx['entry_pressure']]*0.8\n",
        "        size = ac[self.actions_to_idx['size']] * 2.\n",
        "        \n",
        "        if self.paint_mode == PaintMode.CONNECTED_STROKES:\n",
        "            if self.prev_x is not None:\n",
        "                s_x, s_y, entry_pressure = self.prev_x, self.prev_y, self.prev_pressure\n",
        "            self.prev_x, self.prev_y, self.prev_pressure = e_x, e_y, pressure\n",
        "\n",
        "        self.b.brushinfo.set_color_rgb(color)\n",
        "        \n",
        "        self.b.brushinfo.set_base_value('radius_logarithmic', size)\n",
        "\n",
        "        # Move brush to starting point without leaving it on the canvas.\n",
        "        self._stroke_to(s_x, s_y, 0)\n",
        "\n",
        "        self._draw(s_x, s_y, e_x, e_y, c_x, c_y, entry_pressure, pressure, size, color, dtime)\n",
        "\n",
        "    def _draw(self, s_x, s_y, e_x, e_y, c_x, c_y,\n",
        "              entry_pressure, pressure, size, color, dtime):\n",
        "\n",
        "        # if straight line or jump\n",
        "        if pressure == 0:\n",
        "            self.b.stroke_to(\n",
        "                    self.s.backend, e_x, e_y, pressure, 0, 0, dtime)\n",
        "        else:\n",
        "            self.curve(c_x, c_y, s_x, s_y, e_x, e_y, entry_pressure, pressure)\n",
        "            \n",
        "        # Relieve brush pressure for next jump\n",
        "        self._stroke_to(e_x, e_y, 0)\n",
        "\n",
        "        self.s.end_atomic()\n",
        "        self.s.begin_atomic()\n",
        "\n",
        "    # sx, sy = starting point\n",
        "    # ex, ey = end point\n",
        "    # kx, ky = curve point from last line\n",
        "    # lx, ly = last point from InteractionMode update\n",
        "    def curve(self, cx, cy, sx, sy, ex, ey, entry_pressure, pressure):\n",
        "        #entry_p, midpoint_p, junk, prange2, head, tail\n",
        "        entry_p, midpoint_p, prange1, prange2, h, t = \\\n",
        "                self._line_settings(entry_pressure, pressure)\n",
        "\n",
        "        points_in_curve = 100\n",
        "        mx, my = midpoint(sx, sy, ex, ey)\n",
        "        length, nx, ny = length_and_normal(mx, my, cx, cy)\n",
        "        cx, cy = multiply_add(mx, my, nx, ny, length*2)\n",
        "        x1, y1 = difference(sx, sy, cx, cy)\n",
        "        x2, y2 = difference(cx, cy, ex, ey)\n",
        "        head = points_in_curve * h\n",
        "        head_range = int(head)+1\n",
        "        tail = points_in_curve * t\n",
        "        tail_range = int(tail)+1\n",
        "        tail_length = points_in_curve - tail\n",
        "\n",
        "        # Beginning\n",
        "        px, py = point_on_curve_1(1, cx, cy, sx, sy, x1, y1, x2, y2)\n",
        "        length, nx, ny = length_and_normal(sx, sy, px, py)\n",
        "        bx, by = multiply_add(sx, sy, nx, ny, 0.25)\n",
        "        self._stroke_to(bx, by, entry_p)\n",
        "        pressure = abs(1/head * prange1 + entry_p)\n",
        "        self._stroke_to(px, py, pressure)\n",
        "\n",
        "        for i in xrange(2, head_range):\n",
        "            px, py = point_on_curve_1(i, cx, cy, sx, sy, x1, y1, x2, y2)\n",
        "            pressure = abs(i/head * prange1 + entry_p)\n",
        "            self._stroke_to(px, py, pressure)\n",
        "\n",
        "        # Middle\n",
        "        for i in xrange(head_range, tail_range):\n",
        "            px, py = point_on_curve_1(i, cx, cy, sx, sy, x1, y1, x2, y2)\n",
        "            self._stroke_to(px, py, midpoint_p)\n",
        "\n",
        "        # End\n",
        "        for i in xrange(tail_range, points_in_curve+1):\n",
        "            px, py = point_on_curve_1(i, cx, cy, sx, sy, x1, y1, x2, y2)\n",
        "            pressure = abs((i-tail)/tail_length * prange2 + midpoint_p)\n",
        "            self._stroke_to(px, py, pressure)\n",
        "\n",
        "        return pressure\n",
        "\n",
        "    def _stroke_to(self, x, y, pressure, duration=0.1):\n",
        "        self.b.stroke_to(\n",
        "                self.s.backend,\n",
        "                x, y,\n",
        "                pressure,\n",
        "                0.0, 0.0,\n",
        "                duration)\n",
        "        self.s.end_atomic()\n",
        "        self.s.begin_atomic()\n",
        "        self.intermediate_images.append(self.image)\n",
        "\n",
        "    def save_image(self, path=\"test.png\"):\n",
        "        Image.fromarray(self.image.astype(np.uint8).squeeze()).save(path)\n",
        "        #self.s.save_as_png(path, alpha=False)\n",
        "\n",
        "    @property\n",
        "    def image(self):\n",
        "        rect = [0, 0, self.height, self.width]\n",
        "        scanline_strips = \\\n",
        "                surface.scanline_strips_iter(self.s, rect)\n",
        "        return next(scanline_strips)\n",
        "\n",
        "    def _line_settings(self, entry_pressure, pressure):\n",
        "        p1 = entry_pressure\n",
        "        p2 = (entry_pressure + pressure) / 2\n",
        "        p3 = pressure\n",
        "        if self.head == 0.0001:\n",
        "            p1 = p2\n",
        "        prange1 = p2 - p1\n",
        "        prange2 = p3 - p2\n",
        "        return p1, p2, prange1, prange2, self.head, self.tail\n"
      ],
      "execution_count": 0,
      "outputs": []
    },
    {
      "metadata": {
        "id": "DbTsHSnOWqG6",
        "colab_type": "text"
      },
      "cell_type": "markdown",
      "source": [
        "# Sanity check data"
      ]
    },
    {
      "metadata": {
        "id": "nLLVVhBGjdX5",
        "colab_type": "code",
        "outputId": "46727105-c752-4188-eafb-70c4077c8bca",
        "colab": {
          "base_uri": "https://localhost:8080/",
          "height": 122
        }
      },
      "cell_type": "code",
      "source": [
        "loaded = np.load('data/episodes_0.npz')\n",
        "\n",
        "w=args.screen_size\n",
        "h=args.screen_size\n",
        "fig=plt.figure(figsize=(30, 10))\n",
        "cols = 10\n",
        "\n",
        "smaller_arr = loaded['strokes'][:cols]\n",
        "\n",
        "for col in range(cols):\n",
        "    img = smaller_arr[col][:, :, :3]\n",
        "    #print(img.shape)\n",
        "    fig.add_subplot(1, 20, col+1)\n",
        "    plt.grid(False)\n",
        "    plt.imshow(img)\n",
        "plt.show()"
      ],
      "execution_count": 0,
      "outputs": [
        {
          "output_type": "display_data",
          "data": {
            "image/png": "[encoded data removed]",
            "text/plain": [
              "<Figure size 2160x720 with 10 Axes>"
            ]
          },
          "metadata": {
            "tags": []
          }
        }
      ]
    },
    {
      "metadata": {
        "id": "4OQ0qyTrYuv1",
        "colab_type": "code",
        "colab": {}
      },
      "cell_type": "code",
      "source": [
        "for ac in loaded['actions'][:cols]:\n",
        "  print('___')\n",
        "  ColorEnv.pretty_print_action(ac)"
      ],
      "execution_count": 0,
      "outputs": []
    },
    {
      "metadata": {
        "id": "fGG8iiojlWHy",
        "colab_type": "text"
      },
      "cell_type": "markdown",
      "source": [
        "# VAE Neural Painter"
      ]
    },
    {
      "metadata": {
        "id": "WhkS4KSjR3jg",
        "colab_type": "code",
        "colab": {}
      },
      "cell_type": "code",
      "source": [
        "class ConvVAE(object):\n",
        "  def __init__(self, z_size=64, batch_size=100, learning_rate=0.0001, kl_tolerance=0.5, is_training=True, reuse=False, gpu_mode=True, graph=None):\n",
        "    self.z_size = z_size\n",
        "    self.batch_size = batch_size\n",
        "    self.learning_rate = learning_rate\n",
        "    self.is_training = is_training\n",
        "    self.kl_tolerance = kl_tolerance\n",
        "    self.reuse = reuse\n",
        "    # Is it okay to comment this out? with tf.variable_scope('conv_vae', reuse=self.reuse):\n",
        "    if not gpu_mode:\n",
        "      with tf.device('/cpu:0'):\n",
        "        tf.logging.info('conv_vae using cpu.')\n",
        "        self._build_graph(graph)\n",
        "    else:\n",
        "      tf.logging.info('conv_vae using gpu.')\n",
        "      self._build_graph(graph)\n",
        "    self._init_session()\n",
        "  \n",
        "  def build_decoder(self, z, reuse=False):\n",
        "    with tf.variable_scope('decoder', reuse=reuse):\n",
        "      h = tf.layers.dense(z, 4*256, name=\"fc\")\n",
        "      h = tf.reshape(h, [-1, 1, 1, 4*256])\n",
        "      h = tf.layers.conv2d_transpose(h, 128, 5, strides=2, activation=tf.nn.relu, name=\"deconv1\")\n",
        "      h = tf.layers.conv2d_transpose(h, 64, 5, strides=2, activation=tf.nn.relu, name=\"deconv2\")\n",
        "      h = tf.layers.conv2d_transpose(h, 32, 6, strides=2, activation=tf.nn.relu, name=\"deconv3\")\n",
        "      return tf.layers.conv2d_transpose(h, 3, 6, strides=2, activation=tf.nn.sigmoid, name=\"deconv4\")\n",
        "  \n",
        "  def build_predictor(self, actions, reuse=False, is_training=False):\n",
        "    with tf.variable_scope('predictor', reuse=reuse):\n",
        "      h = tf.layers.dense(actions, 256, activation=tf.nn.leaky_relu, name=\"fc1\")\n",
        "      h = tf.layers.batch_normalization(h, training=is_training, name=\"bn1\")\n",
        "      h = tf.layers.dense(h, 64, activation=tf.nn.leaky_relu, name=\"fc2\")\n",
        "      h = tf.layers.batch_normalization(h, training=is_training, name=\"bn2\")\n",
        "      h = tf.layers.dense(h, 64, activation=tf.nn.leaky_relu, name=\"fc3\")\n",
        "      h = tf.layers.batch_normalization(h, training=is_training, name=\"bn3\")\n",
        "      return tf.layers.dense(h, self.z_size, name='fc4')\n",
        "  \n",
        "  def _build_graph(self, graph):\n",
        "    if graph is None:\n",
        "      self.g = tf.Graph()\n",
        "    else:\n",
        "      self.g = graph\n",
        "    with self.g.as_default(), tf.variable_scope('conv_vae', reuse=self.reuse):\n",
        "\n",
        "      #### autoencoding part\n",
        "      self.x = tf.placeholder(tf.float32, shape=[None, 64, 64, 3])\n",
        "      \n",
        "      # Encoder\n",
        "      h = tf.layers.conv2d(self.x, 32, 4, strides=2, activation=tf.nn.relu, name=\"enc_conv1\")\n",
        "      h = tf.layers.conv2d(h, 64, 4, strides=2, activation=tf.nn.relu, name=\"enc_conv2\")\n",
        "      h = tf.layers.conv2d(h, 128, 4, strides=2, activation=tf.nn.relu, name=\"enc_conv3\")\n",
        "      h = tf.layers.conv2d(h, 256, 4, strides=2, activation=tf.nn.relu, name=\"enc_conv4\")\n",
        "      h = tf.reshape(h, [-1, 2*2*256])\n",
        "\n",
        "      # VAE\n",
        "      self.mu = tf.layers.dense(h, self.z_size, name=\"enc_fc_mu\")\n",
        "      self.logvar = tf.layers.dense(h, self.z_size, name=\"enc_fc_log_var\")\n",
        "      self.sigma = tf.exp(self.logvar / 2.0)\n",
        "      #self.epsilon = tf.random_normal([self.batch_size, self.z_size])\n",
        "      self.epsilon = tf.random_normal([tf.shape(self.sigma)[0], self.z_size])\n",
        "      self.z = self.mu + self.sigma * self.epsilon\n",
        "\n",
        "      # Decoder\n",
        "      self.y = self.build_decoder(self.z)\n",
        "      \n",
        "      #### predicting part\n",
        "      self.actions = tf.placeholder(tf.float32, shape=[None, 12])\n",
        "      self.predicted_z = self.build_predictor(self.actions, is_training=self.is_training)\n",
        "      self.predicted_y = self.build_decoder(self.predicted_z, reuse=True)\n",
        "      \n",
        "      # train ops\n",
        "      if self.is_training:\n",
        "        self.global_step = tf.Variable(0, name='global_step', trainable=False)\n",
        "        self.uneven_multiplier = tf.placeholder_with_default(1.0, [])\n",
        "        summ_uneven_mult = tf.summary.scalar('uneven_multiplier', self.uneven_multiplier)\n",
        "\n",
        "        eps = 1e-6 # avoid taking log of zero\n",
        "        \n",
        "        mask = tf.reduce_mean(\n",
        "          self.x,\n",
        "          reduction_indices = [3]\n",
        "        )\n",
        "        stroke_whitespace = tf.equal(mask, 1.0)\n",
        "        mask = tf.where(stroke_whitespace, tf.ones(tf.shape(mask)), self.uneven_multiplier*tf.ones(tf.shape(mask)))\n",
        "        mask = tf.reshape(mask, [-1, 64, 64, 1])\n",
        "        mask = tf.tile(mask, [1, 1, 1, 3])\n",
        "        summ_mask = tf.summary.image('mask', mask, max_outputs=3)\n",
        "        print(mask.get_shape())\n",
        "        \n",
        "        # reconstruction loss\n",
        "        self.r_loss = tf.reduce_sum(\n",
        "          (tf.square(self.x - self.y))*mask,\n",
        "          reduction_indices = [1,2,3]\n",
        "        )\n",
        "        self.r_loss = tf.reduce_mean(self.r_loss)\n",
        "\n",
        "        # augmented kl loss per dim\n",
        "        self.kl_loss = - 0.5 * tf.reduce_sum(\n",
        "          (1 + self.logvar - tf.square(self.mu) - tf.exp(self.logvar)),\n",
        "          reduction_indices = 1\n",
        "        )\n",
        "        self.kl_loss = tf.maximum(self.kl_loss, self.kl_tolerance * self.z_size)\n",
        "        self.kl_loss = tf.reduce_mean(self.kl_loss)\n",
        "        \n",
        "        summ_recon_loss = tf.summary.scalar('recon_loss', self.r_loss)\n",
        "        summ_kl_loss = tf.summary.scalar('kl_loss', self.kl_loss)\n",
        "        self.loss = self.r_loss + self.kl_loss\n",
        "        \n",
        "        # training the vae\n",
        "        self.lr = tf.Variable(self.learning_rate, trainable=False)\n",
        "        summ_lr = tf.summary.scalar('lr', self.lr)\n",
        "        self.optimizer = tf.train.AdamOptimizer(self.lr)\n",
        "        grads = self.optimizer.compute_gradients(\n",
        "            self.loss, \n",
        "            tf.global_variables('conv_vae/enc_*')+tf.global_variables('conv_vae/decoder*')) # can potentially clip gradients here.\n",
        "\n",
        "        self.train_op = self.optimizer.apply_gradients(\n",
        "          grads, global_step=self.global_step, name='train_step')\n",
        "        summ_loss = tf.summary.scalar('loss', self.loss)\n",
        "        \n",
        "        # training the predictor\n",
        "        self.predictor_loss = tf.reduce_mean(tf.square(self.predicted_z - self.z))\n",
        "        self.optimizer2 = tf.train.AdamOptimizer(self.lr)\n",
        "        grads2 = self.optimizer2.compute_gradients(self.predictor_loss, tf.global_variables('conv_vae/predictor*'))\n",
        "        with tf.control_dependencies(tf.get_collection(tf.GraphKeys.UPDATE_OPS)):\n",
        "          self.train_op2 = self.optimizer2.apply_gradients(\n",
        "            grads2, global_step=self.global_step, name='train_step2')\n",
        "        summ_predictor_loss = tf.summary.scalar('predictor_loss', self.predictor_loss)\n",
        "      \n",
        "        #summary ops\n",
        "        summ_inp_img = tf.summary.image('inp_img', self.x, max_outputs=3)\n",
        "        summ_output_img = tf.summary.image('output_img', self.y, max_outputs=3)\n",
        "        summ_predicted_output_img = tf.summary.image('predicted_output_img', self.predicted_y, max_outputs=3)\n",
        "        self.summary_op = tf.summary.merge([\n",
        "            summ_inp_img, summ_output_img, summ_loss, summ_kl_loss, summ_recon_loss,\n",
        "            summ_mask, summ_uneven_mult, summ_lr\n",
        "        ])\n",
        "        self.summary_op_2 = tf.summary.merge([\n",
        "            summ_inp_img, summ_predictor_loss, summ_output_img, summ_predicted_output_img, summ_lr\n",
        "        ])\n",
        "        \n",
        "\n",
        "      # initialize vars\n",
        "      self.init = tf.global_variables_initializer()\n",
        "  \n",
        "  def generate_stroke_graph(self, actions):\n",
        "    with tf.variable_scope('conv_vae', reuse=True):\n",
        "      with self.g.as_default():\n",
        "        # Encoder?\n",
        "        z = self.build_predictor(actions, reuse=True, is_training=False)\n",
        "\n",
        "        # Decoder\n",
        "        return self.build_decoder(z, reuse=True)\n",
        "\n",
        "  def _init_session(self):\n",
        "    \"\"\"Launch TensorFlow session and initialize variables\"\"\"\n",
        "    self.sess = tf.Session(graph=self.g)\n",
        "    self.sess.run(self.init)\n",
        "  def close_sess(self):\n",
        "    \"\"\" Close TensorFlow session \"\"\"\n",
        "    self.sess.close()\n",
        "  def save_model(self, model_save_path='tf_vae'):\n",
        "    sess = self.sess\n",
        "    step = sess.run(self.global_step)\n",
        "    with self.g.as_default():\n",
        "      saver = tf.train.Saver(tf.global_variables())\n",
        "    checkpoint_path = os.path.join(model_save_path, 'vae')\n",
        "    tf.logging.info('saving model %s.', checkpoint_path)\n",
        "    saver.save(sess, checkpoint_path, step) # just keep one\n",
        "  def load_checkpoint(self, checkpoint_path='tf_vae', actual_path=None):\n",
        "    sess = self.sess\n",
        "    with self.g.as_default():\n",
        "      saver = tf.train.Saver(tf.global_variables())\n",
        "    ckpt = tf.train.get_checkpoint_state(checkpoint_path)\n",
        "    if actual_path is None:\n",
        "      actual_path = ckpt.model_checkpoint_path\n",
        "    print('loading model', actual_path)\n",
        "    tf.logging.info('Loading model %s.', actual_path)\n",
        "    saver.restore(sess, actual_path)\n",
        "  def load_only_vae_checkpoint(self, checkpoint_path='tf_vae', actual_path=None):\n",
        "    sess = self.sess\n",
        "    with self.g.as_default():\n",
        "      to_save = tf.global_variables('conv_vae/enc_*')+tf.global_variables('conv_vae/decoder*')+tf.global_variables('conv_vae/conv_vae/enc_*')+tf.global_variables('conv_vae/conv_vae/decoder*')+tf.global_variables('conv_vae/global_step')\n",
        "      print(to_save)\n",
        "      saver = tf.train.Saver(to_save)\n",
        "    ckpt = tf.train.get_checkpoint_state(checkpoint_path)\n",
        "    if actual_path is None:\n",
        "      actual_path = ckpt.model_checkpoint_path\n",
        "    print('loading model', actual_path)\n",
        "    tf.logging.info('Loading model %s.', actual_path)\n",
        "    saver.restore(sess, actual_path)"
      ],
      "execution_count": 0,
      "outputs": []
    },
    {
      "metadata": {
        "id": "kP8In-W8XZZQ",
        "colab_type": "text"
      },
      "cell_type": "markdown",
      "source": [
        "# Training the VAE Neural painter"
      ]
    },
    {
      "metadata": {
        "id": "AS1ud5C1ZYQL",
        "colab_type": "code",
        "colab": {}
      },
      "cell_type": "code",
      "source": [
        "# Hyperparameters for ConvVAE\n",
        "z_size=64\n",
        "batch_size=100\n",
        "learning_rate=0.0001\n",
        "kl_tolerance=0.5\n",
        "\n",
        "# Parameters for training\n",
        "NUM_EPOCH = 5\n",
        "DATA_DIR = \"record\"\n",
        "\n",
        "model_save_path = \"tf_vae\"\n",
        "if not os.path.exists(model_save_path):\n",
        "  os.makedirs(model_save_path)"
      ],
      "execution_count": 0,
      "outputs": []
    },
    {
      "metadata": {
        "id": "caVhW8HYYwpE",
        "colab_type": "code",
        "colab": {}
      },
      "cell_type": "code",
      "source": [
        "def reset_graph():\n",
        "  if 'sess' in globals() and sess:\n",
        "    sess.close()\n",
        "  tf.reset_default_graph()\n",
        "\n",
        "reset_graph()"
      ],
      "execution_count": 0,
      "outputs": []
    },
    {
      "metadata": {
        "id": "5Fh546j_Z9KC",
        "colab_type": "code",
        "outputId": "672151f9-0fe1-4c83-a897-58dd3110103a",
        "colab": {
          "base_uri": "https://localhost:8080/",
          "height": 397
        }
      },
      "cell_type": "code",
      "source": [
        "vae = ConvVAE(z_size=z_size,\n",
        "              batch_size=batch_size,\n",
        "              learning_rate=learning_rate,\n",
        "              kl_tolerance=kl_tolerance,\n",
        "              is_training=True,\n",
        "              reuse=False,\n",
        "              gpu_mode=True)\n"
      ],
      "execution_count": 0,
      "outputs": [
        {
          "output_type": "stream",
          "text": [
            "INFO:tensorflow:conv_vae using gpu.\n",
            "WARNING:tensorflow:From <ipython-input-6-aa0208b17a80>:49: conv2d (from tensorflow.python.layers.convolutional) is deprecated and will be removed in a future version.\n",
            "Instructions for updating:\n",
            "Use keras.layers.conv2d instead.\n",
            "WARNING:tensorflow:From /usr/local/lib/python2.7/dist-packages/tensorflow/python/framework/op_def_library.py:263: colocate_with (from tensorflow.python.framework.ops) is deprecated and will be removed in a future version.\n",
            "Instructions for updating:\n",
            "Colocations handled automatically by placer.\n",
            "WARNING:tensorflow:From <ipython-input-6-aa0208b17a80>:56: dense (from tensorflow.python.layers.core) is deprecated and will be removed in a future version.\n",
            "Instructions for updating:\n",
            "Use keras.layers.dense instead.\n",
            "WARNING:tensorflow:From <ipython-input-6-aa0208b17a80>:23: conv2d_transpose (from tensorflow.python.layers.convolutional) is deprecated and will be removed in a future version.\n",
            "Instructions for updating:\n",
            "Use keras.layers.conv2d_transpose instead.\n",
            "WARNING:tensorflow:From <ipython-input-6-aa0208b17a80>:31: batch_normalization (from tensorflow.python.layers.normalization) is deprecated and will be removed in a future version.\n",
            "Instructions for updating:\n",
            "Use keras.layers.batch_normalization instead.\n",
            "(?, 64, 64, 3)\n",
            "WARNING:tensorflow:From /usr/local/lib/python2.7/dist-packages/tensorflow/python/ops/math_ops.py:3066: to_int32 (from tensorflow.python.ops.math_ops) is deprecated and will be removed in a future version.\n",
            "Instructions for updating:\n",
            "Use tf.cast instead.\n"
          ],
          "name": "stdout"
        }
      ]
    },
    {
      "metadata": {
        "id": "nCuWgbEhUekc",
        "colab_type": "code",
        "colab": {}
      },
      "cell_type": "code",
      "source": [
        "# Run this to start from a checkpoint\n",
        "# vae.load_checkpoint('tf_vae')\n"
      ],
      "execution_count": 0,
      "outputs": []
    },
    {
      "metadata": {
        "id": "firNYjRpX3h3",
        "colab_type": "text"
      },
      "cell_type": "markdown",
      "source": [
        "## Running tensorboard"
      ]
    },
    {
      "metadata": {
        "id": "yV4rMj60r74b",
        "colab_type": "code",
        "outputId": "362407bc-0ac3-4083-e350-5a7be44b2074",
        "colab": {
          "base_uri": "https://localhost:8080/",
          "height": 35
        }
      },
      "cell_type": "code",
      "source": [
        "#!rm -r logdir\n",
        "\n",
        "get_ipython().system_raw(\n",
        "    'tensorboard --logdir {} --host 0.0.0.0 --port 6006 &'\n",
        "    .format('logdir')\n",
        ")\n",
        "\n",
        "get_ipython().system_raw('./ngrok http 6006 &')\n",
        "\n",
        "!curl -s http://localhost:4040/api/tunnels | python3 -c \\\n",
        "    \"import sys, json; print(json.load(sys.stdin)['tunnels'][0]['public_url'])\"\n"
      ],
      "execution_count": 0,
      "outputs": [
        {
          "output_type": "stream",
          "text": [
            "https://6a436cad.ngrok.io\n"
          ],
          "name": "stdout"
        }
      ]
    },
    {
      "metadata": {
        "id": "6aa-d-yRmP56",
        "colab_type": "code",
        "colab": {}
      },
      "cell_type": "code",
      "source": [
        "#!kill $(lsof -t -i:6006)"
      ],
      "execution_count": 0,
      "outputs": []
    },
    {
      "metadata": {
        "id": "TtfxFG3mX63Z",
        "colab_type": "text"
      },
      "cell_type": "markdown",
      "source": [
        "## Actual training"
      ]
    },
    {
      "metadata": {
        "id": "LIVXqTShaG4e",
        "colab_type": "code",
        "colab": {}
      },
      "cell_type": "code",
      "source": [
        "# TODO: Make file loading more efficient if needed\n",
        "print(\"train\", \"step\", \"loss\", \"recon_loss\", \"kl_loss\")\n",
        "episode_files = tf.gfile.Glob('data/episodes_*.npz')\n",
        "\n",
        "\n",
        "train_writer = tf.summary.FileWriter('logdir', vae.sess.graph)\n",
        "for epoch in range(NUM_EPOCH):\n",
        "  np.random.shuffle(episode_files)\n",
        "  \n",
        "  ep_files = episode_files\n",
        "  \n",
        "  for ep_file in ep_files:\n",
        "    print(ep_file)\n",
        "    loaded = np.load(ep_file)\n",
        "    actions = loaded['actions']\n",
        "    images = loaded['strokes']\n",
        "    images = np.reshape(images, [-1, 64, 64, 3])\n",
        "    #images = images[:, :, :, :3]\n",
        "    print(images.shape)\n",
        "    num_batches = int(np.floor(len(images)/batch_size))\n",
        "    print(\"num_batches\", num_batches)\n",
        "\n",
        "    for idx in range(num_batches):\n",
        "      train_step = vae.sess.run(vae.global_step)\n",
        "      \n",
        "      # When training the VAE at the beginning, we add more weight on matching the non-white areas of the brushstroke\n",
        "      # for the reconstructin loss. Otherwise, it will never learn.\n",
        "      if train_step > 10000:\n",
        "        uneven_multiplier = 1.0\n",
        "      else:\n",
        "        uneven_multiplier = 10.0\n",
        "      \n",
        "      batch = images[idx*batch_size:(idx+1)*batch_size]\n",
        "\n",
        "      obs = batch.astype(np.float)/255.0\n",
        "\n",
        "      feed = {vae.x: obs, \n",
        "              vae.actions: actions[idx*batch_size:(idx+1)*batch_size], \n",
        "              vae.uneven_multiplier: uneven_multiplier}\n",
        "\n",
        "      if train_step < 200000:\n",
        "        # First part of training trains the VAE\n",
        "        (train_loss, _, summ) = vae.sess.run([\n",
        "          vae.loss, vae.train_op, vae.summary_op\n",
        "        ], feed)\n",
        "      else:\n",
        "        # Second part of training trains the predictor\n",
        "        \n",
        "        # Manually adjusted learning rate. Can probably change this to other decay strategies.\n",
        "        if train_step < 220000:\n",
        "          feed[vae.lr] = 0.01\n",
        "        elif train_step < 280000:\n",
        "          feed[vae.lr] = 0.001\n",
        "        else:\n",
        "          feed[vae.lr] = 0.0001\n",
        "        (train_loss, _, summ) = vae.sess.run([\n",
        "          vae.predictor_loss, vae.train_op2, vae.summary_op_2\n",
        "        ], feed)\n",
        "\n",
        "      if ((train_step+1) % 50 == 0):\n",
        "        train_writer.add_summary(summ, train_step)\n",
        "      if ((train_step+1) % 500 == 0):\n",
        "        print(\"step\", (train_step+1), train_loss)\n",
        "      if ((train_step+1) % 10000 == 0):\n",
        "        vae.save_model()"
      ],
      "execution_count": 0,
      "outputs": []
    },
    {
      "metadata": {
        "id": "Etr_QcRyVyxD",
        "colab_type": "code",
        "colab": {}
      },
      "cell_type": "code",
      "source": [
        ""
      ],
      "execution_count": 0,
      "outputs": []
    },
    {
      "metadata": {
        "id": "JbgXXtjrDoXs",
        "colab_type": "code",
        "colab": {}
      },
      "cell_type": "code",
      "source": [
        ""
      ],
      "execution_count": 0,
      "outputs": []
    },
    {
      "metadata": {
        "id": "pSm9JIOM3hiA",
        "colab_type": "code",
        "colab": {}
      },
      "cell_type": "code",
      "source": [
        ""
      ],
      "execution_count": 0,
      "outputs": []
    },
    {
      "metadata": {
        "id": "4b1l22x5RnzM",
        "colab_type": "text"
      },
      "cell_type": "markdown",
      "source": [
        "# Test your trained model"
      ]
    },
    {
      "metadata": {
        "id": "6GJ4LqIFSq5m",
        "colab_type": "code",
        "colab": {}
      },
      "cell_type": "code",
      "source": [
        "loaded = np.load('data/episodes_0.npz')\n",
        "images = loaded['strokes']\n",
        "images = np.reshape(images[-100:], [-1, 64, 64, 3])\n",
        "actions = loaded['actions'][-100:]"
      ],
      "execution_count": 0,
      "outputs": []
    },
    {
      "metadata": {
        "id": "YrLlDqTW5UL7",
        "colab_type": "code",
        "outputId": "26aba049-bd13-4259-eba6-dae1387be7cd",
        "colab": {
          "base_uri": "https://localhost:8080/",
          "height": 35
        }
      },
      "cell_type": "code",
      "source": [
        "test_vae = ConvVAE(z_size=z_size,\n",
        "              batch_size=batch_size,\n",
        "              learning_rate=learning_rate,\n",
        "              kl_tolerance=kl_tolerance,\n",
        "              is_training=False,\n",
        "              reuse=False,\n",
        "              gpu_mode=False)"
      ],
      "execution_count": 0,
      "outputs": [
        {
          "output_type": "stream",
          "text": [
            "INFO:tensorflow:conv_vae using cpu.\n"
          ],
          "name": "stdout"
        }
      ]
    },
    {
      "metadata": {
        "id": "p9VgDNOy5USp",
        "colab_type": "code",
        "colab": {}
      },
      "cell_type": "code",
      "source": [
        "def plot_images(images):\n",
        "  h=args.screen_size\n",
        "  fig=plt.figure(figsize=(16, 16))\n",
        "  columns = len(images)\n",
        "  rows = 1\n",
        "\n",
        "  for i, img in enumerate(images):\n",
        "    img = img[:, :, :3]\n",
        "    #print(img.shape)\n",
        "    fig.add_subplot(rows, columns, i+1)\n",
        "    plt.grid(False)\n",
        "    plt.imshow(img)\n",
        "  plt.show()\n"
      ],
      "execution_count": 0,
      "outputs": []
    },
    {
      "metadata": {
        "id": "lnXoiZ6h5UQi",
        "colab_type": "code",
        "outputId": "9d31d167-b1bb-4cab-c1c2-a2855d04b8d4",
        "colab": {
          "base_uri": "https://localhost:8080/",
          "height": 521
        }
      },
      "cell_type": "code",
      "source": [
        "\n",
        "def experiment(to_plot, fn, actual=None):\n",
        "  test_vae.load_checkpoint(fn, actual)\n",
        "  images_to_plot = images[to_plot:to_plot+5].astype(np.float32)/255.\n",
        "  plot_images(images_to_plot)\n",
        "  decoded = test_vae.sess.run(test_vae.predicted_y, feed_dict={test_vae.actions: actions[to_plot:to_plot+5]})\n",
        "  plot_images(decoded)\n",
        "  \n",
        "  plt.show()\n",
        "  \n",
        "experiment(20, 'tf_vae')\n"
      ],
      "execution_count": 0,
      "outputs": [
        {
          "output_type": "stream",
          "text": [
            "('loading model', u'tf_vae/vae-270000')\n",
            "INFO:tensorflow:Loading model tf_vae/vae-270000.\n",
            "WARNING:tensorflow:From /usr/local/lib/python2.7/dist-packages/tensorflow/python/training/saver.py:1266: checkpoint_exists (from tensorflow.python.training.checkpoint_management) is deprecated and will be removed in a future version.\n",
            "Instructions for updating:\n",
            "Use standard file APIs to check for files with this prefix.\n",
            "INFO:tensorflow:Restoring parameters from tf_vae/vae-270000\n"
          ],
          "name": "stdout"
        },
        {
          "output_type": "display_data",
          "data": {
            "image/png": "[encoded data removed]",
            "text/plain": [
              "<Figure size 1152x1152 with 5 Axes>"
            ]
          },
          "metadata": {
            "tags": []
          }
        },
        {
          "output_type": "display_data",
          "data": {
            "image/png": "[encoded data removed]",
            "text/plain": [
              "<Figure size 1152x1152 with 5 Axes>"
            ]
          },
          "metadata": {
            "tags": []
          }
        }
      ]
    },
    {
      "metadata": {
        "id": "zi9hYX4VTUqi",
        "colab_type": "code",
        "outputId": "cbeb3416-dbec-47b4-9082-c8598b91fabd",
        "colab": {
          "base_uri": "https://localhost:8080/",
          "height": 584
        }
      },
      "cell_type": "code",
      "source": [
        "\n",
        "def experiment5(test_models, duration=10.0):\n",
        "  env = ColorEnv(args, paint_mode=PaintMode.STROKES_ONLY)\n",
        "  env.reset()\n",
        "  \n",
        "  NUM_ACS = 8\n",
        "  acs = [env.random_action() for _ in range(NUM_ACS)]\n",
        "  \n",
        "  def frame(t):\n",
        "    t_ = t / duration\n",
        "    t = np.abs((1.0-np.cos(NUM_ACS*np.pi*np.mod(t_, 1./NUM_ACS)))/2.0)\n",
        "    \n",
        "    new_ac = (1-t)*acs[int(np.floor(t_*NUM_ACS))] + t*acs[int((np.floor(t_*NUM_ACS)+1)%NUM_ACS)]\n",
        "    env.draw(new_ac)\n",
        "    im = env.image\n",
        "    im = im[:, :, :3]\n",
        "    stack_these = []\n",
        "    for test_gan in test_models:\n",
        "      decoded = test_gan.sess.run(test_gan.predicted_y, feed_dict={test_gan.actions: [new_ac]})[0]\n",
        "      decoded = (decoded*255).astype(np.uint8)\n",
        "      concatted = np.concatenate([im, decoded], 1)\n",
        "      stack_these.append(concatted)\n",
        "    return np.concatenate(stack_these, axis=0)\n",
        "  \n",
        "  clip = mpy.VideoClip(frame, duration=duration)\n",
        "  clip.write_videofile('tmp.mp4', fps=30.0)\n",
        "  display(mpy.ipython_display('tmp.mp4', height=400))\n",
        "\n",
        "  \n",
        "  \n",
        "_test_gans = [test_vae]\n",
        "_test_gans[0].load_checkpoint('tf_vae')\n",
        "experiment5(_test_gans, 20.)\n"
      ],
      "execution_count": 0,
      "outputs": [
        {
          "output_type": "stream",
          "text": [
            "('loading model', u'tf_vae/vae-270000')\n",
            "INFO:tensorflow:Loading model tf_vae/vae-270000.\n",
            "INFO:tensorflow:Restoring parameters from tf_vae/vae-270000\n",
            "[MoviePy] >>>> Building video tmp.mp4\n",
            "[MoviePy] Writing video tmp.mp4\n"
          ],
          "name": "stdout"
        },
        {
          "output_type": "stream",
          "text": [
            "100%|█████████▉| 600/601 [00:09<00:00, 63.68it/s]"
          ],
          "name": "stderr"
        },
        {
          "output_type": "stream",
          "text": [
            "[MoviePy] Done.\n",
            "[MoviePy] >>>> Video ready: tmp.mp4 \n",
            "\n"
          ],
          "name": "stdout"
        },
        {
          "output_type": "stream",
          "text": [
            "\n"
          ],
          "name": "stderr"
        },
        {
          "output_type": "display_data",
          "data": {
            "text/plain": [
              "<moviepy.video.io.html_tools.HTML2 object>"
            ],
            "text/html": [
              "<div align=middle><video height='400'src='data:video/mp4;base64,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' controls>Sorry, seems like your browser doesn't support HTML5 audio/video</video></div>"
            ]
          },
          "metadata": {
            "tags": []
          }
        }
      ]
    },
    {
      "metadata": {
        "id": "sPVLTncRLpTD",
        "colab_type": "code",
        "colab": {}
      },
      "cell_type": "code",
      "source": [
        ""
      ],
      "execution_count": 0,
      "outputs": []
    }
  ]
}